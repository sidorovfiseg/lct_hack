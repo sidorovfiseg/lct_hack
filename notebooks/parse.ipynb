{
 "cells": [
  {
   "cell_type": "code",
   "id": "initial_id",
   "metadata": {
    "collapsed": true,
    "ExecuteTime": {
     "end_time": "2024-06-23T20:44:11.558084Z",
     "start_time": "2024-06-23T20:44:11.554939Z"
    }
   },
   "source": [
    "from collections import Counter\n",
    "\n",
    "from googlesearch import search\n",
    "from duckduckgo_search import DDGS\n",
    "import requests\n",
    "from bs4 import BeautifulSoup\n",
    "import re"
   ],
   "outputs": [],
   "execution_count": 97
  },
  {
   "metadata": {},
   "cell_type": "code",
   "outputs": [],
   "execution_count": null,
   "source": "from google import google",
   "id": "d1e93a27c1666aa1"
  },
  {
   "metadata": {
    "ExecuteTime": {
     "end_time": "2024-06-23T20:34:21.030109Z",
     "start_time": "2024-06-23T20:34:21.026991Z"
    }
   },
   "cell_type": "code",
   "source": "ddgs = DDGS()",
   "id": "8f9c5e5107e07d54",
   "outputs": [],
   "execution_count": 80
  },
  {
   "metadata": {
    "ExecuteTime": {
     "end_time": "2024-06-22T17:03:51.802185Z",
     "start_time": "2024-06-22T17:03:50.984536Z"
    }
   },
   "cell_type": "code",
   "source": [
    "def get_inn(company_name):\n",
    "    search_url = \"https://www.google.com/search?q=\"\n",
    "    query = f\"{company_name}\"\n",
    "    response = requests.get(search_url + query)\n",
    "    \n",
    "    if response.status_code == 200:\n",
    "        soup = BeautifulSoup(response.text, 'html.parser')\n",
    "        for link in soup.find_all('a'):\n",
    "            href = link.get('href')\n",
    "            if \"ИНН\" in href:\n",
    "                print(href)\n",
    "                break\n",
    "    else:\n",
    "        print(f\"Error: Unable to fetch data (status code: {response.status_code})\")\n",
    "\n",
    "# Example usage\n",
    "company_name = \"Общество с ограниченной ответственностью \\\"Мики\\\"\"\n",
    "get_inn(company_name)"
   ],
   "id": "9bdc79476fbe9f3d",
   "outputs": [],
   "execution_count": 67
  },
  {
   "metadata": {
    "ExecuteTime": {
     "end_time": "2024-06-23T20:44:01.206353Z",
     "start_time": "2024-06-23T20:44:01.204186Z"
    }
   },
   "cell_type": "code",
   "source": "",
   "id": "b6ef20c0cab45efd",
   "outputs": [],
   "execution_count": 95
  },
  {
   "metadata": {
    "ExecuteTime": {
     "end_time": "2024-06-23T21:10:50.236961Z",
     "start_time": "2024-06-23T21:10:50.233364Z"
    }
   },
   "cell_type": "code",
   "source": [
    "def get_inn_duckduckgo(company_name):\n",
    "    query = company_name\n",
    "    query = query.replace('\"', '\\\\\"')\n",
    "    query += ' \"ИНН\"'\n",
    "    print(f\"{query=}\")\n",
    "    results = ddgs.text(query, max_results=20)\n",
    "    # results = search(query, num_results=2, advanced=True, safe=False, lang='ru')\n",
    "    \n",
    "    inn_pattern = re.compile(r\"ИНН\\s?(\\d+)\")\n",
    "    inn_numbers = []\n",
    "\n",
    "    for result in results:\n",
    "        print(f\"{result=}\")\n",
    "        title = result['title']\n",
    "        body = result['body']\n",
    "        print(f\"{title=}\")\n",
    "        print(f\"{body=}\")\n",
    "\n",
    "        title_inn = inn_pattern.findall(title)\n",
    "        body_inn = inn_pattern.findall(body)\n",
    "\n",
    "        inn_numbers.extend(title_inn)\n",
    "        inn_numbers.extend(body_inn)\n",
    "    \n",
    "    inn_counter = Counter(inn_numbers)\n",
    "    print(f\"{inn_counter=}\")\n",
    "    most_common_inn = inn_counter.most_common(1)\n",
    "\n",
    "    if most_common_inn:\n",
    "        print(f\"Most common INN: {most_common_inn[0][0]}\")\n",
    "    else:\n",
    "        print(\"No INN found\")\n"
   ],
   "id": "5246b941c794177",
   "outputs": [],
   "execution_count": 146
  },
  {
   "metadata": {
    "ExecuteTime": {
     "end_time": "2024-06-23T21:27:11.361326Z",
     "start_time": "2024-06-23T21:27:11.358887Z"
    }
   },
   "cell_type": "code",
   "source": "company_name = 'Федеральное государственное бюджетное образовательное учреждение высшего образования «Казанский национальный исследовательский технический университет им. А.Н. Туполева-КАИ» (КНИТУ-КАИ)'",
   "id": "7396de203c0dee5a",
   "outputs": [],
   "execution_count": 149
  },
  {
   "metadata": {
    "ExecuteTime": {
     "end_time": "2024-06-23T21:27:15.050053Z",
     "start_time": "2024-06-23T21:27:13.529147Z"
    }
   },
   "cell_type": "code",
   "source": "get_inn_duckduckgo(company_name)",
   "id": "13ebdc55f7640acc",
   "outputs": [
    {
     "name": "stdout",
     "output_type": "stream",
     "text": [
      "query='Федеральное государственное бюджетное образовательное учреждение высшего образования «Казанский национальный исследовательский технический университет им. А.Н. Туполева-КАИ» (КНИТУ-КАИ) \"ИНН\"'\n",
      "result={'title': 'ФГБОУ ВО \"КНИТУ\" Казань (ИНН 1655018804) адрес, официальный сайт и телефон', 'href': 'https://www.rusprofile.ru/id/7789500', 'body': 'ФГБОУ ВО \"КНИТУ\" (ИНН 1655018804) Казань реквизиты и официальный сайт организации. Юридический адрес, руководство, учредители, телефон и другие данные на Rusprofile.'}\n",
      "title='ФГБОУ ВО \"КНИТУ\" Казань (ИНН 1655018804) адрес, официальный сайт и телефон'\n",
      "body='ФГБОУ ВО \"КНИТУ\" (ИНН 1655018804) Казань реквизиты и официальный сайт организации. Юридический адрес, руководство, учредители, телефон и другие данные на Rusprofile.'\n",
      "inn_counter=Counter({'1655018804': 2})\n",
      "Most common INN: 1655018804\n"
     ]
    }
   ],
   "execution_count": 150
  },
  {
   "metadata": {},
   "cell_type": "code",
   "outputs": [],
   "execution_count": null,
   "source": "",
   "id": "4d77025e4ca4d377"
  }
 ],
 "metadata": {
  "kernelspec": {
   "display_name": "Python 3",
   "language": "python",
   "name": "python3"
  },
  "language_info": {
   "codemirror_mode": {
    "name": "ipython",
    "version": 2
   },
   "file_extension": ".py",
   "mimetype": "text/x-python",
   "name": "python",
   "nbconvert_exporter": "python",
   "pygments_lexer": "ipython2",
   "version": "2.7.6"
  }
 },
 "nbformat": 4,
 "nbformat_minor": 5
}
