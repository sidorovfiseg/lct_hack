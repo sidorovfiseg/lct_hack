{
 "cells": [
  {
   "cell_type": "code",
   "id": "initial_id",
   "metadata": {
    "collapsed": true,
    "ExecuteTime": {
     "end_time": "2024-06-16T09:57:38.106540Z",
     "start_time": "2024-06-16T09:57:38.103036Z"
    }
   },
   "source": [
    "import os\n",
    "\n",
    "import pandas as pd\n",
    "from pandasai import SmartDataframe\n",
    "from pandasai.llm.openai import OpenAI\n",
    "from pandasai.schemas.df_config import Config"
   ],
   "outputs": [],
   "execution_count": 15
  },
  {
   "metadata": {
    "ExecuteTime": {
     "end_time": "2024-06-16T09:47:56.148508Z",
     "start_time": "2024-06-16T09:47:24.871637Z"
    }
   },
   "cell_type": "code",
   "source": "big_df = pd.read_parquet('/Users/foryourselfand/Documents/patent_hack/data/DatasetOrg_cleaned.parquet')",
   "id": "ddc7f4336bd7da77",
   "outputs": [],
   "execution_count": 3
  },
  {
   "metadata": {
    "ExecuteTime": {
     "end_time": "2024-06-16T09:49:08.018026Z",
     "start_time": "2024-06-16T09:49:08.016057Z"
    }
   },
   "cell_type": "code",
   "source": "org_df = big_df",
   "id": "b5c1b1319cc318c7",
   "outputs": [],
   "execution_count": 9
  },
  {
   "metadata": {},
   "cell_type": "code",
   "source": "org_df.columns",
   "id": "ee96c52220beb3ed",
   "outputs": [],
   "execution_count": null
  },
  {
   "metadata": {
    "ExecuteTime": {
     "end_time": "2024-06-16T09:48:08.056328Z",
     "start_time": "2024-06-16T09:48:06.350917Z"
    }
   },
   "cell_type": "code",
   "source": [
    "inventions_df = pd.read_parquet('/Users/foryourselfand/Documents/patent_hack/data/База по изобретениям_cleaned.parquet')\n",
    "industrial_designs_df = pd.read_parquet(\n",
    "    '/Users/foryourselfand/Documents/patent_hack/data/База по промышленным образцам_cleaned.parquet')\n",
    "usefull_models_df = pd.read_parquet(\n",
    "    '/Users/foryourselfand/Documents/patent_hack/data/База по полезным моделям_cleaned.parquet')"
   ],
   "id": "40f2b13d887b973e",
   "outputs": [],
   "execution_count": 4
  },
  {
   "metadata": {
    "ExecuteTime": {
     "end_time": "2024-06-16T09:48:50.264173Z",
     "start_time": "2024-06-16T09:48:50.262516Z"
    }
   },
   "cell_type": "code",
   "source": "os.environ[\"PANDASAI_API_KEY\"] = \"$2a$10$WUXdxt0YBbsTbc2jkbLWx.gciPY7/6afonYh4PoOtwEI9bsTx9ZPe\"",
   "id": "1e8e43104d107ed1",
   "outputs": [],
   "execution_count": 8
  },
  {
   "metadata": {
    "ExecuteTime": {
     "end_time": "2024-06-16T09:58:09.028036Z",
     "start_time": "2024-06-16T09:58:09.006009Z"
    }
   },
   "cell_type": "code",
   "source": [
    "from pandasai import Agent\n",
    "\n",
    "llm = OpenAI(api_token=\"\", )\n",
    "llm.model = 'gpt-4o'\n",
    "config = Config(llm=llm)\n",
    "pandas_ai = Agent(config=config, dfs=[org_df, inventions_df, industrial_designs_df, usefull_models_df])"
   ],
   "id": "a4671e8da6bd6dc",
   "outputs": [],
   "execution_count": 16
  },
  {
   "metadata": {
    "ExecuteTime": {
     "start_time": "2024-06-16T09:58:28.739684Z"
    }
   },
   "cell_type": "code",
   "source": "pandas_ai.chat('show tables')",
   "id": "bbec018f20cd8ec9",
   "outputs": [],
   "execution_count": null
  }
 ],
 "metadata": {
  "kernelspec": {
   "display_name": "Python 3",
   "language": "python",
   "name": "python3"
  },
  "language_info": {
   "codemirror_mode": {
    "name": "ipython",
    "version": 2
   },
   "file_extension": ".py",
   "mimetype": "text/x-python",
   "name": "python",
   "nbconvert_exporter": "python",
   "pygments_lexer": "ipython2",
   "version": "2.7.6"
  }
 },
 "nbformat": 4,
 "nbformat_minor": 5
}
