{
 "cells": [
  {
   "cell_type": "code",
   "id": "initial_id",
   "metadata": {
    "collapsed": true,
    "ExecuteTime": {
     "end_time": "2024-06-16T17:28:05.023135Z",
     "start_time": "2024-06-16T17:28:04.959294Z"
    }
   },
   "source": "import polars as pl",
   "outputs": [],
   "execution_count": 2
  },
  {
   "metadata": {
    "ExecuteTime": {
     "end_time": "2024-06-16T17:28:05.598644Z",
     "start_time": "2024-06-16T17:28:05.588667Z"
    }
   },
   "cell_type": "code",
   "source": "organization_classification = pl.read_parquet('/Users/foryourselfand/Documents/patent_hack/data/Классификация организаций.parquet') ",
   "id": "dafea3de3a28ec7c",
   "outputs": [],
   "execution_count": 3
  },
  {
   "metadata": {
    "ExecuteTime": {
     "end_time": "2024-06-16T17:28:09.351291Z",
     "start_time": "2024-06-16T17:28:09.344227Z"
    }
   },
   "cell_type": "code",
   "source": "organization_classification.head()",
   "id": "5c5657615105432d",
   "outputs": [
    {
     "data": {
      "text/plain": [
       "shape: (5, 4)\n",
       "┌─────────────────────┬───────────┬─────────────┬─────────────────────────────────┐\n",
       "│ ObjectType          ┆ CompanyID ┆ INN         ┆ Name                            │\n",
       "│ ---                 ┆ ---       ┆ ---         ┆ ---                             │\n",
       "│ str                 ┆ i64       ┆ str         ┆ str                             │\n",
       "╞═════════════════════╪═══════════╪═════════════╪═════════════════════════════════╡\n",
       "│ Научные организации ┆ 1633389   ┆ 7704068008' ┆ Институт языкознания РАН        │\n",
       "│ Научные организации ┆ 1677421   ┆ 7704077771' ┆ Московский педагогический госу… │\n",
       "│ Научные организации ┆ 1662847   ┆ 7706019535' ┆ Национальный исследовательский… │\n",
       "│ Научные организации ┆ 1633451   ┆ 7706037421' ┆ Почвенный институт имени В.В. … │\n",
       "│ Научные организации ┆ 1633355   ┆ 7706042076' ┆ Институт геологии рудных место… │\n",
       "└─────────────────────┴───────────┴─────────────┴─────────────────────────────────┘"
      ],
      "text/html": [
       "<div><style>\n",
       ".dataframe > thead > tr,\n",
       ".dataframe > tbody > tr {\n",
       "  text-align: right;\n",
       "  white-space: pre-wrap;\n",
       "}\n",
       "</style>\n",
       "<small>shape: (5, 4)</small><table border=\"1\" class=\"dataframe\"><thead><tr><th>ObjectType</th><th>CompanyID</th><th>INN</th><th>Name</th></tr><tr><td>str</td><td>i64</td><td>str</td><td>str</td></tr></thead><tbody><tr><td>&quot;Научные организации&quot;</td><td>1633389</td><td>&quot;7704068008&#x27;&quot;</td><td>&quot;Институт языкознания РАН&quot;</td></tr><tr><td>&quot;Научные организации&quot;</td><td>1677421</td><td>&quot;7704077771&#x27;&quot;</td><td>&quot;Московский педагогический госу…</td></tr><tr><td>&quot;Научные организации&quot;</td><td>1662847</td><td>&quot;7706019535&#x27;&quot;</td><td>&quot;Национальный исследовательский…</td></tr><tr><td>&quot;Научные организации&quot;</td><td>1633451</td><td>&quot;7706037421&#x27;&quot;</td><td>&quot;Почвенный институт имени В.В. …</td></tr><tr><td>&quot;Научные организации&quot;</td><td>1633355</td><td>&quot;7706042076&#x27;&quot;</td><td>&quot;Институт геологии рудных место…</td></tr></tbody></table></div>"
      ]
     },
     "execution_count": 4,
     "metadata": {},
     "output_type": "execute_result"
    }
   ],
   "execution_count": 4
  },
  {
   "metadata": {
    "ExecuteTime": {
     "end_time": "2024-06-16T17:28:36.835907Z",
     "start_time": "2024-06-16T17:28:36.830018Z"
    }
   },
   "cell_type": "code",
   "source": "organization_classification.write_csv('/Users/foryourselfand/Documents/patent_hack/data/Классификация организаций.csv')",
   "id": "dc805bfe2dabebb",
   "outputs": [],
   "execution_count": 7
  },
  {
   "metadata": {},
   "cell_type": "code",
   "outputs": [],
   "execution_count": null,
   "source": "# convert INN to int, dr",
   "id": "e6efe403ee3b0a6b"
  },
  {
   "metadata": {
    "ExecuteTime": {
     "end_time": "2024-06-16T09:45:47.872536Z",
     "start_time": "2024-06-16T09:45:43.958746Z"
    }
   },
   "cell_type": "code",
   "source": "big_df = pl.read_parquet('/Users/foryourselfand/Documents/patent_hack/data/DatasetOrg.parquet')",
   "id": "89a16687bdd4cadc",
   "outputs": [],
   "execution_count": 3
  },
  {
   "metadata": {
    "ExecuteTime": {
     "end_time": "2024-06-15T20:50:12.089461Z",
     "start_time": "2024-06-15T20:50:12.085152Z"
    }
   },
   "cell_type": "code",
   "source": "big_df.shape",
   "id": "46403616504fd664",
   "outputs": [
    {
     "data": {
      "text/plain": [
       "(31835226, 23)"
      ]
     },
     "execution_count": 3,
     "metadata": {},
     "output_type": "execute_result"
    }
   ],
   "execution_count": 3
  },
  {
   "metadata": {
    "ExecuteTime": {
     "end_time": "2024-06-16T09:41:30.653758Z",
     "start_time": "2024-06-16T09:41:30.648880Z"
    }
   },
   "cell_type": "code",
   "source": "big_df.head(10)",
   "id": "2983c732237defa6",
   "outputs": [
    {
     "data": {
      "text/plain": [
       "shape: (10, 23)\n",
       "┌───────────┬───────────┬───────────┬───────────┬───┬───────────┬───────────┬───────────┬──────────┐\n",
       "│ ID        ┆ Наименова ┆ Наименова ┆ ИНН       ┆ … ┆ телефоны  ┆ ФИО       ┆ Название  ┆ доп.     │\n",
       "│ компании  ┆ ние       ┆ ние       ┆ ---       ┆   ┆ СПАРК     ┆ директора ┆ должности ┆ ОКВЭД2   │\n",
       "│ ---       ┆ полное    ┆ краткое   ┆ str       ┆   ┆ ---       ┆ ---       ┆ ---       ┆ ---      │\n",
       "│ i64       ┆ ---       ┆ ---       ┆           ┆   ┆ str       ┆ str       ┆ str       ┆ str      │\n",
       "│           ┆ str       ┆ str       ┆           ┆   ┆           ┆           ┆           ┆          │\n",
       "╞═══════════╪═══════════╪═══════════╪═══════════╪═══╪═══════════╪═══════════╪═══════════╪══════════╡\n",
       "│ 20154920  ┆ государст ┆ гку ао    ┆ 281800498 ┆ … ┆ 416539707 ┆ Андрусова ┆ начальник ┆ 63.11.1; │\n",
       "│           ┆ венное    ┆ усзн по   ┆ 6         ┆   ┆ 1;4165397 ┆ Наталья   ┆ управлени ┆ 84.30    │\n",
       "│           ┆ казенное  ┆ магдагачи ┆           ┆   ┆ 319;41653 ┆ Валентино ┆ я         ┆          │\n",
       "│           ┆ учреж…    ┆ нскому…   ┆           ┆   ┆ 974…      ┆ вна       ┆           ┆          │\n",
       "│ 20154929  ┆ государст ┆ гку ао    ┆ 280701453 ┆ … ┆ 416433381 ┆ Белова    ┆ начальник ┆ 63.11.1; │\n",
       "│           ┆ венное    ┆ усзн по   ┆ 4         ┆   ┆ 0;4164355 ┆ Ольга     ┆ управлени ┆ 84.30    │\n",
       "│           ┆ казенное  ┆ гсвободны ┆           ┆   ┆ 117;41643 ┆ Федоровна ┆ я         ┆          │\n",
       "│           ┆ учреж…    ┆ й зато…   ┆           ┆   ┆ 551…      ┆           ┆           ┆          │\n",
       "│ 20154945  ┆ муниципал ┆ мбу цкс   ┆ 281300922 ┆ … ┆ 416342136 ┆ Болтенков ┆ директор  ┆ 93.29;59 │\n",
       "│           ┆ ьное      ┆ бмо       ┆ 9         ┆   ┆ 3;4163421 ┆ а Юлия    ┆           ┆ .14;91.0 │\n",
       "│           ┆ бюджетное ┆           ┆           ┆   ┆ 596;41634 ┆ Борисовна ┆           ┆ 1;90.03  │\n",
       "│           ┆ учрежд…   ┆           ┆           ┆   ┆ 230…      ┆           ┆           ┆          │\n",
       "│ 20154954  ┆ государст ┆ гаукао    ┆ 280102255 ┆ … ┆ +7 (416)  ┆ Смирнова  ┆ директор  ┆ 56.3;49. │\n",
       "│           ┆ венное    ┆ амурская  ┆ 3         ┆   ┆ 277 70    ┆ Ольга Ник ┆           ┆ 3;56.10. │\n",
       "│           ┆ автономно ┆ областная ┆           ┆   ┆ 00;+7     ┆ олаевна   ┆           ┆ 1;93.29. │\n",
       "│           ┆ е учр…    ┆ фила…     ┆           ┆   ┆ (416) 27… ┆           ┆           ┆ 2;55.2…  │\n",
       "│ 20154961  ┆ муниципал ┆ мбук дк   ┆ 282501023 ┆ … ┆ 416463114 ┆ Зюкина    ┆ директор  ┆ 93.29.2; │\n",
       "│           ┆ ьное      ┆ пгт       ┆ 6         ┆   ┆ 4;4164631 ┆ Татьяна   ┆           ┆ 90.01;91 │\n",
       "│           ┆ бюджетное ┆ февральск ┆           ┆   ┆ 153;41655 ┆ Петровна  ┆           ┆ .0       │\n",
       "│           ┆ учрежд…   ┆           ┆           ┆   ┆ 311…      ┆           ┆           ┆          │\n",
       "│ 20154963  ┆ муниципал ┆ мбук      ┆ 282600388 ┆ … ┆ 416226368 ┆ Матюшина  ┆ директор  ┆ 90.04.3  │\n",
       "│           ┆ ьное      ┆ цкссмо    ┆ 0         ┆   ┆ 6;9243426 ┆ Эльвира   ┆           ┆          │\n",
       "│           ┆ бюджетное ┆           ┆           ┆   ┆ 718;41654 ┆ Евгеньевн ┆           ┆          │\n",
       "│           ┆ учрежд…   ┆           ┆           ┆   ┆ 233…      ┆ а         ┆           ┆          │\n",
       "│ 20154986  ┆ автономна ┆ ано наш   ┆ 280115506 ┆ … ┆ 416252445 ┆ Борисов   ┆ директор  ┆ 88.10;96 │\n",
       "│           ┆ я некомме ┆ мир       ┆ 3         ┆   ┆ 4;4162581 ┆ Дмитрий   ┆           ┆ .04;93.2 │\n",
       "│           ┆ рческая   ┆           ┆           ┆   ┆ 148       ┆ Анатольев ┆           ┆ 9.9      │\n",
       "│           ┆ орга…     ┆           ┆           ┆   ┆           ┆ ич        ┆           ┆          │\n",
       "│ 20155002  ┆ муниципал ┆ му мб сво ┆ 280701350 ┆ … ┆ 416433723 ┆ Матющенко ┆ директор  ┆ null     │\n",
       "│           ┆ ьное учре ┆ бодненско ┆ 9         ┆   ┆ 0;9146075 ┆ Ольга Вик ┆           ┆          │\n",
       "│           ┆ ждение    ┆ го района ┆           ┆   ┆ 929;41643 ┆ торовна   ┆           ┆          │\n",
       "│           ┆ свобо…    ┆           ┆           ┆   ┆ 372…      ┆           ┆           ┆          │\n",
       "│ 20155020  ┆ бюджетное ┆ бук ско   ┆ 281400475 ┆ … ┆ 416363421 ┆ Бобровник ┆ председат ┆ null     │\n",
       "│           ┆ учреждени ┆ успеновск ┆ 2         ┆   ┆ 8;9143864 ┆ Максим    ┆ ель ликви ┆          │\n",
       "│           ┆ е         ┆ ого сельс ┆           ┆   ┆ 458;92467 ┆ Дмитриеви ┆ дационной ┆          │\n",
       "│           ┆ культуры  ┆ овет…     ┆           ┆   ┆ 465…      ┆ ч         ┆ ко…       ┆          │\n",
       "│           ┆ …         ┆           ┆           ┆   ┆           ┆           ┆           ┆          │\n",
       "│ 20155029  ┆ муниципал ┆ мау скц   ┆ 281501542 ┆ … ┆ 416582199 ┆ Сергеева  ┆ директор  ┆ 93.29.9; │\n",
       "│           ┆ ьное авто ┆ зейского  ┆ 9         ┆   ┆ 5;4165822 ┆ Светлана  ┆           ┆ 77.21;93 │\n",
       "│           ┆ номное    ┆ муниципал ┆           ┆   ┆ 652;41658 ┆ Николаевн ┆           ┆ .29.2;93 │\n",
       "│           ┆ учреж…    ┆ ьног…     ┆           ┆   ┆ 413…      ┆ а         ┆           ┆ .29;91…  │\n",
       "└───────────┴───────────┴───────────┴───────────┴───┴───────────┴───────────┴───────────┴──────────┘"
      ],
      "text/html": [
       "<div><style>\n",
       ".dataframe > thead > tr,\n",
       ".dataframe > tbody > tr {\n",
       "  text-align: right;\n",
       "  white-space: pre-wrap;\n",
       "}\n",
       "</style>\n",
       "<small>shape: (10, 23)</small><table border=\"1\" class=\"dataframe\"><thead><tr><th>ID компании</th><th>Наименование полное</th><th>Наименование краткое</th><th>ИНН</th><th>Юр адрес</th><th>Факт адрес</th><th>ОГРН</th><th>Головная компания (1) или филиал (0)</th><th>КПП</th><th>ОКОПФ (код)</th><th>ОКОПФ (расшифровка)</th><th>ОКВЭД2</th><th>ОКВЭД2 расшифровка</th><th>Дата создания</th><th>статус по ЕГРЮЛ </th><th>ОКФС код</th><th>ОКФС (форма собственности)</th><th>Компания действующая (1) или нет (0)</th><th>id Компании-наследника (реорганизация и др)</th><th>телефоны СПАРК</th><th>ФИО директора</th><th>Название должности</th><th>доп. ОКВЭД2</th></tr><tr><td>i64</td><td>str</td><td>str</td><td>str</td><td>str</td><td>str</td><td>str</td><td>i64</td><td>str</td><td>f64</td><td>str</td><td>str</td><td>str</td><td>str</td><td>str</td><td>f64</td><td>str</td><td>f64</td><td>f64</td><td>str</td><td>str</td><td>str</td><td>str</td></tr></thead><tbody><tr><td>20154920</td><td>&quot;государственное казенное учреж…</td><td>&quot;гку ао усзн по магдагачинскому…</td><td>&quot;2818004986&quot;</td><td>&quot;Амурская обл., Магдагачинский …</td><td>&quot;Амурская обл., Магдагачинский …</td><td>&quot;1082815000091&quot;</td><td>1</td><td>&quot;281801001&quot;</td><td>75204.0</td><td>&quot;Государственные казенные учреж…</td><td>&quot;88.99&quot;</td><td>&quot;Предоставлению прочих социальн…</td><td>&quot;2008-01-24 00:00:00.000&quot;</td><td>&quot;Действующее&quot;</td><td>13.0</td><td>&quot;Собственность субъектов Россий…</td><td>1.0</td><td>null</td><td>&quot;4165397071;4165397319;41653974…</td><td>&quot;Андрусова Наталья Валентиновна&quot;</td><td>&quot;начальник управления&quot;</td><td>&quot;63.11.1;84.30&quot;</td></tr><tr><td>20154929</td><td>&quot;государственное казенное учреж…</td><td>&quot;гку ао усзн по гсвободный зато…</td><td>&quot;2807014534&quot;</td><td>&quot;Амурская обл., г. Свободный, у…</td><td>&quot;Амурская обл., г. Свободный, у…</td><td>&quot;1082807000099&quot;</td><td>1</td><td>&quot;280701001&quot;</td><td>75204.0</td><td>&quot;Государственные казенные учреж…</td><td>&quot;88.99&quot;</td><td>&quot;Предоставлению прочих социальн…</td><td>&quot;2008-01-23 00:00:00.000&quot;</td><td>&quot;Действующее&quot;</td><td>13.0</td><td>&quot;Собственность субъектов Россий…</td><td>1.0</td><td>null</td><td>&quot;4164333810;4164355117;41643551…</td><td>&quot;Белова Ольга Федоровна&quot;</td><td>&quot;начальник управления&quot;</td><td>&quot;63.11.1;84.30&quot;</td></tr><tr><td>20154945</td><td>&quot;муниципальное бюджетное учрежд…</td><td>&quot;мбу цкс бмо&quot;</td><td>&quot;2813009229&quot;</td><td>&quot;Амурская обл, м.о. Бурейский, …</td><td>&quot;Амурская обл., Бурейский район…</td><td>&quot;1122813000155&quot;</td><td>1</td><td>&quot;281301001&quot;</td><td>75403.0</td><td>&quot;Муниципальные бюджетные учрежд…</td><td>&quot;90.01&quot;</td><td>&quot;Деятельность в области исполни…</td><td>&quot;2012-02-24 00:00:00.000&quot;</td><td>&quot;Действующее&quot;</td><td>14.0</td><td>&quot;Муниципальная собственность&quot;</td><td>1.0</td><td>null</td><td>&quot;4163421363;4163421596;41634230…</td><td>&quot;Болтенкова Юлия Борисовна&quot;</td><td>&quot;директор&quot;</td><td>&quot;93.29;59.14;91.01;90.03&quot;</td></tr><tr><td>20154954</td><td>&quot;государственное автономное учр…</td><td>&quot;гаукао амурская областная фила…</td><td>&quot;2801022553&quot;</td><td>&quot;Амурская обл., г. Благовещенск…</td><td>&quot;Амурская обл., г. Благовещенск…</td><td>&quot;1022800520115&quot;</td><td>1</td><td>&quot;280101001&quot;</td><td>75201.0</td><td>&quot;Государственные автономные учр…</td><td>&quot;90.01&quot;</td><td>&quot;Деятельность в области исполни…</td><td>&quot;1993-12-28 00:00:00.000&quot;</td><td>&quot;Действующее&quot;</td><td>13.0</td><td>&quot;Собственность субъектов Россий…</td><td>1.0</td><td>null</td><td>&quot;+7 (416) 277 70 00;+7 (416) 27…</td><td>&quot;Смирнова Ольга Николаевна&quot;</td><td>&quot;директор&quot;</td><td>&quot;56.3;49.3;56.10.1;93.29.2;55.2…</td></tr><tr><td>20154961</td><td>&quot;муниципальное бюджетное учрежд…</td><td>&quot;мбук дк пгт февральск&quot;</td><td>&quot;2825010236&quot;</td><td>&quot;Амурская обл., Селемджинский р…</td><td>&quot;Амурская обл., Селемджинский р…</td><td>&quot;1092807001484&quot;</td><td>1</td><td>&quot;282501001&quot;</td><td>75403.0</td><td>&quot;Муниципальные бюджетные учрежд…</td><td>&quot;90.03&quot;</td><td>&quot;Деятельность в области художес…</td><td>&quot;2009-12-28 00:00:00.000&quot;</td><td>&quot;Действующее&quot;</td><td>14.0</td><td>&quot;Муниципальная собственность&quot;</td><td>1.0</td><td>null</td><td>&quot;4164631144;4164631153;41655311…</td><td>&quot;Зюкина Татьяна Петровна&quot;</td><td>&quot;директор&quot;</td><td>&quot;93.29.2;90.01;91.0&quot;</td></tr><tr><td>20154963</td><td>&quot;муниципальное бюджетное учрежд…</td><td>&quot;мбук цкссмо&quot;</td><td>&quot;2826003880&quot;</td><td>&quot;Амурская обл., Сковородинский …</td><td>&quot;Амурская обл., Сковородинский …</td><td>&quot;1022801229010&quot;</td><td>1</td><td>&quot;282601001&quot;</td><td>75403.0</td><td>&quot;Муниципальные бюджетные учрежд…</td><td>&quot;90.04&quot;</td><td>&quot;Деятельность учреждений культу…</td><td>&quot;2000-12-09 00:00:00.000&quot;</td><td>&quot;Действующее&quot;</td><td>14.0</td><td>&quot;Муниципальная собственность&quot;</td><td>1.0</td><td>null</td><td>&quot;4162263686;9243426718;41654233…</td><td>&quot;Матюшина Эльвира Евгеньевна&quot;</td><td>&quot;директор&quot;</td><td>&quot;90.04.3&quot;</td></tr><tr><td>20154986</td><td>&quot;автономная некоммерческая орга…</td><td>&quot;ано наш мир&quot;</td><td>&quot;2801155063&quot;</td><td>&quot;Амурская обл., г. Благовещенск…</td><td>&quot;Амурская обл., г. Благовещенск…</td><td>&quot;1102800000962&quot;</td><td>1</td><td>&quot;280101001&quot;</td><td>71400.0</td><td>&quot;Автономные некоммерческие орга…</td><td>&quot;91.0&quot;</td><td>&quot;Деятельность библиотек, архиво…</td><td>&quot;2010-10-20 00:00:00.000&quot;</td><td>&quot;Некоммерческая организация лик…</td><td>16.0</td><td>&quot;Частная собственность&quot;</td><td>0.0</td><td>null</td><td>&quot;4162524454;4162581148&quot;</td><td>&quot;Борисов Дмитрий Анатольевич&quot;</td><td>&quot;директор&quot;</td><td>&quot;88.10;96.04;93.29.9&quot;</td></tr><tr><td>20155002</td><td>&quot;муниципальное учреждение свобо…</td><td>&quot;му мб свободненского района&quot;</td><td>&quot;2807013509&quot;</td><td>&quot;Амурская обл., Свободненский р…</td><td>&quot;Амурская обл., Свободненский р…</td><td>&quot;1062807003710&quot;</td><td>1</td><td>&quot;282301001&quot;</td><td>75404.0</td><td>&quot;Муниципальные казенные учрежде…</td><td>&quot;91.01&quot;</td><td>&quot;Деятельность библиотек и архив…</td><td>&quot;2006-03-20 00:00:00.000&quot;</td><td>&quot;Действующее&quot;</td><td>14.0</td><td>&quot;Муниципальная собственность&quot;</td><td>1.0</td><td>null</td><td>&quot;4164337230;9146075929;41643372…</td><td>&quot;Матющенко Ольга Викторовна&quot;</td><td>&quot;директор&quot;</td><td>null</td></tr><tr><td>20155020</td><td>&quot;бюджетное учреждение культуры …</td><td>&quot;бук ско успеновского сельсовет…</td><td>&quot;2814004752&quot;</td><td>&quot;Амурская обл., Завитинский рай…</td><td>&quot;Амурская обл., Завитинский рай…</td><td>&quot;1122813000782&quot;</td><td>1</td><td>&quot;281401001&quot;</td><td>75403.0</td><td>&quot;Муниципальные бюджетные учрежд…</td><td>&quot;91.01&quot;</td><td>&quot;Деятельность библиотек и архив…</td><td>&quot;2012-11-16 00:00:00.000&quot;</td><td>&quot;Ликвидировано&quot;</td><td>14.0</td><td>&quot;Муниципальная собственность&quot;</td><td>0.0</td><td>null</td><td>&quot;4163634218;9143864458;92467465…</td><td>&quot;Бобровник Максим Дмитриевич&quot;</td><td>&quot;председатель ликвидационной ко…</td><td>null</td></tr><tr><td>20155029</td><td>&quot;муниципальное автономное учреж…</td><td>&quot;мау скц зейского муниципальног…</td><td>&quot;2815015429&quot;</td><td>&quot;Амурская обл., Зейский район, …</td><td>&quot;Амурская обл., Зейский район, …</td><td>&quot;1142815000151&quot;</td><td>1</td><td>&quot;281501001&quot;</td><td>75401.0</td><td>&quot;Муниципальные автономные учреж…</td><td>&quot;90.04.3&quot;</td><td>&quot;Деятельность учреждений клубно…</td><td>&quot;2014-04-18 00:00:00.000&quot;</td><td>&quot;Действующее&quot;</td><td>14.0</td><td>&quot;Муниципальная собственность&quot;</td><td>1.0</td><td>null</td><td>&quot;4165821995;4165822652;41658413…</td><td>&quot;Сергеева Светлана Николаевна&quot;</td><td>&quot;директор&quot;</td><td>&quot;93.29.9;77.21;93.29.2;93.29;91…</td></tr></tbody></table></div>"
      ]
     },
     "execution_count": 24,
     "metadata": {},
     "output_type": "execute_result"
    }
   ],
   "execution_count": 24
  },
  {
   "metadata": {
    "ExecuteTime": {
     "end_time": "2024-06-15T21:51:43.699173Z",
     "start_time": "2024-06-15T21:51:43.696283Z"
    }
   },
   "cell_type": "code",
   "source": "', '.join(big_df.columns)",
   "id": "96c11b905468bd45",
   "outputs": [
    {
     "data": {
      "text/plain": [
       "'ID компании, Наименование полное, Наименование краткое, ИНН, Юр адрес, Факт адрес, ОГРН, Головная компания (1) или филиал (0), КПП, ОКОПФ (код), ОКОПФ (расшифровка), ОКВЭД2, ОКВЭД2 расшифровка, Дата создания, статус по ЕГРЮЛ , ОКФС код, ОКФС (форма собственности), Компания действующая (1) или нет (0), id Компании-наследника (реорганизация и др), телефоны СПАРК, ФИО директора, Название должности, доп. ОКВЭД2'"
      ]
     },
     "execution_count": 47,
     "metadata": {},
     "output_type": "execute_result"
    }
   ],
   "execution_count": 47
  },
  {
   "metadata": {
    "ExecuteTime": {
     "end_time": "2024-06-15T21:45:09.565006Z",
     "start_time": "2024-06-15T21:45:06.301609Z"
    }
   },
   "cell_type": "code",
   "source": "big_df['ИНН'].value_counts()",
   "id": "9711b3f42cad8aac",
   "outputs": [
    {
     "data": {
      "text/plain": [
       "shape: (28_387_443, 2)\n",
       "┌──────────────┬───────┐\n",
       "│ ИНН          ┆ count │\n",
       "│ ---          ┆ ---   │\n",
       "│ str          ┆ u32   │\n",
       "╞══════════════╪═══════╡\n",
       "│ 540451676016 ┆ 1     │\n",
       "│ 5038045063   ┆ 1     │\n",
       "│ 7708219755   ┆ 2     │\n",
       "│ 3235004520   ┆ 1     │\n",
       "│ 434589379286 ┆ 1     │\n",
       "│ …            ┆ …     │\n",
       "│ 4401100962   ┆ 1     │\n",
       "│ 632403548007 ┆ 1     │\n",
       "│ 160600839864 ┆ 1     │\n",
       "│ 530600817171 ┆ 1     │\n",
       "│ 2904011747   ┆ 1     │\n",
       "└──────────────┴───────┘"
      ],
      "text/html": [
       "<div><style>\n",
       ".dataframe > thead > tr,\n",
       ".dataframe > tbody > tr {\n",
       "  text-align: right;\n",
       "  white-space: pre-wrap;\n",
       "}\n",
       "</style>\n",
       "<small>shape: (28_387_443, 2)</small><table border=\"1\" class=\"dataframe\"><thead><tr><th>ИНН</th><th>count</th></tr><tr><td>str</td><td>u32</td></tr></thead><tbody><tr><td>&quot;540451676016&quot;</td><td>1</td></tr><tr><td>&quot;5038045063&quot;</td><td>1</td></tr><tr><td>&quot;7708219755&quot;</td><td>2</td></tr><tr><td>&quot;3235004520&quot;</td><td>1</td></tr><tr><td>&quot;434589379286&quot;</td><td>1</td></tr><tr><td>&hellip;</td><td>&hellip;</td></tr><tr><td>&quot;4401100962&quot;</td><td>1</td></tr><tr><td>&quot;632403548007&quot;</td><td>1</td></tr><tr><td>&quot;160600839864&quot;</td><td>1</td></tr><tr><td>&quot;530600817171&quot;</td><td>1</td></tr><tr><td>&quot;2904011747&quot;</td><td>1</td></tr></tbody></table></div>"
      ]
     },
     "execution_count": 36,
     "metadata": {},
     "output_type": "execute_result"
    }
   ],
   "execution_count": 36
  },
  {
   "metadata": {
    "ExecuteTime": {
     "end_time": "2024-06-15T21:45:41.242081Z",
     "start_time": "2024-06-15T21:45:39.126921Z"
    }
   },
   "cell_type": "code",
   "source": "big_df['ИНН'].n_unique()",
   "id": "30dff0040784231d",
   "outputs": [
    {
     "data": {
      "text/plain": [
       "28387443"
      ]
     },
     "execution_count": 38,
     "metadata": {},
     "output_type": "execute_result"
    }
   ],
   "execution_count": 38
  },
  {
   "metadata": {
    "ExecuteTime": {
     "end_time": "2024-06-15T21:49:41.318504Z",
     "start_time": "2024-06-15T21:49:36.669184Z"
    }
   },
   "cell_type": "code",
   "source": "big_df['Наименование полное'].value_counts()",
   "id": "ba58a9a024b2e2ab",
   "outputs": [
    {
     "data": {
      "text/plain": [
       "shape: (17_285_230, 2)\n",
       "┌─────────────────────────────────┬───────┐\n",
       "│ Наименование полное             ┆ count │\n",
       "│ ---                             ┆ ---   │\n",
       "│ str                             ┆ u32   │\n",
       "╞═════════════════════════════════╪═══════╡\n",
       "│ ладунко анна юрьевна            ┆ 1     │\n",
       "│ довжук татьяна николаевна       ┆ 1     │\n",
       "│ косякова надежда ивановна       ┆ 1     │\n",
       "│ винничук ольга николаевна       ┆ 1     │\n",
       "│ саргаева наталья вячеславовна   ┆ 1     │\n",
       "│ …                               ┆ …     │\n",
       "│ архитектурная фирма нволкова и… ┆ 1     │\n",
       "│ кирюшкина алевтина ивановна     ┆ 1     │\n",
       "│ общество с ограниченной ответс… ┆ 1     │\n",
       "│ фромичева евгения сергеевна     ┆ 1     │\n",
       "│ общество с ограниченной ответс… ┆ 1     │\n",
       "└─────────────────────────────────┴───────┘"
      ],
      "text/html": [
       "<div><style>\n",
       ".dataframe > thead > tr,\n",
       ".dataframe > tbody > tr {\n",
       "  text-align: right;\n",
       "  white-space: pre-wrap;\n",
       "}\n",
       "</style>\n",
       "<small>shape: (17_285_230, 2)</small><table border=\"1\" class=\"dataframe\"><thead><tr><th>Наименование полное</th><th>count</th></tr><tr><td>str</td><td>u32</td></tr></thead><tbody><tr><td>&quot;ладунко анна юрьевна&quot;</td><td>1</td></tr><tr><td>&quot;довжук татьяна николаевна&quot;</td><td>1</td></tr><tr><td>&quot;косякова надежда ивановна&quot;</td><td>1</td></tr><tr><td>&quot;винничук ольга николаевна&quot;</td><td>1</td></tr><tr><td>&quot;саргаева наталья вячеславовна&quot;</td><td>1</td></tr><tr><td>&hellip;</td><td>&hellip;</td></tr><tr><td>&quot;архитектурная фирма нволкова и…</td><td>1</td></tr><tr><td>&quot;кирюшкина алевтина ивановна&quot;</td><td>1</td></tr><tr><td>&quot;общество с ограниченной ответс…</td><td>1</td></tr><tr><td>&quot;фромичева евгения сергеевна&quot;</td><td>1</td></tr><tr><td>&quot;общество с ограниченной ответс…</td><td>1</td></tr></tbody></table></div>"
      ]
     },
     "execution_count": 42,
     "metadata": {},
     "output_type": "execute_result"
    }
   ],
   "execution_count": 42
  },
  {
   "metadata": {
    "ExecuteTime": {
     "end_time": "2024-06-15T21:49:45.379411Z",
     "start_time": "2024-06-15T21:49:41.319673Z"
    }
   },
   "cell_type": "code",
   "source": "big_df['Наименование краткое'].value_counts()",
   "id": "9df199d029c626e1",
   "outputs": [
    {
     "data": {
      "text/plain": [
       "shape: (17_028_452, 2)\n",
       "┌─────────────────────────────────┬───────┐\n",
       "│ Наименование краткое            ┆ count │\n",
       "│ ---                             ┆ ---   │\n",
       "│ str                             ┆ u32   │\n",
       "╞═════════════════════════════════╪═══════╡\n",
       "│ зао пкф башсибстроймонтаж       ┆ 1     │\n",
       "│ парфамюк юрий викторович        ┆ 1     │\n",
       "│ кушхов юрий латифович           ┆ 1     │\n",
       "│ ооо констайлпро                 ┆ 1     │\n",
       "│ исмоилов давлатшох давлатёрови… ┆ 1     │\n",
       "│ …                               ┆ …     │\n",
       "│ сатдарова айсылу завдатьевна    ┆ 1     │\n",
       "│ ооо нпо строительное оборудова… ┆ 1     │\n",
       "│ зао мсю                         ┆ 1     │\n",
       "│ владимирская областная обществ… ┆ 1     │\n",
       "│ губин юрий аркадьевич           ┆ 1     │\n",
       "└─────────────────────────────────┴───────┘"
      ],
      "text/html": [
       "<div><style>\n",
       ".dataframe > thead > tr,\n",
       ".dataframe > tbody > tr {\n",
       "  text-align: right;\n",
       "  white-space: pre-wrap;\n",
       "}\n",
       "</style>\n",
       "<small>shape: (17_028_452, 2)</small><table border=\"1\" class=\"dataframe\"><thead><tr><th>Наименование краткое</th><th>count</th></tr><tr><td>str</td><td>u32</td></tr></thead><tbody><tr><td>&quot;зао пкф башсибстроймонтаж&quot;</td><td>1</td></tr><tr><td>&quot;парфамюк юрий викторович&quot;</td><td>1</td></tr><tr><td>&quot;кушхов юрий латифович&quot;</td><td>1</td></tr><tr><td>&quot;ооо констайлпро&quot;</td><td>1</td></tr><tr><td>&quot;исмоилов давлатшох давлатёрови…</td><td>1</td></tr><tr><td>&hellip;</td><td>&hellip;</td></tr><tr><td>&quot;сатдарова айсылу завдатьевна&quot;</td><td>1</td></tr><tr><td>&quot;ооо нпо строительное оборудова…</td><td>1</td></tr><tr><td>&quot;зао мсю&quot;</td><td>1</td></tr><tr><td>&quot;владимирская областная обществ…</td><td>1</td></tr><tr><td>&quot;губин юрий аркадьевич&quot;</td><td>1</td></tr></tbody></table></div>"
      ]
     },
     "execution_count": 43,
     "metadata": {},
     "output_type": "execute_result"
    }
   ],
   "execution_count": 43
  },
  {
   "metadata": {
    "ExecuteTime": {
     "end_time": "2024-06-16T09:45:51.496561Z",
     "start_time": "2024-06-16T09:45:51.294428Z"
    }
   },
   "cell_type": "code",
   "source": "inventions_df = pl.read_parquet('/Users/foryourselfand/Documents/patent_hack/data/База по изобретениям.parquet')",
   "id": "e6c44b6e4b4db845",
   "outputs": [],
   "execution_count": 4
  },
  {
   "metadata": {
    "ExecuteTime": {
     "end_time": "2024-06-16T09:43:44.505646Z",
     "start_time": "2024-06-16T09:43:44.500657Z"
    }
   },
   "cell_type": "code",
   "source": "inventions_df.head()",
   "id": "7f13739f5fc5bfe3",
   "outputs": [
    {
     "data": {
      "text/plain": [
       "shape: (5, 49)\n",
       "┌───────────┬───────────┬───────────┬───────────┬───┬───────────┬───────────┬───────────┬──────────┐\n",
       "│ registrat ┆ registrat ┆ applicati ┆ applicati ┆ … ┆ mpk       ┆ Unnamed:  ┆ Unnamed:  ┆ Unnamed: │\n",
       "│ ion       ┆ ion date  ┆ on number ┆ on date   ┆   ┆ ---       ┆ 46        ┆ 47        ┆ 48       │\n",
       "│ number    ┆ ---       ┆ ---       ┆ ---       ┆   ┆ str       ┆ ---       ┆ ---       ┆ ---      │\n",
       "│ ---       ┆ str       ┆ str       ┆ str       ┆   ┆           ┆ str       ┆ str       ┆ str      │\n",
       "│ str       ┆           ┆           ┆           ┆   ┆           ┆           ┆           ┆          │\n",
       "╞═══════════╪═══════════╪═══════════╪═══════════╪═══╪═══════════╪═══════════╪═══════════╪══════════╡\n",
       "│ ?2273575  ┆ 20060410  ┆ 200411403 ┆ 20040512  ┆ … ┆ null      ┆ null      ┆ null      ┆ null     │\n",
       "│           ┆           ┆ 4         ┆           ┆   ┆           ┆           ┆           ┆          │\n",
       "│ ?2544582  ┆ 20150211  ┆ 201315817 ┆ 20131227  ┆ … ┆ null      ┆ null      ┆ null      ┆ null     │\n",
       "│           ┆           ┆ 3         ┆           ┆   ┆           ┆           ┆           ┆          │\n",
       "│ 1002282   ┆ 1983-03-0 ┆ 3264511   ┆ 1981-04-1 ┆ … ┆ null      ┆ null      ┆ null      ┆ null     │\n",
       "│           ┆ 7         ┆           ┆ 4         ┆   ┆           ┆           ┆           ┆          │\n",
       "│ 1323479   ┆ 1987-07-1 ┆ 3971160   ┆ 1985-11-0 ┆ … ┆ null      ┆ null      ┆ null      ┆ null     │\n",
       "│           ┆ 5         ┆           ┆ 1         ┆   ┆           ┆           ┆           ┆          │\n",
       "│ 1733422   ┆ --        ┆ null      ┆ --        ┆ … ┆ C04B  24/ ┆ null      ┆ null      ┆ null     │\n",
       "│           ┆           ┆           ┆           ┆   ┆ 18;C04B   ┆           ┆           ┆          │\n",
       "│           ┆           ┆           ┆           ┆   ┆ 28/02;C04 ┆           ┆           ┆          │\n",
       "│           ┆           ┆           ┆           ┆   ┆ B  …      ┆           ┆           ┆          │\n",
       "└───────────┴───────────┴───────────┴───────────┴───┴───────────┴───────────┴───────────┴──────────┘"
      ],
      "text/html": [
       "<div><style>\n",
       ".dataframe > thead > tr,\n",
       ".dataframe > tbody > tr {\n",
       "  text-align: right;\n",
       "  white-space: pre-wrap;\n",
       "}\n",
       "</style>\n",
       "<small>shape: (5, 49)</small><table border=\"1\" class=\"dataframe\"><thead><tr><th>registration number</th><th>registration date</th><th>application number</th><th>application date</th><th>authors</th><th>authors in latin</th><th>patent holders</th><th>patent holders in latin</th><th>correspondence address</th><th>correspondence address in latin</th><th>invention name</th><th>patent starting date</th><th>Crimean invention application number for state registration in Ukraine</th><th>Crimean invention application date for state registration in Ukraine</th><th>Crimean invention patent number in Ukraine</th><th>receipt date of additional data to application</th><th>date of application to which additional data has been received</th><th>number of application to which additional data has been received</th><th>initial application number</th><th>initial application date</th><th>initial application priority date</th><th>previous application number</th><th>previous application date</th><th>paris convention priority number</th><th>paris convention priority date</th><th>paris convention priority country code</th><th>PCT application examination start date</th><th>PCT application number</th><th>PCT application date</th><th>PCT application publish number</th><th>PCT application publish date</th><th>EA application number</th><th>EA application date</th><th>EA application publish number</th><th>EA application publish date</th><th>application publish date</th><th>application publish number</th><th>patent grant publish date</th><th>patent grant publish number</th><th>revoked patent number</th><th>information about the obligation to conclude contract of alienation</th><th>expiration date</th><th>invention formula numbers for which patent term is prolonged</th><th>additional patent</th><th>actual</th><th>mpk</th><th>Unnamed: 46</th><th>Unnamed: 47</th><th>Unnamed: 48</th></tr><tr><td>str</td><td>str</td><td>str</td><td>str</td><td>str</td><td>str</td><td>str</td><td>str</td><td>str</td><td>str</td><td>str</td><td>str</td><td>str</td><td>str</td><td>str</td><td>str</td><td>str</td><td>str</td><td>str</td><td>str</td><td>str</td><td>str</td><td>str</td><td>str</td><td>str</td><td>str</td><td>str</td><td>str</td><td>str</td><td>str</td><td>str</td><td>str</td><td>str</td><td>str</td><td>str</td><td>str</td><td>str</td><td>str</td><td>str</td><td>str</td><td>str</td><td>str</td><td>str</td><td>str</td><td>str</td><td>str</td><td>str</td><td>str</td><td>str</td></tr></thead><tbody><tr><td>&quot;?2273575&quot;</td><td>&quot;20060410&quot;</td><td>&quot;2004114034&quot;</td><td>&quot;20040512&quot;</td><td>&quot;Омельяненко Игорь Александрови…</td><td>null</td><td>&quot;открытое акционерное общество …</td><td>null</td><td>&quot;39621, Полтавская обл., г. Кре…</td><td>null</td><td>&quot;КУЗОВ ЖЕЛЕЗНОДОРОЖНОГО ПОЛУВАГ…</td><td>&quot;20040512&quot;</td><td>null</td><td>null</td><td>null</td><td>null</td><td>null</td><td>null</td><td>null</td><td>null</td><td>null</td><td>null</td><td>null</td><td>null</td><td>null</td><td>null</td><td>null</td><td>null</td><td>null</td><td>null</td><td>null</td><td>null</td><td>null</td><td>null</td><td>null</td><td>null</td><td>null</td><td>&quot;20060410&quot;</td><td>&quot;10&quot;</td><td>null</td><td>null</td><td>null</td><td>null</td><td>&quot;false&quot;</td><td>&quot;false&quot;</td><td>null</td><td>null</td><td>null</td><td>null</td></tr><tr><td>&quot;?2544582&quot;</td><td>&quot;20150211&quot;</td><td>&quot;2013158173&quot;</td><td>&quot;20131227&quot;</td><td>&quot;Квасенков Олег Иванович (RU)&quot;</td><td>null</td><td>&quot;квасенков олег иванович&quot;</td><td>null</td><td>&quot;115583, Москва, ул. Генерала Б…</td><td>null</td><td>&quot;Способ производства мороженого…</td><td>&quot;20131227&quot;</td><td>null</td><td>null</td><td>null</td><td>null</td><td>null</td><td>null</td><td>null</td><td>null</td><td>null</td><td>null</td><td>null</td><td>null</td><td>null</td><td>null</td><td>null</td><td>null</td><td>null</td><td>null</td><td>null</td><td>null</td><td>null</td><td>null</td><td>null</td><td>null</td><td>null</td><td>&quot;20150320&quot;</td><td>&quot;8&quot;</td><td>null</td><td>&quot;На основании пункта 1 статьи 1…</td><td>null</td><td>null</td><td>&quot;false&quot;</td><td>&quot;true&quot;</td><td>null</td><td>null</td><td>null</td><td>null</td></tr><tr><td>&quot;1002282&quot;</td><td>&quot;1983-03-07&quot;</td><td>&quot;3264511&quot;</td><td>&quot;1981-04-14&quot;</td><td>&quot;Коврайский Андрей ЕвгеньевичНе…</td><td>null</td><td>&quot;воронежский институт гипрокауч…</td><td>null</td><td>null</td><td>null</td><td>&quot;Способ получения стирола&quot;</td><td>&quot;1981-04-14&quot;</td><td>null</td><td>&quot;--&quot;</td><td>null</td><td>null</td><td>&quot;--&quot;</td><td>null</td><td>null</td><td>&quot;--&quot;</td><td>&quot;--&quot;</td><td>null</td><td>&quot;--&quot;</td><td>null</td><td>&quot;--&quot;</td><td>null</td><td>&quot;--&quot;</td><td>null</td><td>&quot;--&quot;</td><td>null</td><td>&quot;--&quot;</td><td>null</td><td>&quot;--&quot;</td><td>null</td><td>&quot;--&quot;</td><td>&quot;--&quot;</td><td>null</td><td>&quot;--&quot;</td><td>&quot;9&quot;</td><td>null</td><td>null</td><td>&quot;--&quot;</td><td>null</td><td>&quot;false&quot;</td><td>&quot;true&quot;</td><td>null</td><td>null</td><td>null</td><td>null</td></tr><tr><td>&quot;1323479&quot;</td><td>&quot;1987-07-15&quot;</td><td>&quot;3971160&quot;</td><td>&quot;1985-11-01&quot;</td><td>&quot;МУРАВЬЕВ ВАЛЕРИЙ АЛЕКСАНДРОВИЧ&quot;</td><td>null</td><td>null</td><td>null</td><td>null</td><td>null</td><td>&quot;Гибкий винтовой конвейер&quot;</td><td>&quot;--&quot;</td><td>null</td><td>&quot;--&quot;</td><td>null</td><td>null</td><td>&quot;--&quot;</td><td>null</td><td>null</td><td>&quot;--&quot;</td><td>&quot;--&quot;</td><td>null</td><td>&quot;--&quot;</td><td>null</td><td>&quot;--&quot;</td><td>null</td><td>&quot;--&quot;</td><td>null</td><td>&quot;--&quot;</td><td>null</td><td>&quot;--&quot;</td><td>null</td><td>&quot;--&quot;</td><td>null</td><td>&quot;--&quot;</td><td>&quot;--&quot;</td><td>null</td><td>&quot;1987-07-15&quot;</td><td>&quot;26&quot;</td><td>null</td><td>null</td><td>&quot;--&quot;</td><td>null</td><td>&quot;false&quot;</td><td>&quot;true&quot;</td><td>null</td><td>null</td><td>null</td><td>null</td></tr><tr><td>&quot;1733422&quot;</td><td>&quot;--&quot;</td><td>null</td><td>&quot;--&quot;</td><td>null</td><td>null</td><td>null</td><td>null</td><td>null</td><td>null</td><td>null</td><td>&quot;--&quot;</td><td>null</td><td>&quot;--&quot;</td><td>null</td><td>null</td><td>&quot;--&quot;</td><td>null</td><td>null</td><td>&quot;--&quot;</td><td>&quot;--&quot;</td><td>null</td><td>&quot;--&quot;</td><td>null</td><td>&quot;--&quot;</td><td>null</td><td>&quot;--&quot;</td><td>null</td><td>&quot;--&quot;</td><td>null</td><td>&quot;--&quot;</td><td>null</td><td>&quot;--&quot;</td><td>null</td><td>&quot;--&quot;</td><td>&quot;--&quot;</td><td>null</td><td>&quot;--&quot;</td><td>null</td><td>null</td><td>null</td><td>&quot;--&quot;</td><td>null</td><td>&quot;false&quot;</td><td>&quot;false&quot;</td><td>&quot;C04B  24/18;C04B  28/02;C04B  …</td><td>null</td><td>null</td><td>null</td></tr></tbody></table></div>"
      ]
     },
     "execution_count": 25,
     "metadata": {},
     "output_type": "execute_result"
    }
   ],
   "execution_count": 25
  },
  {
   "metadata": {
    "ExecuteTime": {
     "end_time": "2024-06-15T20:51:00.768447Z",
     "start_time": "2024-06-15T20:51:00.705070Z"
    }
   },
   "cell_type": "code",
   "source": "inventions_df.describe()",
   "id": "eaa1174a8b2fe1e",
   "outputs": [
    {
     "data": {
      "text/plain": [
       "shape: (9, 50)\n",
       "┌───────────┬───────────┬───────────┬───────────┬───┬───────────┬───────────┬───────────┬──────────┐\n",
       "│ statistic ┆ registrat ┆ registrat ┆ applicati ┆ … ┆ mpk       ┆ Unnamed:  ┆ Unnamed:  ┆ Unnamed: │\n",
       "│ ---       ┆ ion       ┆ ion date  ┆ on number ┆   ┆ ---       ┆ 46        ┆ 47        ┆ 48       │\n",
       "│ str       ┆ number    ┆ ---       ┆ ---       ┆   ┆ str       ┆ ---       ┆ ---       ┆ ---      │\n",
       "│           ┆ ---       ┆ str       ┆ str       ┆   ┆           ┆ str       ┆ str       ┆ str      │\n",
       "│           ┆ str       ┆           ┆           ┆   ┆           ┆           ┆           ┆          │\n",
       "╞═══════════╪═══════════╪═══════════╪═══════════╪═══╪═══════════╪═══════════╪═══════════╪══════════╡\n",
       "│ count     ┆ 813608    ┆ 813607    ┆ 812779    ┆ … ┆ 780536    ┆ 3         ┆ 4         ┆ 2        │\n",
       "│ null_coun ┆ 0         ┆ 1         ┆ 829       ┆ … ┆ 33072     ┆ 813605    ┆ 813604    ┆ 813606   │\n",
       "│ t         ┆           ┆           ┆           ┆   ┆           ┆           ┆           ┆          │\n",
       "│ mean      ┆ null      ┆ null      ┆ null      ┆ … ┆ null      ┆ null      ┆ null      ┆ null     │\n",
       "│ std       ┆ null      ┆ null      ┆ null      ┆ … ┆ null      ┆ null      ┆ null      ┆ null     │\n",
       "│ min       ┆ 1002282   ┆ --        ┆ 985251    ┆ … ┆ 231203842 ┆ 1629020   ┆ 472548194 ┆ B22F     │\n",
       "│           ┆           ┆           ┆           ┆   ┆ 0         ┆           ┆ 0         ┆ 3/15;B32 │\n",
       "│           ┆           ┆           ┆           ┆   ┆           ┆           ┆           ┆ B  15/01 │\n",
       "│ 25%       ┆ null      ┆ null      ┆ null      ┆ … ┆ null      ┆ null      ┆ null      ┆ null     │\n",
       "│ 50%       ┆ null      ┆ null      ┆ null      ┆ … ┆ null      ┆ null      ┆ null      ┆ null     │\n",
       "│ 75%       ┆ null      ┆ null      ┆ null      ┆ … ┆ null      ┆ null      ┆ null      ┆ null     │\n",
       "│ max       ┆ ?70753    ┆ 2204-09-1 ┆ 99128112  ┆ … ┆ false     ┆ B01D  71/ ┆ B23K      ┆ F21S     │\n",
       "│           ┆           ┆ 0         ┆           ┆   ┆           ┆ 06;B01D   ┆ 23/00     ┆ 4/00     │\n",
       "│           ┆           ┆           ┆           ┆   ┆           ┆ 71/82     ┆           ┆          │\n",
       "└───────────┴───────────┴───────────┴───────────┴───┴───────────┴───────────┴───────────┴──────────┘"
      ],
      "text/html": [
       "<div><style>\n",
       ".dataframe > thead > tr,\n",
       ".dataframe > tbody > tr {\n",
       "  text-align: right;\n",
       "  white-space: pre-wrap;\n",
       "}\n",
       "</style>\n",
       "<small>shape: (9, 50)</small><table border=\"1\" class=\"dataframe\"><thead><tr><th>statistic</th><th>registration number</th><th>registration date</th><th>application number</th><th>application date</th><th>authors</th><th>authors in latin</th><th>patent holders</th><th>patent holders in latin</th><th>correspondence address</th><th>correspondence address in latin</th><th>invention name</th><th>patent starting date</th><th>Crimean invention application number for state registration in Ukraine</th><th>Crimean invention application date for state registration in Ukraine</th><th>Crimean invention patent number in Ukraine</th><th>receipt date of additional data to application</th><th>date of application to which additional data has been received</th><th>number of application to which additional data has been received</th><th>initial application number</th><th>initial application date</th><th>initial application priority date</th><th>previous application number</th><th>previous application date</th><th>paris convention priority number</th><th>paris convention priority date</th><th>paris convention priority country code</th><th>PCT application examination start date</th><th>PCT application number</th><th>PCT application date</th><th>PCT application publish number</th><th>PCT application publish date</th><th>EA application number</th><th>EA application date</th><th>EA application publish number</th><th>EA application publish date</th><th>application publish date</th><th>application publish number</th><th>patent grant publish date</th><th>patent grant publish number</th><th>revoked patent number</th><th>information about the obligation to conclude contract of alienation</th><th>expiration date</th><th>invention formula numbers for which patent term is prolonged</th><th>additional patent</th><th>actual</th><th>mpk</th><th>Unnamed: 46</th><th>Unnamed: 47</th><th>Unnamed: 48</th></tr><tr><td>str</td><td>str</td><td>str</td><td>str</td><td>str</td><td>str</td><td>str</td><td>str</td><td>str</td><td>str</td><td>str</td><td>str</td><td>str</td><td>str</td><td>str</td><td>str</td><td>str</td><td>str</td><td>str</td><td>str</td><td>str</td><td>str</td><td>str</td><td>str</td><td>str</td><td>str</td><td>str</td><td>str</td><td>str</td><td>str</td><td>str</td><td>str</td><td>str</td><td>str</td><td>str</td><td>str</td><td>str</td><td>str</td><td>str</td><td>str</td><td>str</td><td>str</td><td>str</td><td>str</td><td>str</td><td>str</td><td>str</td><td>str</td><td>str</td><td>str</td></tr></thead><tbody><tr><td>&quot;count&quot;</td><td>&quot;813608&quot;</td><td>&quot;813607&quot;</td><td>&quot;812779&quot;</td><td>&quot;813607&quot;</td><td>&quot;807490&quot;</td><td>&quot;73085&quot;</td><td>&quot;809863&quot;</td><td>&quot;73279&quot;</td><td>&quot;603186&quot;</td><td>&quot;23016&quot;</td><td>&quot;810723&quot;</td><td>&quot;813605&quot;</td><td>&quot;4&quot;</td><td>&quot;813594&quot;</td><td>&quot;4&quot;</td><td>&quot;377&quot;</td><td>&quot;813592&quot;</td><td>&quot;167&quot;</td><td>&quot;5829&quot;</td><td>&quot;813592&quot;</td><td>&quot;813596&quot;</td><td>&quot;417&quot;</td><td>&quot;813599&quot;</td><td>&quot;114858&quot;</td><td>&quot;813597&quot;</td><td>&quot;114965&quot;</td><td>&quot;813593&quot;</td><td>&quot;91847&quot;</td><td>&quot;813593&quot;</td><td>&quot;91488&quot;</td><td>&quot;813593&quot;</td><td>&quot;3&quot;</td><td>&quot;813593&quot;</td><td>&quot;4&quot;</td><td>&quot;813592&quot;</td><td>&quot;813594&quot;</td><td>&quot;113703&quot;</td><td>&quot;813605&quot;</td><td>&quot;781038&quot;</td><td>&quot;216&quot;</td><td>&quot;59123&quot;</td><td>&quot;813593&quot;</td><td>&quot;83&quot;</td><td>&quot;813604&quot;</td><td>&quot;813605&quot;</td><td>&quot;780536&quot;</td><td>&quot;3&quot;</td><td>&quot;4&quot;</td><td>&quot;2&quot;</td></tr><tr><td>&quot;null_count&quot;</td><td>&quot;0&quot;</td><td>&quot;1&quot;</td><td>&quot;829&quot;</td><td>&quot;1&quot;</td><td>&quot;6118&quot;</td><td>&quot;740523&quot;</td><td>&quot;3745&quot;</td><td>&quot;740329&quot;</td><td>&quot;210422&quot;</td><td>&quot;790592&quot;</td><td>&quot;2885&quot;</td><td>&quot;3&quot;</td><td>&quot;813604&quot;</td><td>&quot;14&quot;</td><td>&quot;813604&quot;</td><td>&quot;813231&quot;</td><td>&quot;16&quot;</td><td>&quot;813441&quot;</td><td>&quot;807779&quot;</td><td>&quot;16&quot;</td><td>&quot;12&quot;</td><td>&quot;813191&quot;</td><td>&quot;9&quot;</td><td>&quot;698750&quot;</td><td>&quot;11&quot;</td><td>&quot;698643&quot;</td><td>&quot;15&quot;</td><td>&quot;721761&quot;</td><td>&quot;15&quot;</td><td>&quot;722120&quot;</td><td>&quot;15&quot;</td><td>&quot;813605&quot;</td><td>&quot;15&quot;</td><td>&quot;813604&quot;</td><td>&quot;16&quot;</td><td>&quot;14&quot;</td><td>&quot;699905&quot;</td><td>&quot;3&quot;</td><td>&quot;32570&quot;</td><td>&quot;813392&quot;</td><td>&quot;754485&quot;</td><td>&quot;15&quot;</td><td>&quot;813525&quot;</td><td>&quot;4&quot;</td><td>&quot;3&quot;</td><td>&quot;33072&quot;</td><td>&quot;813605&quot;</td><td>&quot;813604&quot;</td><td>&quot;813606&quot;</td></tr><tr><td>&quot;mean&quot;</td><td>null</td><td>null</td><td>null</td><td>null</td><td>null</td><td>null</td><td>null</td><td>null</td><td>null</td><td>null</td><td>null</td><td>null</td><td>null</td><td>null</td><td>null</td><td>null</td><td>null</td><td>null</td><td>null</td><td>null</td><td>null</td><td>null</td><td>null</td><td>null</td><td>null</td><td>null</td><td>null</td><td>null</td><td>null</td><td>null</td><td>null</td><td>null</td><td>null</td><td>null</td><td>null</td><td>null</td><td>null</td><td>null</td><td>null</td><td>null</td><td>null</td><td>null</td><td>null</td><td>null</td><td>null</td><td>null</td><td>null</td><td>null</td><td>null</td></tr><tr><td>&quot;std&quot;</td><td>null</td><td>null</td><td>null</td><td>null</td><td>null</td><td>null</td><td>null</td><td>null</td><td>null</td><td>null</td><td>null</td><td>null</td><td>null</td><td>null</td><td>null</td><td>null</td><td>null</td><td>null</td><td>null</td><td>null</td><td>null</td><td>null</td><td>null</td><td>null</td><td>null</td><td>null</td><td>null</td><td>null</td><td>null</td><td>null</td><td>null</td><td>null</td><td>null</td><td>null</td><td>null</td><td>null</td><td>null</td><td>null</td><td>null</td><td>null</td><td>null</td><td>null</td><td>null</td><td>null</td><td>null</td><td>null</td><td>null</td><td>null</td><td>null</td></tr><tr><td>&quot;min&quot;</td><td>&quot;1002282&quot;</td><td>&quot;--&quot;</td><td>&quot;985251&quot;</td><td>&quot;--&quot;</td><td>&quot;    Абулханов Ринат Рауфович (…</td><td>&quot;(RU) (RU)&quot;</td><td>&quot; &quot;Ватрелла АБ&quot; (SE)&quot;</td><td>&quot; (RU)\t115280, Москва, Ленинска…</td><td>&quot;\t\tГРАВИТАЦИОННО-ЭЛЕКТРОМАГНИТН…</td><td>&quot;\tСПОСОБ СООРУЖЕНИЯ ТОННЕЛЯ И У…</td><td>&quot;((3?-АЦЕТОКСИ-УРС-12-ЕН-28-ОИЛ…</td><td>&quot;--&quot;</td><td>&quot;2007125979 по п.18&quot;</td><td>&quot;--&quot;</td><td>&quot;--&quot;</td><td>&quot;--&quot;</td><td>&quot;--&quot;</td><td>&quot;--&quot;</td><td>&quot;--&quot;</td><td>&quot;--&quot;</td><td>&quot;--&quot;</td><td>&quot;--&quot;</td><td>&quot;--&quot;</td><td>&quot; 20110210&quot;</td><td>&quot;--&quot;</td><td>&quot;--&quot;</td><td>&quot;--&quot;</td><td>&quot;--&quot;</td><td>&quot;--&quot;</td><td>&quot;--&quot;</td><td>&quot;--&quot;</td><td>&quot;--&quot;</td><td>&quot;--&quot;</td><td>&quot;--&quot;</td><td>&quot;--&quot;</td><td>&quot;--&quot;</td><td>&quot;--&quot;</td><td>&quot;--&quot;</td><td>&quot;--&quot;</td><td>&quot;--&quot;</td><td>&quot;18&quot;</td><td>&quot;--&quot;</td><td>&quot;(пп. 1 - 5, 30 и 31)&quot;</td><td>&quot;--&quot;</td><td>&quot;--&quot;</td><td>&quot;2312038420&quot;</td><td>&quot;1629020&quot;</td><td>&quot;4725481940&quot;</td><td>&quot;B22F   3/15;B32B  15/01&quot;</td></tr><tr><td>&quot;25%&quot;</td><td>null</td><td>null</td><td>null</td><td>null</td><td>null</td><td>null</td><td>null</td><td>null</td><td>null</td><td>null</td><td>null</td><td>null</td><td>null</td><td>null</td><td>null</td><td>null</td><td>null</td><td>null</td><td>null</td><td>null</td><td>null</td><td>null</td><td>null</td><td>null</td><td>null</td><td>null</td><td>null</td><td>null</td><td>null</td><td>null</td><td>null</td><td>null</td><td>null</td><td>null</td><td>null</td><td>null</td><td>null</td><td>null</td><td>null</td><td>null</td><td>null</td><td>null</td><td>null</td><td>null</td><td>null</td><td>null</td><td>null</td><td>null</td><td>null</td></tr><tr><td>&quot;50%&quot;</td><td>null</td><td>null</td><td>null</td><td>null</td><td>null</td><td>null</td><td>null</td><td>null</td><td>null</td><td>null</td><td>null</td><td>null</td><td>null</td><td>null</td><td>null</td><td>null</td><td>null</td><td>null</td><td>null</td><td>null</td><td>null</td><td>null</td><td>null</td><td>null</td><td>null</td><td>null</td><td>null</td><td>null</td><td>null</td><td>null</td><td>null</td><td>null</td><td>null</td><td>null</td><td>null</td><td>null</td><td>null</td><td>null</td><td>null</td><td>null</td><td>null</td><td>null</td><td>null</td><td>null</td><td>null</td><td>null</td><td>null</td><td>null</td><td>null</td></tr><tr><td>&quot;75%&quot;</td><td>null</td><td>null</td><td>null</td><td>null</td><td>null</td><td>null</td><td>null</td><td>null</td><td>null</td><td>null</td><td>null</td><td>null</td><td>null</td><td>null</td><td>null</td><td>null</td><td>null</td><td>null</td><td>null</td><td>null</td><td>null</td><td>null</td><td>null</td><td>null</td><td>null</td><td>null</td><td>null</td><td>null</td><td>null</td><td>null</td><td>null</td><td>null</td><td>null</td><td>null</td><td>null</td><td>null</td><td>null</td><td>null</td><td>null</td><td>null</td><td>null</td><td>null</td><td>null</td><td>null</td><td>null</td><td>null</td><td>null</td><td>null</td><td>null</td></tr><tr><td>&quot;max&quot;</td><td>&quot;?70753&quot;</td><td>&quot;2204-09-10&quot;</td><td>&quot;99128112&quot;</td><td>&quot;2024-02-26&quot;</td><td>&quot;курочка Лев Николаевич (UA)Кря…</td><td>&quot;Яшин Александр Васильевич (RU)…</td><td>&quot;ёРЛИКОН ТРЕЙДИНГ АГ, ТРЮББАХ (…</td><td>&quot;федеральное государственное ка…</td><td>&quot;фирма &quot;Бейкер и Макензи&quot; Ю.А.П…</td><td>&quot;Юрген &quot;</td><td>&quot;способ создания соединительног…</td><td>&quot;Способ модификации анионообмен…</td><td>&quot;СПОСОБ ОЧИСТКИ И РЕКУЛЬТИВАЦИИ…</td><td>&quot;СПОСОБ ПОЛУЧЕНИЯ КОМПОЗИЦИОННЫ…</td><td>&quot;2009-04-30&quot;</td><td>&quot;20230724&quot;</td><td>&quot;2023-02-28&quot;</td><td>&quot;99127198/28&quot;</td><td>&quot;98117710&quot;</td><td>&quot;2023-09-05&quot;</td><td>&quot;2022-02-16&quot;</td><td>&quot;а201214767&quot;</td><td>&quot;2023-02-20&quot;</td><td>&quot;РД 91 A 000229&quot;</td><td>&quot;2023-08-31&quot;</td><td>&quot;ZAZAZAZAZAZAZA&quot;</td><td>&quot;2024-01-16&quot;</td><td>&quot;ZA 2021/050040&quot;</td><td>&quot;2023-07-31&quot;</td><td>&quot;WO20223/071071&quot;</td><td>&quot;2024-02-01&quot;</td><td>&quot;--&quot;</td><td>&quot;--&quot;</td><td>&quot;--&quot;</td><td>&quot;--&quot;</td><td>&quot;2024-04-15&quot;</td><td>&quot;9&quot;</td><td>&quot;2204-09-10&quot;</td><td>&quot;9&quot;</td><td>&quot;7&quot;</td><td>&quot;На основании пункта 3 статьи 1…</td><td>&quot;false&quot;</td><td>&quot;пп.4-7&quot;</td><td>&quot;true&quot;</td><td>&quot;true&quot;</td><td>&quot;false&quot;</td><td>&quot;B01D  71/06;B01D  71/82&quot;</td><td>&quot;B23K  23/00&quot;</td><td>&quot;F21S   4/00&quot;</td></tr></tbody></table></div>"
      ]
     },
     "execution_count": 8,
     "metadata": {},
     "output_type": "execute_result"
    }
   ],
   "execution_count": 8
  },
  {
   "metadata": {
    "ExecuteTime": {
     "end_time": "2024-06-16T09:45:53.308924Z",
     "start_time": "2024-06-16T09:45:53.253257Z"
    }
   },
   "cell_type": "code",
   "source": "usefull_models_df = pl.read_parquet('/Users/foryourselfand/Documents/patent_hack/data/База по полезным моделям.parquet')",
   "id": "33ed9bbc76bda4bb",
   "outputs": [],
   "execution_count": 5
  },
  {
   "metadata": {
    "ExecuteTime": {
     "end_time": "2024-06-15T21:47:51.784561Z",
     "start_time": "2024-06-15T21:47:51.777766Z"
    }
   },
   "cell_type": "code",
   "source": "usefull_models_df.head()",
   "id": "1f60716d3d843f37",
   "outputs": [
    {
     "data": {
      "text/plain": [
       "shape: (5, 41)\n",
       "┌───────────┬───────────┬───────────┬───────────┬───┬───────────┬───────────┬───────────┬──────────┐\n",
       "│ registrat ┆ registrat ┆ applicati ┆ applicati ┆ … ┆ publicati ┆ mpk       ┆ Unnamed:  ┆ Unnamed: │\n",
       "│ ion       ┆ ion date  ┆ on number ┆ on date   ┆   ┆ on URL    ┆ ---       ┆ 39        ┆ 40       │\n",
       "│ number    ┆ ---       ┆ ---       ┆ ---       ┆   ┆ ---       ┆ str       ┆ ---       ┆ ---      │\n",
       "│ ---       ┆ str       ┆ f64       ┆ str       ┆   ┆ str       ┆           ┆ f64       ┆ str      │\n",
       "│ str       ┆           ┆           ┆           ┆   ┆           ┆           ┆           ┆          │\n",
       "╞═══════════╪═══════════╪═══════════╪═══════════╪═══╪═══════════╪═══════════╪═══════════╪══════════╡\n",
       "│ ?223746   ┆ 2024-03-0 ┆ 2.0231e9  ┆ 2023-11-0 ┆ … ┆ http://ww ┆ null      ┆ null      ┆ null     │\n",
       "│           ┆ 1         ┆           ┆ 7         ┆   ┆ w1.fips.r ┆           ┆           ┆          │\n",
       "│           ┆           ┆           ┆           ┆   ┆ u/fips_se ┆           ┆           ┆          │\n",
       "│           ┆           ┆           ┆           ┆   ┆ rvl…      ┆           ┆           ┆          │\n",
       "│ 100021    ┆ 2010-12-1 ┆ 2.0101e9  ┆ 2010-09-0 ┆ … ┆ http://ww ┆ B60J      ┆ null      ┆ null     │\n",
       "│           ┆ 0         ┆           ┆ 2         ┆   ┆ w1.fips.r ┆ 11/06     ┆           ┆          │\n",
       "│           ┆           ┆           ┆           ┆   ┆ u/fips_se ┆           ┆           ┆          │\n",
       "│           ┆           ┆           ┆           ┆   ┆ rvl…      ┆           ┆           ┆          │\n",
       "│ 100030    ┆ 2010-12-1 ┆ 2.0101e9  ┆ 2010-05-1 ┆ … ┆ http://ww ┆ B60S      ┆ null      ┆ null     │\n",
       "│           ┆ 0         ┆           ┆ 9         ┆   ┆ w1.fips.r ┆ 3/00      ┆           ┆          │\n",
       "│           ┆           ┆           ┆           ┆   ┆ u/fips_se ┆           ┆           ┆          │\n",
       "│           ┆           ┆           ┆           ┆   ┆ rvl…      ┆           ┆           ┆          │\n",
       "│ 100081    ┆ 2010-12-1 ┆ 2.0101e9  ┆ 2010-04-2 ┆ … ┆ http://ww ┆ C25C      ┆ null      ┆ null     │\n",
       "│           ┆ 0         ┆           ┆ 8         ┆   ┆ w1.fips.r ┆ 3/06      ┆           ┆          │\n",
       "│           ┆           ┆           ┆           ┆   ┆ u/fips_se ┆           ┆           ┆          │\n",
       "│           ┆           ┆           ┆           ┆   ┆ rvl…      ┆           ┆           ┆          │\n",
       "│ 100090    ┆ 2010-12-1 ┆ 2.0101e9  ┆ 2010-08-0 ┆ … ┆ http://ww ┆ E01D      ┆ null      ┆ null     │\n",
       "│           ┆ 0         ┆           ┆ 4         ┆   ┆ w1.fips.r ┆ 19/04     ┆           ┆          │\n",
       "│           ┆           ┆           ┆           ┆   ┆ u/fips_se ┆           ┆           ┆          │\n",
       "│           ┆           ┆           ┆           ┆   ┆ rvl…      ┆           ┆           ┆          │\n",
       "└───────────┴───────────┴───────────┴───────────┴───┴───────────┴───────────┴───────────┴──────────┘"
      ],
      "text/html": [
       "<div><style>\n",
       ".dataframe > thead > tr,\n",
       ".dataframe > tbody > tr {\n",
       "  text-align: right;\n",
       "  white-space: pre-wrap;\n",
       "}\n",
       "</style>\n",
       "<small>shape: (5, 41)</small><table border=\"1\" class=\"dataframe\"><thead><tr><th>registration number</th><th>registration date</th><th>application number</th><th>application date</th><th>authors</th><th>authors in latin</th><th>patent holders</th><th>patent holders in latin</th><th>correspondence address</th><th>correspondence address in latin</th><th>utility model name</th><th>patent starting date</th><th>Crimean utility model application number for state registration in Ukraine</th><th>Crimean utility model application date for state registration in Ukraine</th><th>Crimean utility model patent number in Ukraine</th><th>receipt date of additional data to application</th><th>date of application to which additional data has been received</th><th>number of application to which additional data has been received</th><th>initial application number</th><th>initial application date</th><th>initial application priority date</th><th>previous application number</th><th>previous application date</th><th>paris convention priority number</th><th>paris convention priority date</th><th>paris convention priority country code</th><th>PCT application examination start date</th><th>PCT application number</th><th>PCT application date</th><th>PCT application publish number</th><th>PCT application publish date</th><th>patent grant publish date</th><th>patent grant publish number</th><th>revoked patent number</th><th>expiration date</th><th>utility model formula numbers for which patent term is prolonged</th><th>actual</th><th>publication URL</th><th>mpk</th><th>Unnamed: 39</th><th>Unnamed: 40</th></tr><tr><td>str</td><td>str</td><td>f64</td><td>str</td><td>str</td><td>str</td><td>str</td><td>str</td><td>str</td><td>f64</td><td>str</td><td>f64</td><td>str</td><td>f64</td><td>f64</td><td>f64</td><td>f64</td><td>f64</td><td>f64</td><td>f64</td><td>f64</td><td>str</td><td>f64</td><td>str</td><td>str</td><td>str</td><td>f64</td><td>str</td><td>f64</td><td>str</td><td>f64</td><td>f64</td><td>f64</td><td>f64</td><td>f64</td><td>str</td><td>bool</td><td>str</td><td>str</td><td>f64</td><td>str</td></tr></thead><tbody><tr><td>&quot;?223746&quot;</td><td>&quot;2024-03-01&quot;</td><td>2.0231e9</td><td>&quot;2023-11-07&quot;</td><td>&quot;Войлошников Диомид Константино…</td><td>null</td><td>&quot;федеральное государственное ка…</td><td>null</td><td>&quot;625001, г. Тюмень, ул. Л. Толс…</td><td>null</td><td>&quot;Кран-стрела-двунога для вытаск…</td><td>2.0231107e7</td><td>null</td><td>null</td><td>null</td><td>null</td><td>null</td><td>null</td><td>null</td><td>null</td><td>null</td><td>null</td><td>null</td><td>null</td><td>null</td><td>null</td><td>null</td><td>null</td><td>null</td><td>null</td><td>null</td><td>2.0240301e7</td><td>7.0</td><td>null</td><td>null</td><td>null</td><td>true</td><td>&quot;http://www1.fips.ru/fips_servl…</td><td>null</td><td>null</td><td>null</td></tr><tr><td>&quot;100021&quot;</td><td>&quot;2010-12-10&quot;</td><td>2.0101e9</td><td>&quot;2010-09-02&quot;</td><td>&quot;Шакеров Равиль Аббясович (RU)&quot;</td><td>null</td><td>&quot;общество с ограниченной ответс…</td><td>null</td><td>&quot;115372, Москва, а/я 4, И.А. Чи…</td><td>null</td><td>&quot;ДЕКОРАТИВНО-ЗАЩИТНЫЙ ЧЕХОЛ&quot;</td><td>2.0100902e7</td><td>null</td><td>null</td><td>null</td><td>null</td><td>null</td><td>null</td><td>null</td><td>null</td><td>null</td><td>null</td><td>null</td><td>null</td><td>null</td><td>null</td><td>null</td><td>null</td><td>null</td><td>null</td><td>null</td><td>2.010121e7</td><td>34.0</td><td>null</td><td>null</td><td>null</td><td>false</td><td>&quot;http://www1.fips.ru/fips_servl…</td><td>&quot;B60J  11/06&quot;</td><td>null</td><td>null</td></tr><tr><td>&quot;100030&quot;</td><td>&quot;2010-12-10&quot;</td><td>2.0101e9</td><td>&quot;2010-05-19&quot;</td><td>&quot;Носенко Лев Евгеньевич (RU)Кон…</td><td>null</td><td>&quot;общество с ограниченной ответс…</td><td>null</td><td>&quot;109456, Москва, Рязанский пр-к…</td><td>null</td><td>&quot;ПЕРЕДВИЖНАЯ УСТАНОВКА ДЛЯ МОЙК…</td><td>2.0100519e7</td><td>null</td><td>null</td><td>null</td><td>null</td><td>null</td><td>null</td><td>null</td><td>null</td><td>null</td><td>null</td><td>null</td><td>null</td><td>null</td><td>null</td><td>null</td><td>null</td><td>null</td><td>null</td><td>null</td><td>2.010121e7</td><td>34.0</td><td>null</td><td>null</td><td>null</td><td>false</td><td>&quot;http://www1.fips.ru/fips_servl…</td><td>&quot;B60S   3/00&quot;</td><td>null</td><td>null</td></tr><tr><td>&quot;100081&quot;</td><td>&quot;2010-12-10&quot;</td><td>2.0101e9</td><td>&quot;2010-04-28&quot;</td><td>&quot;Ахмедов Сергей Норматович (RU)&quot;</td><td>null</td><td>&quot;общество с ограниченной ответс…</td><td>null</td><td>&quot;199053, Санкт-Петербург, а/я 6…</td><td>null</td><td>&quot;КОМПЛЕКС ОБОРУДОВАНИЯ ЗАВОДА П…</td><td>2.0100428e7</td><td>null</td><td>null</td><td>null</td><td>null</td><td>null</td><td>null</td><td>null</td><td>null</td><td>null</td><td>null</td><td>null</td><td>null</td><td>null</td><td>null</td><td>null</td><td>null</td><td>null</td><td>null</td><td>null</td><td>2.010121e7</td><td>34.0</td><td>null</td><td>null</td><td>null</td><td>true</td><td>&quot;http://www1.fips.ru/fips_servl…</td><td>&quot;C25C   3/06&quot;</td><td>null</td><td>null</td></tr><tr><td>&quot;100090&quot;</td><td>&quot;2010-12-10&quot;</td><td>2.0101e9</td><td>&quot;2010-08-04&quot;</td><td>&quot;Шаферман Илья Михайлович (RU)Г…</td><td>null</td><td>&quot;шаферман илья михайлович гитма…</td><td>null</td><td>&quot;123104, Москва, ул. Малая Брон…</td><td>null</td><td>&quot;ОПОРНОЕ УСТРОЙСТВО (ВАРИАНТЫ)&quot;</td><td>2.0100804e7</td><td>null</td><td>null</td><td>null</td><td>null</td><td>null</td><td>null</td><td>null</td><td>null</td><td>null</td><td>null</td><td>null</td><td>null</td><td>null</td><td>null</td><td>null</td><td>null</td><td>null</td><td>null</td><td>null</td><td>2.010121e7</td><td>34.0</td><td>null</td><td>null</td><td>null</td><td>false</td><td>&quot;http://www1.fips.ru/fips_servl…</td><td>&quot;E01D  19/04&quot;</td><td>null</td><td>null</td></tr></tbody></table></div>"
      ]
     },
     "execution_count": 40,
     "metadata": {},
     "output_type": "execute_result"
    }
   ],
   "execution_count": 40
  },
  {
   "metadata": {
    "ExecuteTime": {
     "end_time": "2024-06-16T09:45:55.002974Z",
     "start_time": "2024-06-16T09:45:54.986298Z"
    }
   },
   "cell_type": "code",
   "source": [
    "industrial_designs_df = pl.read_parquet(\n",
    "    '/Users/foryourselfand/Documents/patent_hack/data/База по промышленным образцам.parquet')"
   ],
   "id": "ebd1c4c624d2fc2e",
   "outputs": [],
   "execution_count": 6
  },
  {
   "metadata": {
    "ExecuteTime": {
     "end_time": "2024-06-15T21:47:46.981212Z",
     "start_time": "2024-06-15T21:47:46.976923Z"
    }
   },
   "cell_type": "code",
   "source": "industrial_designs_df.head(5)",
   "id": "47c9d193f009c295",
   "outputs": [
    {
     "data": {
      "text/plain": [
       "shape: (5, 36)\n",
       "┌────────────┬────────────┬────────────┬────────────┬───┬────────┬────────────┬────────────┬───────┐\n",
       "│ registrati ┆ registrati ┆ applicatio ┆ applicatio ┆ … ┆ actual ┆ publicatio ┆ actual_dat ┆ mkpo  │\n",
       "│ on number  ┆ on date    ┆ n number   ┆ n date     ┆   ┆ ---    ┆ n URL      ┆ e          ┆ ---   │\n",
       "│ ---        ┆ ---        ┆ ---        ┆ ---        ┆   ┆ str    ┆ ---        ┆ ---        ┆ str   │\n",
       "│ i64        ┆ str        ┆ f64        ┆ str        ┆   ┆        ┆ str        ┆ i64        ┆       │\n",
       "╞════════════╪════════════╪════════════╪════════════╪═══╪════════╪════════════╪════════════╪═══════╡\n",
       "│ 100000     ┆ 2016-08-29 ┆ 2.0155e9   ┆ 2015-10-29 ┆ … ┆ true   ┆ http://www ┆ 202403     ┆ 20-03 │\n",
       "│            ┆            ┆            ┆            ┆   ┆        ┆ 1.fips.ru/ ┆            ┆       │\n",
       "│            ┆            ┆            ┆            ┆   ┆        ┆ fips_servl ┆            ┆       │\n",
       "│            ┆            ┆            ┆            ┆   ┆        ┆ …          ┆            ┆       │\n",
       "│ 100001     ┆ 2016-08-29 ┆ 2.0155e9   ┆ 2015-10-29 ┆ … ┆ true   ┆ http://www ┆ 202403     ┆ 09-01 │\n",
       "│            ┆            ┆            ┆            ┆   ┆        ┆ 1.fips.ru/ ┆            ┆       │\n",
       "│            ┆            ┆            ┆            ┆   ┆        ┆ fips_servl ┆            ┆       │\n",
       "│            ┆            ┆            ┆            ┆   ┆        ┆ …          ┆            ┆       │\n",
       "│ 100002     ┆ 2016-08-29 ┆ 2.0155e9   ┆ 2015-11-19 ┆ … ┆ true   ┆ http://www ┆ 202403     ┆ 09-07 │\n",
       "│            ┆            ┆            ┆            ┆   ┆        ┆ 1.fips.ru/ ┆            ┆       │\n",
       "│            ┆            ┆            ┆            ┆   ┆        ┆ fips_servl ┆            ┆       │\n",
       "│            ┆            ┆            ┆            ┆   ┆        ┆ …          ┆            ┆       │\n",
       "│ 100003     ┆ 2016-08-29 ┆ 2.0155e9   ┆ 2015-12-04 ┆ … ┆ true   ┆ http://www ┆ 202403     ┆ 21-01 │\n",
       "│            ┆            ┆            ┆            ┆   ┆        ┆ 1.fips.ru/ ┆            ┆       │\n",
       "│            ┆            ┆            ┆            ┆   ┆        ┆ fips_servl ┆            ┆       │\n",
       "│            ┆            ┆            ┆            ┆   ┆        ┆ …          ┆            ┆       │\n",
       "│ 100004     ┆ 2016-08-29 ┆ 2.0155e9   ┆ 2015-12-22 ┆ … ┆ true   ┆ http://www ┆ 202403     ┆ 14-02 │\n",
       "│            ┆            ┆            ┆            ┆   ┆        ┆ 1.fips.ru/ ┆            ┆       │\n",
       "│            ┆            ┆            ┆            ┆   ┆        ┆ fips_servl ┆            ┆       │\n",
       "│            ┆            ┆            ┆            ┆   ┆        ┆ …          ┆            ┆       │\n",
       "└────────────┴────────────┴────────────┴────────────┴───┴────────┴────────────┴────────────┴───────┘"
      ],
      "text/html": [
       "<div><style>\n",
       ".dataframe > thead > tr,\n",
       ".dataframe > tbody > tr {\n",
       "  text-align: right;\n",
       "  white-space: pre-wrap;\n",
       "}\n",
       "</style>\n",
       "<small>shape: (5, 36)</small><table border=\"1\" class=\"dataframe\"><thead><tr><th>registration number</th><th>registration date</th><th>application number</th><th>application date</th><th>authors</th><th>authors in latin</th><th>patent holders</th><th>patent holders in latin</th><th>correspondence address</th><th>correspondence address in latin</th><th>industrial design name</th><th>patent starting date</th><th>Crimean industrial design application number for state registration in Ukraine</th><th>Crimean industrial design application date for state registration in Ukraine</th><th>Crimean industrial design patent number in Ukraine</th><th>receipt date of additional data to application</th><th>date of application to which additional data has been received</th><th>number of application to which additional data has been received</th><th>initial application number</th><th>initial application date</th><th>initial application priority date</th><th>previous application number</th><th>previous application date</th><th>paris convention priority number</th><th>paris convention priority date</th><th>paris convention priority country code</th><th>patent grant publish date</th><th>patent grant publish number</th><th>revoked patent number</th><th>expiration date</th><th>numbers of list of essential features for which patent term is prolonged</th><th>industrial designs names and number for which patent term is prolonged</th><th>actual</th><th>publication URL</th><th>actual_date</th><th>mkpo</th></tr><tr><td>i64</td><td>str</td><td>f64</td><td>str</td><td>str</td><td>str</td><td>str</td><td>str</td><td>str</td><td>str</td><td>str</td><td>f64</td><td>str</td><td>f64</td><td>f64</td><td>f64</td><td>f64</td><td>str</td><td>str</td><td>f64</td><td>f64</td><td>str</td><td>f64</td><td>str</td><td>str</td><td>str</td><td>f64</td><td>f64</td><td>f64</td><td>f64</td><td>f64</td><td>bool</td><td>str</td><td>str</td><td>i64</td><td>str</td></tr></thead><tbody><tr><td>100000</td><td>&quot;2016-08-29&quot;</td><td>2.0155e9</td><td>&quot;2015-10-29&quot;</td><td>&quot;Исаев Руслан Гимиевич (RU)&quot;</td><td>null</td><td>&quot;исаев руслан гимиевич&quot;</td><td>null</td><td>&quot;360006, КБР, г. Нальчик, пер. …</td><td>null</td><td>&quot;АВТОМОБИЛЬНЫЙ ЗНАК &quot;АВТО ОПАСН…</td><td>2.0151029e7</td><td>null</td><td>null</td><td>null</td><td>null</td><td>null</td><td>null</td><td>null</td><td>null</td><td>null</td><td>null</td><td>null</td><td>null</td><td>null</td><td>null</td><td>2.0160916e7</td><td>9.0</td><td>null</td><td>2.0201029e7</td><td>null</td><td>null</td><td>&quot;true&quot;</td><td>&quot;http://www1.fips.ru/fips_servl…</td><td>202403</td><td>&quot;20-03&quot;</td></tr><tr><td>100001</td><td>&quot;2016-08-29&quot;</td><td>2.0155e9</td><td>&quot;2015-10-29&quot;</td><td>&quot;Клинецкий Евгений Федорович (R…</td><td>null</td><td>&quot;клинецкий евгений федорович&quot;</td><td>null</td><td>&quot;140030, Московская обл., г. Лю…</td><td>null</td><td>&quot;БУТЫЛКА&quot;</td><td>2.0151029e7</td><td>null</td><td>null</td><td>null</td><td>null</td><td>null</td><td>null</td><td>null</td><td>null</td><td>null</td><td>null</td><td>null</td><td>null</td><td>null</td><td>null</td><td>2.0160916e7</td><td>9.0</td><td>null</td><td>2.0251029e7</td><td>null</td><td>null</td><td>&quot;true&quot;</td><td>&quot;http://www1.fips.ru/fips_servl…</td><td>202403</td><td>&quot;09-01&quot;</td></tr><tr><td>100002</td><td>&quot;2016-08-29&quot;</td><td>2.0155e9</td><td>&quot;2015-11-19&quot;</td><td>&quot;Кудрявцев Андрей Юрьевич (RU)Э…</td><td>null</td><td>&quot;кудрявцев андрей юрьевич эрнан…</td><td>null</td><td>&quot;105064, Москва, а/я 88, &quot;Патен…</td><td>null</td><td>&quot;ПЛАСТМАССОВАЯ КРЫШКА С КОНТРОЛ…</td><td>2.0151119e7</td><td>null</td><td>null</td><td>null</td><td>null</td><td>null</td><td>null</td><td>null</td><td>null</td><td>null</td><td>null</td><td>null</td><td>null</td><td>null</td><td>null</td><td>2.0160916e7</td><td>9.0</td><td>null</td><td>2.0251119e7</td><td>null</td><td>null</td><td>&quot;true&quot;</td><td>&quot;http://www1.fips.ru/fips_servl…</td><td>202403</td><td>&quot;09-07&quot;</td></tr><tr><td>100003</td><td>&quot;2016-08-29&quot;</td><td>2.0155e9</td><td>&quot;2015-12-04&quot;</td><td>&quot;Бушон Дмитрий Владимирович (RU…</td><td>null</td><td>&quot;бушон дмитрий владимирович буш…</td><td>null</td><td>&quot;121165, Москва, Г-165, а/я 15,…</td><td>null</td><td>&quot;ИГРОВОЙ НАБОР &quot;ДИАЛОГ С СОБОЙ&quot;&quot;</td><td>2.0151204e7</td><td>null</td><td>null</td><td>null</td><td>null</td><td>null</td><td>null</td><td>null</td><td>null</td><td>null</td><td>null</td><td>null</td><td>null</td><td>null</td><td>null</td><td>2.0160916e7</td><td>9.0</td><td>null</td><td>2.0251204e7</td><td>null</td><td>null</td><td>&quot;true&quot;</td><td>&quot;http://www1.fips.ru/fips_servl…</td><td>202403</td><td>&quot;21-01&quot;</td></tr><tr><td>100004</td><td>&quot;2016-08-29&quot;</td><td>2.0155e9</td><td>&quot;2015-12-22&quot;</td><td>&quot;Тикменов Василий Николаевич (R…</td><td>null</td><td>&quot;акционерное общество научнотех…</td><td>null</td><td>&quot;124460, Москва, Зеленоград, Па…</td><td>null</td><td>&quot;БЛОК УПРАВЛЕНИЯ И ОТОБРАЖЕНИЯ …</td><td>2.0151222e7</td><td>null</td><td>null</td><td>null</td><td>null</td><td>null</td><td>null</td><td>null</td><td>null</td><td>null</td><td>null</td><td>null</td><td>null</td><td>null</td><td>null</td><td>2.0160916e7</td><td>9.0</td><td>null</td><td>2.0251222e7</td><td>null</td><td>null</td><td>&quot;true&quot;</td><td>&quot;http://www1.fips.ru/fips_servl…</td><td>202403</td><td>&quot;14-02&quot;</td></tr></tbody></table></div>"
      ]
     },
     "execution_count": 39,
     "metadata": {},
     "output_type": "execute_result"
    }
   ],
   "execution_count": 39
  },
  {
   "metadata": {
    "ExecuteTime": {
     "end_time": "2024-06-15T21:36:58.040657Z",
     "start_time": "2024-06-15T21:36:58.029014Z"
    }
   },
   "cell_type": "code",
   "source": "industrial_designs_df['patent holders'].value_counts()",
   "id": "e99dd2ac9b73c198",
   "outputs": [
    {
     "data": {
      "text/plain": [
       "shape: (25_796, 2)\n",
       "┌─────────────────────────────────┬───────┐\n",
       "│ patent holders                  ┆ count │\n",
       "│ ---                             ┆ ---   │\n",
       "│ str                             ┆ u32   │\n",
       "╞═════════════════════════════════╪═══════╡\n",
       "│ де грисогоно са                 ┆ 28    │\n",
       "│ открытое акционерное общество … ┆ 1     │\n",
       "│ перелыгин виталий георгиевич    ┆ 1     │\n",
       "│ грдзелишвили каха сергеевич     ┆ 2     │\n",
       "│ лимаж хоум продактс инк         ┆ 2     │\n",
       "│ …                               ┆ …     │\n",
       "│ совместное предприятие парагра… ┆ 1     │\n",
       "│ кистень александр михайлович    ┆ 1     │\n",
       "│ рж вочиз са                     ┆ 1     │\n",
       "│ общество с ограниченной ответс… ┆ 1     │\n",
       "│ константин ханг машиненпродукц… ┆ 5     │\n",
       "└─────────────────────────────────┴───────┘"
      ],
      "text/html": [
       "<div><style>\n",
       ".dataframe > thead > tr,\n",
       ".dataframe > tbody > tr {\n",
       "  text-align: right;\n",
       "  white-space: pre-wrap;\n",
       "}\n",
       "</style>\n",
       "<small>shape: (25_796, 2)</small><table border=\"1\" class=\"dataframe\"><thead><tr><th>patent holders</th><th>count</th></tr><tr><td>str</td><td>u32</td></tr></thead><tbody><tr><td>&quot;де грисогоно са&quot;</td><td>28</td></tr><tr><td>&quot;открытое акционерное общество …</td><td>1</td></tr><tr><td>&quot;перелыгин виталий георгиевич&quot;</td><td>1</td></tr><tr><td>&quot;грдзелишвили каха сергеевич&quot;</td><td>2</td></tr><tr><td>&quot;лимаж хоум продактс инк&quot;</td><td>2</td></tr><tr><td>&hellip;</td><td>&hellip;</td></tr><tr><td>&quot;совместное предприятие парагра…</td><td>1</td></tr><tr><td>&quot;кистень александр михайлович&quot;</td><td>1</td></tr><tr><td>&quot;рж вочиз са&quot;</td><td>1</td></tr><tr><td>&quot;общество с ограниченной ответс…</td><td>1</td></tr><tr><td>&quot;константин ханг машиненпродукц…</td><td>5</td></tr></tbody></table></div>"
      ]
     },
     "execution_count": 25,
     "metadata": {},
     "output_type": "execute_result"
    }
   ],
   "execution_count": 25
  },
  {
   "metadata": {
    "ExecuteTime": {
     "end_time": "2024-06-16T09:45:56.853957Z",
     "start_time": "2024-06-16T09:45:56.850323Z"
    }
   },
   "cell_type": "code",
   "source": [
    "def clean_patent_holders(df, column_name):\n",
    "    return df.with_columns(\n",
    "        pl.col(column_name)\n",
    "        .str.to_lowercase()\n",
    "        .str.replace_all(r'\\(..\\)', '', literal=False)\n",
    "        # .str.replace_all(r'[^\\u0041-\\u005A\\u0061-\\u007A\\u0400-\\u04FF\\s]', '', literal=False)\n",
    "        .str.replace_all(r'[^a-zа-я\\s]', '', literal=False)\n",
    "        .str.replace_all(r'\\s+', ' ', literal=False)\n",
    "        .str.strip_chars()\n",
    "    )"
   ],
   "id": "6b5ce7172707bbda",
   "outputs": [],
   "execution_count": 7
  },
  {
   "metadata": {
    "ExecuteTime": {
     "end_time": "2024-06-16T09:46:00.887804Z",
     "start_time": "2024-06-16T09:45:58.317383Z"
    }
   },
   "cell_type": "code",
   "source": [
    "inventions_df = clean_patent_holders(inventions_df, \"patent holders\")\n",
    "industrial_designs_df = clean_patent_holders(industrial_designs_df, \"patent holders\")\n",
    "usefull_models_df = clean_patent_holders(usefull_models_df, \"patent holders\")"
   ],
   "id": "51e6a108c7b0550a",
   "outputs": [],
   "execution_count": 8
  },
  {
   "metadata": {
    "ExecuteTime": {
     "end_time": "2024-06-16T09:46:03.457331Z",
     "start_time": "2024-06-16T09:46:01.798314Z"
    }
   },
   "cell_type": "code",
   "source": [
    "inventions_df.write_parquet('/Users/foryourselfand/Documents/patent_hack/data/База по изобретениям_cleaned.parquet')\n",
    "industrial_designs_df.write_parquet('/Users/foryourselfand/Documents/patent_hack/data/База по промышленным образцам_cleaned.parquet')\n",
    "usefull_models_df.write_parquet('/Users/foryourselfand/Documents/patent_hack/data/База по полезным моделям_cleaned.parquet')"
   ],
   "id": "69ac46fdd3e75aff",
   "outputs": [],
   "execution_count": 9
  },
  {
   "metadata": {
    "ExecuteTime": {
     "end_time": "2024-06-16T09:47:12.748856Z",
     "start_time": "2024-06-16T09:46:04.439531Z"
    }
   },
   "cell_type": "code",
   "source": [
    "big_df = clean_patent_holders(big_df, \"Наименование полное\")\n",
    "big_df = clean_patent_holders(big_df, \"Наименование краткое\")"
   ],
   "id": "e3d40eaf269ba571",
   "outputs": [],
   "execution_count": 10
  },
  {
   "metadata": {
    "ExecuteTime": {
     "end_time": "2024-06-16T09:39:46.687887Z",
     "start_time": "2024-06-16T09:39:11.777801Z"
    }
   },
   "cell_type": "code",
   "source": "big_df.write_parquet('/Users/foryourselfand/Documents/patent_hack/data/DatasetOrg_cleaned.parquet')",
   "id": "1de9f3e44619d107",
   "outputs": [],
   "execution_count": 23
  },
  {
   "metadata": {
    "ExecuteTime": {
     "end_time": "2024-06-16T09:37:56.933124Z",
     "start_time": "2024-06-16T09:37:56.929640Z"
    }
   },
   "cell_type": "code",
   "source": [
    "def join_and_insert(df1, df2, date_col1, date_col2, name_col1, name_col2, id_col, reg_num_col):\n",
    "    result = (df1.join(df2, how=\"inner\", left_on=name_col1, right_on=name_col2)\n",
    "              .filter(pl.col(date_col1) < pl.col(date_col2))\n",
    "              .select([id_col, reg_num_col]))\n",
    "\n",
    "    result_short = (df1.join(df2, how=\"inner\", left_on=name_col1.replace('полное', 'краткое'), right_on=name_col2.replace('полное', 'краткое'))\n",
    "                    .filter(pl.col(date_col1) < pl.col(date_col2))\n",
    "                    .select([id_col, reg_num_col]))\n",
    "\n",
    "    return result.vstack(result_short).unique()"
   ],
   "id": "a080cf5d5d777ba6",
   "outputs": [],
   "execution_count": 10
  },
  {
   "metadata": {
    "ExecuteTime": {
     "end_time": "2024-06-16T09:37:59.270766Z",
     "start_time": "2024-06-16T09:37:58.214310Z"
    }
   },
   "cell_type": "code",
   "source": [
    "result_industrial_designs = join_and_insert(big_df, industrial_designs_df, \"Дата создания\", \"application date\",\n",
    "                                            \"Наименование полное\", \"patent holders\", \"ID компании\",\n",
    "                                            \"registration number\")"
   ],
   "id": "b84adb818a574cb1",
   "outputs": [],
   "execution_count": 11
  },
  {
   "metadata": {
    "ExecuteTime": {
     "end_time": "2024-06-16T09:38:00.683676Z",
     "start_time": "2024-06-16T09:38:00.678473Z"
    }
   },
   "cell_type": "code",
   "source": "result_industrial_designs.shape",
   "id": "3a7e540d964e56b7",
   "outputs": [
    {
     "data": {
      "text/plain": [
       "(2499589, 2)"
      ]
     },
     "execution_count": 12,
     "metadata": {},
     "output_type": "execute_result"
    }
   ],
   "execution_count": 12
  },
  {
   "metadata": {
    "ExecuteTime": {
     "end_time": "2024-06-16T09:38:02.572025Z",
     "start_time": "2024-06-16T09:38:02.428157Z"
    }
   },
   "cell_type": "code",
   "source": "result_industrial_designs.write_parquet('/Users/foryourselfand/Documents/patent_hack/data/industrial_designs_result.parquet')",
   "id": "dd2929d532617ae9",
   "outputs": [],
   "execution_count": 13
  },
  {
   "metadata": {
    "ExecuteTime": {
     "end_time": "2024-06-16T09:38:06.863353Z",
     "start_time": "2024-06-16T09:38:05.055276Z"
    }
   },
   "cell_type": "code",
   "source": [
    "result_inventions = join_and_insert(big_df, inventions_df, \"Дата создания\", \"application date\", \"Наименование полное\",\n",
    "                                    \"patent holders\", \"ID компании\", \"registration number\")"
   ],
   "id": "8981a2de10929c7c",
   "outputs": [],
   "execution_count": 14
  },
  {
   "metadata": {
    "ExecuteTime": {
     "end_time": "2024-06-16T09:38:07.453225Z",
     "start_time": "2024-06-16T09:38:07.278448Z"
    }
   },
   "cell_type": "code",
   "source": "result_inventions.write_parquet('/Users/foryourselfand/Documents/patent_hack/data/inventions_result.parquet')",
   "id": "f0ceacee8354fd69",
   "outputs": [],
   "execution_count": 15
  },
  {
   "metadata": {
    "ExecuteTime": {
     "end_time": "2024-06-16T09:38:08.705576Z",
     "start_time": "2024-06-16T09:38:08.703140Z"
    }
   },
   "cell_type": "code",
   "source": "result_inventions.shape",
   "id": "5e02585e24e185ff",
   "outputs": [
    {
     "data": {
      "text/plain": [
       "(2863990, 2)"
      ]
     },
     "execution_count": 16,
     "metadata": {},
     "output_type": "execute_result"
    }
   ],
   "execution_count": 16
  },
  {
   "metadata": {
    "ExecuteTime": {
     "end_time": "2024-06-15T21:53:02.783630Z",
     "start_time": "2024-06-15T21:53:02.780622Z"
    }
   },
   "cell_type": "code",
   "source": "result_inventions",
   "id": "adc44e360f599db3",
   "outputs": [
    {
     "data": {
      "text/plain": [
       "shape: (2_863_907, 2)\n",
       "┌─────────────┬─────────────────────┐\n",
       "│ ID компании ┆ registration number │\n",
       "│ ---         ┆ ---                 │\n",
       "│ i64         ┆ str                 │\n",
       "╞═════════════╪═════════════════════╡\n",
       "│ 42034296    ┆ 2591746             │\n",
       "│ 38965959    ┆ 2138889             │\n",
       "│ 41353940    ┆ 2797162             │\n",
       "│ 15199287    ┆ 2746077             │\n",
       "│ 48435437    ┆ 2160549             │\n",
       "│ …           ┆ …                   │\n",
       "│ 38785747    ┆ 2665631             │\n",
       "│ 40004146    ┆ 2240728             │\n",
       "│ 15730439    ┆ 2811159             │\n",
       "│ 41892206    ┆ 2439386             │\n",
       "│ 25150125    ┆ 2129454             │\n",
       "└─────────────┴─────────────────────┘"
      ],
      "text/html": [
       "<div><style>\n",
       ".dataframe > thead > tr,\n",
       ".dataframe > tbody > tr {\n",
       "  text-align: right;\n",
       "  white-space: pre-wrap;\n",
       "}\n",
       "</style>\n",
       "<small>shape: (2_863_907, 2)</small><table border=\"1\" class=\"dataframe\"><thead><tr><th>ID компании</th><th>registration number</th></tr><tr><td>i64</td><td>str</td></tr></thead><tbody><tr><td>42034296</td><td>&quot;2591746&quot;</td></tr><tr><td>38965959</td><td>&quot;2138889&quot;</td></tr><tr><td>41353940</td><td>&quot;2797162&quot;</td></tr><tr><td>15199287</td><td>&quot;2746077&quot;</td></tr><tr><td>48435437</td><td>&quot;2160549&quot;</td></tr><tr><td>&hellip;</td><td>&hellip;</td></tr><tr><td>38785747</td><td>&quot;2665631&quot;</td></tr><tr><td>40004146</td><td>&quot;2240728&quot;</td></tr><tr><td>15730439</td><td>&quot;2811159&quot;</td></tr><tr><td>41892206</td><td>&quot;2439386&quot;</td></tr><tr><td>25150125</td><td>&quot;2129454&quot;</td></tr></tbody></table></div>"
      ]
     },
     "execution_count": 48,
     "metadata": {},
     "output_type": "execute_result"
    }
   ],
   "execution_count": 48
  },
  {
   "metadata": {
    "ExecuteTime": {
     "end_time": "2024-06-16T09:38:14.492490Z",
     "start_time": "2024-06-16T09:38:13.390514Z"
    }
   },
   "cell_type": "code",
   "source": [
    "result_usefull_models = join_and_insert(big_df, usefull_models_df, \"Дата создания\", \"application date\",\n",
    "                                        \"Наименование полное\", \"patent holders\", \"ID компании\", \"registration number\")"
   ],
   "id": "9cd928ffa553c15a",
   "outputs": [],
   "execution_count": 17
  },
  {
   "metadata": {},
   "cell_type": "code",
   "outputs": [],
   "execution_count": null,
   "source": "",
   "id": "42534177cd10f4fb"
  },
  {
   "metadata": {
    "ExecuteTime": {
     "end_time": "2024-06-16T09:38:16.330Z",
     "start_time": "2024-06-16T09:38:16.083261Z"
    }
   },
   "cell_type": "code",
   "source": "result_usefull_models.write_parquet('/Users/foryourselfand/Documents/patent_hack/data/usefull_models_result.parquet')",
   "id": "d4e59322edd3c08a",
   "outputs": [],
   "execution_count": 18
  },
  {
   "metadata": {
    "ExecuteTime": {
     "end_time": "2024-06-16T09:38:17.575193Z",
     "start_time": "2024-06-16T09:38:17.571792Z"
    }
   },
   "cell_type": "code",
   "source": "result_usefull_models.shape",
   "id": "92fde8dcad199950",
   "outputs": [
    {
     "data": {
      "text/plain": [
       "(3156767, 2)"
      ]
     },
     "execution_count": 19,
     "metadata": {},
     "output_type": "execute_result"
    }
   ],
   "execution_count": 19
  },
  {
   "metadata": {
    "ExecuteTime": {
     "end_time": "2024-06-16T09:38:29.691423Z",
     "start_time": "2024-06-16T09:38:29.446357Z"
    }
   },
   "cell_type": "code",
   "source": "combined_df = result_industrial_designs.vstack(result_inventions).vstack(result_usefull_models).unique()",
   "id": "8ebf455db50f42b5",
   "outputs": [],
   "execution_count": 21
  },
  {
   "metadata": {
    "ExecuteTime": {
     "end_time": "2024-06-16T09:38:33.433005Z",
     "start_time": "2024-06-16T09:38:33.428495Z"
    }
   },
   "cell_type": "code",
   "source": "combined_df",
   "id": "6efd3054c9356842",
   "outputs": [
    {
     "data": {
      "text/plain": [
       "shape: (8_520_344, 2)\n",
       "┌─────────────┬─────────────────────┐\n",
       "│ ID компании ┆ registration number │\n",
       "│ ---         ┆ ---                 │\n",
       "│ i64         ┆ str                 │\n",
       "╞═════════════╪═════════════════════╡\n",
       "│ 40757333    ┆ 133279              │\n",
       "│ 24960185    ┆ 136013              │\n",
       "│ 42154126    ┆ 104298              │\n",
       "│ 18254238    ┆ 133932              │\n",
       "│ 19475051    ┆ 114442              │\n",
       "│ …           ┆ …                   │\n",
       "│ 19859297    ┆ 188458              │\n",
       "│ 42470748    ┆ 2433135             │\n",
       "│ 41670734    ┆ 2566493             │\n",
       "│ 21250482    ┆ 193306              │\n",
       "│ 38309033    ┆ 16509               │\n",
       "└─────────────┴─────────────────────┘"
      ],
      "text/html": [
       "<div><style>\n",
       ".dataframe > thead > tr,\n",
       ".dataframe > tbody > tr {\n",
       "  text-align: right;\n",
       "  white-space: pre-wrap;\n",
       "}\n",
       "</style>\n",
       "<small>shape: (8_520_344, 2)</small><table border=\"1\" class=\"dataframe\"><thead><tr><th>ID компании</th><th>registration number</th></tr><tr><td>i64</td><td>str</td></tr></thead><tbody><tr><td>40757333</td><td>&quot;133279&quot;</td></tr><tr><td>24960185</td><td>&quot;136013&quot;</td></tr><tr><td>42154126</td><td>&quot;104298&quot;</td></tr><tr><td>18254238</td><td>&quot;133932&quot;</td></tr><tr><td>19475051</td><td>&quot;114442&quot;</td></tr><tr><td>&hellip;</td><td>&hellip;</td></tr><tr><td>19859297</td><td>&quot;188458&quot;</td></tr><tr><td>42470748</td><td>&quot;2433135&quot;</td></tr><tr><td>41670734</td><td>&quot;2566493&quot;</td></tr><tr><td>21250482</td><td>&quot;193306&quot;</td></tr><tr><td>38309033</td><td>&quot;16509&quot;</td></tr></tbody></table></div>"
      ]
     },
     "execution_count": 22,
     "metadata": {},
     "output_type": "execute_result"
    }
   ],
   "execution_count": 22
  },
  {
   "metadata": {
    "ExecuteTime": {
     "end_time": "2024-06-15T21:57:07.929917Z",
     "start_time": "2024-06-15T21:57:07.921568Z"
    }
   },
   "cell_type": "code",
   "source": "result_industrial_designs.filter(pl.col(\"ID компании\").is_in([15050205, 15059227, 15054423])).write_csv('/Users/foryourselfand/Documents/patent_hack/data/industrial_designs_result_test.csv')",
   "id": "f048bacf622e419a",
   "outputs": [],
   "execution_count": 56
  },
  {
   "metadata": {},
   "cell_type": "code",
   "outputs": [],
   "execution_count": null,
   "source": "",
   "id": "151e807b46e5963c"
  },
  {
   "metadata": {
    "ExecuteTime": {
     "end_time": "2024-06-16T09:38:28.208725Z",
     "start_time": "2024-06-16T09:38:28.152820Z"
    }
   },
   "cell_type": "code",
   "source": [
    "result_industrial_designs = result_industrial_designs.with_columns([\n",
    "    pl.col(\"ID компании\").cast(pl.Int64),\n",
    "    pl.col(\"registration number\").cast(pl.Utf8)\n",
    "])\n",
    "result_inventions = result_inventions.with_columns([\n",
    "    pl.col(\"ID компании\").cast(pl.Int64),\n",
    "    pl.col(\"registration number\").cast(pl.Utf8)\n",
    "])\n",
    "result_usefull_models = result_usefull_models.with_columns([\n",
    "    pl.col(\"ID компании\").cast(pl.Int64),\n",
    "    pl.col(\"registration number\").cast(pl.Utf8)\n",
    "])"
   ],
   "id": "263b265fa4454398",
   "outputs": [],
   "execution_count": 20
  },
  {
   "metadata": {
    "ExecuteTime": {
     "end_time": "2024-06-15T20:29:17.233702Z",
     "start_time": "2024-06-15T20:29:17.150893Z"
    }
   },
   "cell_type": "code",
   "source": [
    "def join_by_inn_ogrn(df1, df2, inn_col1, inn_col2, ogrn_col1, ogrn_col2, id_col, reg_num_col):\n",
    "    result_inn = df1.join(df2, how=\"inner\", left_on=inn_col1, right_on=inn_col2).select([id_col, reg_num_col])\n",
    "    result_ogrn = df1.join(df2, how=\"inner\", left_on=ogrn_col1, right_on=ogrn_col2).select([id_col, reg_num_col])\n",
    "    return result_inn.vstack(result_ogrn).unique()\n",
    "\n",
    "result_industrial_designs_inn_ogrn = join_by_inn_ogrn(big_df, industrial_designs_df, \"ИНН\", \"ИНН\", \"ОГРН\", \"ОГРН\", \"ID компании\", \"registration number\")\n",
    "result_inventions_inn_ogrn = join_by_inn_ogrn(big_df, inventions_df, \"ИНН\", \"ИНН\", \"ОГРН\", \"ОГРН\", \"ID компании\", \"registration number\")\n",
    "result_usefull_models_inn_ogrn = join_by_inn_ogrn(big_df, usefull_models_df, \"ИНН\", \"ИНН\", \"ОГРН\", \"ОГРН\", \"ID компании\", \"registration number\")"
   ],
   "id": "7b698a0759f0fbcd",
   "outputs": [
    {
     "ename": "ColumnNotFoundError",
     "evalue": "ИНН",
     "output_type": "error",
     "traceback": [
      "\u001B[0;31m---------------------------------------------------------------------------\u001B[0m",
      "\u001B[0;31mColumnNotFoundError\u001B[0m                       Traceback (most recent call last)",
      "Cell \u001B[0;32mIn[62], line 6\u001B[0m\n\u001B[1;32m      3\u001B[0m     result_ogrn \u001B[38;5;241m=\u001B[39m df1\u001B[38;5;241m.\u001B[39mjoin(df2, how\u001B[38;5;241m=\u001B[39m\u001B[38;5;124m\"\u001B[39m\u001B[38;5;124minner\u001B[39m\u001B[38;5;124m\"\u001B[39m, left_on\u001B[38;5;241m=\u001B[39mogrn_col1, right_on\u001B[38;5;241m=\u001B[39mogrn_col2)\u001B[38;5;241m.\u001B[39mselect([id_col, reg_num_col])\n\u001B[1;32m      4\u001B[0m     \u001B[38;5;28;01mreturn\u001B[39;00m result_inn\u001B[38;5;241m.\u001B[39mvstack(result_ogrn)\u001B[38;5;241m.\u001B[39munique()\n\u001B[0;32m----> 6\u001B[0m result_industrial_designs_inn_ogrn \u001B[38;5;241m=\u001B[39m \u001B[43mjoin_by_inn_ogrn\u001B[49m\u001B[43m(\u001B[49m\u001B[43mbig_df\u001B[49m\u001B[43m,\u001B[49m\u001B[43m \u001B[49m\u001B[43mindustrial_designs_df\u001B[49m\u001B[43m,\u001B[49m\u001B[43m \u001B[49m\u001B[38;5;124;43m\"\u001B[39;49m\u001B[38;5;124;43mИНН\u001B[39;49m\u001B[38;5;124;43m\"\u001B[39;49m\u001B[43m,\u001B[49m\u001B[43m \u001B[49m\u001B[38;5;124;43m\"\u001B[39;49m\u001B[38;5;124;43mИНН\u001B[39;49m\u001B[38;5;124;43m\"\u001B[39;49m\u001B[43m,\u001B[49m\u001B[43m \u001B[49m\u001B[38;5;124;43m\"\u001B[39;49m\u001B[38;5;124;43mОГРН\u001B[39;49m\u001B[38;5;124;43m\"\u001B[39;49m\u001B[43m,\u001B[49m\u001B[43m \u001B[49m\u001B[38;5;124;43m\"\u001B[39;49m\u001B[38;5;124;43mОГРН\u001B[39;49m\u001B[38;5;124;43m\"\u001B[39;49m\u001B[43m,\u001B[49m\u001B[43m \u001B[49m\u001B[38;5;124;43m\"\u001B[39;49m\u001B[38;5;124;43mID компании\u001B[39;49m\u001B[38;5;124;43m\"\u001B[39;49m\u001B[43m,\u001B[49m\u001B[43m \u001B[49m\u001B[38;5;124;43m\"\u001B[39;49m\u001B[38;5;124;43mregistration number\u001B[39;49m\u001B[38;5;124;43m\"\u001B[39;49m\u001B[43m)\u001B[49m\n\u001B[1;32m      7\u001B[0m result_inventions_inn_ogrn \u001B[38;5;241m=\u001B[39m join_by_inn_ogrn(big_df, inventions_df, \u001B[38;5;124m\"\u001B[39m\u001B[38;5;124mИНН\u001B[39m\u001B[38;5;124m\"\u001B[39m, \u001B[38;5;124m\"\u001B[39m\u001B[38;5;124mИНН\u001B[39m\u001B[38;5;124m\"\u001B[39m, \u001B[38;5;124m\"\u001B[39m\u001B[38;5;124mОГРН\u001B[39m\u001B[38;5;124m\"\u001B[39m, \u001B[38;5;124m\"\u001B[39m\u001B[38;5;124mОГРН\u001B[39m\u001B[38;5;124m\"\u001B[39m, \u001B[38;5;124m\"\u001B[39m\u001B[38;5;124mID компании\u001B[39m\u001B[38;5;124m\"\u001B[39m, \u001B[38;5;124m\"\u001B[39m\u001B[38;5;124mregistration number\u001B[39m\u001B[38;5;124m\"\u001B[39m)\n\u001B[1;32m      8\u001B[0m result_usefull_models_inn_ogrn \u001B[38;5;241m=\u001B[39m join_by_inn_ogrn(big_df, usefull_models_df, \u001B[38;5;124m\"\u001B[39m\u001B[38;5;124mИНН\u001B[39m\u001B[38;5;124m\"\u001B[39m, \u001B[38;5;124m\"\u001B[39m\u001B[38;5;124mИНН\u001B[39m\u001B[38;5;124m\"\u001B[39m, \u001B[38;5;124m\"\u001B[39m\u001B[38;5;124mОГРН\u001B[39m\u001B[38;5;124m\"\u001B[39m, \u001B[38;5;124m\"\u001B[39m\u001B[38;5;124mОГРН\u001B[39m\u001B[38;5;124m\"\u001B[39m, \u001B[38;5;124m\"\u001B[39m\u001B[38;5;124mID компании\u001B[39m\u001B[38;5;124m\"\u001B[39m, \u001B[38;5;124m\"\u001B[39m\u001B[38;5;124mregistration number\u001B[39m\u001B[38;5;124m\"\u001B[39m)\n",
      "Cell \u001B[0;32mIn[62], line 2\u001B[0m, in \u001B[0;36mjoin_by_inn_ogrn\u001B[0;34m(df1, df2, inn_col1, inn_col2, ogrn_col1, ogrn_col2, id_col, reg_num_col)\u001B[0m\n\u001B[1;32m      1\u001B[0m \u001B[38;5;28;01mdef\u001B[39;00m \u001B[38;5;21mjoin_by_inn_ogrn\u001B[39m(df1, df2, inn_col1, inn_col2, ogrn_col1, ogrn_col2, id_col, reg_num_col):\n\u001B[0;32m----> 2\u001B[0m     result_inn \u001B[38;5;241m=\u001B[39m \u001B[43mdf1\u001B[49m\u001B[38;5;241;43m.\u001B[39;49m\u001B[43mjoin\u001B[49m\u001B[43m(\u001B[49m\u001B[43mdf2\u001B[49m\u001B[43m,\u001B[49m\u001B[43m \u001B[49m\u001B[43mhow\u001B[49m\u001B[38;5;241;43m=\u001B[39;49m\u001B[38;5;124;43m\"\u001B[39;49m\u001B[38;5;124;43minner\u001B[39;49m\u001B[38;5;124;43m\"\u001B[39;49m\u001B[43m,\u001B[49m\u001B[43m \u001B[49m\u001B[43mleft_on\u001B[49m\u001B[38;5;241;43m=\u001B[39;49m\u001B[43minn_col1\u001B[49m\u001B[43m,\u001B[49m\u001B[43m \u001B[49m\u001B[43mright_on\u001B[49m\u001B[38;5;241;43m=\u001B[39;49m\u001B[43minn_col2\u001B[49m\u001B[43m)\u001B[49m\u001B[38;5;241m.\u001B[39mselect([id_col, reg_num_col])\n\u001B[1;32m      3\u001B[0m     result_ogrn \u001B[38;5;241m=\u001B[39m df1\u001B[38;5;241m.\u001B[39mjoin(df2, how\u001B[38;5;241m=\u001B[39m\u001B[38;5;124m\"\u001B[39m\u001B[38;5;124minner\u001B[39m\u001B[38;5;124m\"\u001B[39m, left_on\u001B[38;5;241m=\u001B[39mogrn_col1, right_on\u001B[38;5;241m=\u001B[39mogrn_col2)\u001B[38;5;241m.\u001B[39mselect([id_col, reg_num_col])\n\u001B[1;32m      4\u001B[0m     \u001B[38;5;28;01mreturn\u001B[39;00m result_inn\u001B[38;5;241m.\u001B[39mvstack(result_ogrn)\u001B[38;5;241m.\u001B[39munique()\n",
      "File \u001B[0;32m~/Documents/patent_hack/.venv/lib/python3.9/site-packages/polars/dataframe/frame.py:6701\u001B[0m, in \u001B[0;36mDataFrame.join\u001B[0;34m(self, other, on, how, left_on, right_on, suffix, validate, join_nulls, coalesce)\u001B[0m\n\u001B[1;32m   6697\u001B[0m     msg \u001B[38;5;241m=\u001B[39m \u001B[38;5;124mf\u001B[39m\u001B[38;5;124m\"\u001B[39m\u001B[38;5;124mexpected `other` join table to be a DataFrame, got \u001B[39m\u001B[38;5;132;01m{\u001B[39;00m\u001B[38;5;28mtype\u001B[39m(other)\u001B[38;5;241m.\u001B[39m\u001B[38;5;18m__name__\u001B[39m\u001B[38;5;132;01m!r}\u001B[39;00m\u001B[38;5;124m\"\u001B[39m\n\u001B[1;32m   6698\u001B[0m     \u001B[38;5;28;01mraise\u001B[39;00m \u001B[38;5;167;01mTypeError\u001B[39;00m(msg)\n\u001B[1;32m   6700\u001B[0m \u001B[38;5;28;01mreturn\u001B[39;00m (\n\u001B[0;32m-> 6701\u001B[0m     \u001B[38;5;28;43mself\u001B[39;49m\u001B[38;5;241;43m.\u001B[39;49m\u001B[43mlazy\u001B[49m\u001B[43m(\u001B[49m\u001B[43m)\u001B[49m\n\u001B[1;32m   6702\u001B[0m \u001B[43m    \u001B[49m\u001B[38;5;241;43m.\u001B[39;49m\u001B[43mjoin\u001B[49m\u001B[43m(\u001B[49m\n\u001B[1;32m   6703\u001B[0m \u001B[43m        \u001B[49m\u001B[43mother\u001B[49m\u001B[38;5;241;43m=\u001B[39;49m\u001B[43mother\u001B[49m\u001B[38;5;241;43m.\u001B[39;49m\u001B[43mlazy\u001B[49m\u001B[43m(\u001B[49m\u001B[43m)\u001B[49m\u001B[43m,\u001B[49m\n\u001B[1;32m   6704\u001B[0m \u001B[43m        \u001B[49m\u001B[43mleft_on\u001B[49m\u001B[38;5;241;43m=\u001B[39;49m\u001B[43mleft_on\u001B[49m\u001B[43m,\u001B[49m\n\u001B[1;32m   6705\u001B[0m \u001B[43m        \u001B[49m\u001B[43mright_on\u001B[49m\u001B[38;5;241;43m=\u001B[39;49m\u001B[43mright_on\u001B[49m\u001B[43m,\u001B[49m\n\u001B[1;32m   6706\u001B[0m \u001B[43m        \u001B[49m\u001B[43mon\u001B[49m\u001B[38;5;241;43m=\u001B[39;49m\u001B[43mon\u001B[49m\u001B[43m,\u001B[49m\n\u001B[1;32m   6707\u001B[0m \u001B[43m        \u001B[49m\u001B[43mhow\u001B[49m\u001B[38;5;241;43m=\u001B[39;49m\u001B[43mhow\u001B[49m\u001B[43m,\u001B[49m\n\u001B[1;32m   6708\u001B[0m \u001B[43m        \u001B[49m\u001B[43msuffix\u001B[49m\u001B[38;5;241;43m=\u001B[39;49m\u001B[43msuffix\u001B[49m\u001B[43m,\u001B[49m\n\u001B[1;32m   6709\u001B[0m \u001B[43m        \u001B[49m\u001B[43mvalidate\u001B[49m\u001B[38;5;241;43m=\u001B[39;49m\u001B[43mvalidate\u001B[49m\u001B[43m,\u001B[49m\n\u001B[1;32m   6710\u001B[0m \u001B[43m        \u001B[49m\u001B[43mjoin_nulls\u001B[49m\u001B[38;5;241;43m=\u001B[39;49m\u001B[43mjoin_nulls\u001B[49m\u001B[43m,\u001B[49m\n\u001B[1;32m   6711\u001B[0m \u001B[43m        \u001B[49m\u001B[43mcoalesce\u001B[49m\u001B[38;5;241;43m=\u001B[39;49m\u001B[43mcoalesce\u001B[49m\u001B[43m,\u001B[49m\n\u001B[1;32m   6712\u001B[0m \u001B[43m    \u001B[49m\u001B[43m)\u001B[49m\n\u001B[1;32m   6713\u001B[0m \u001B[43m    \u001B[49m\u001B[38;5;241;43m.\u001B[39;49m\u001B[43mcollect\u001B[49m\u001B[43m(\u001B[49m\u001B[43m_eager\u001B[49m\u001B[38;5;241;43m=\u001B[39;49m\u001B[38;5;28;43;01mTrue\u001B[39;49;00m\u001B[43m)\u001B[49m\n\u001B[1;32m   6714\u001B[0m )\n",
      "File \u001B[0;32m~/Documents/patent_hack/.venv/lib/python3.9/site-packages/polars/lazyframe/frame.py:1967\u001B[0m, in \u001B[0;36mLazyFrame.collect\u001B[0;34m(self, type_coercion, predicate_pushdown, projection_pushdown, simplify_expression, slice_pushdown, comm_subplan_elim, comm_subexpr_elim, cluster_with_columns, no_optimization, streaming, background, _eager, **_kwargs)\u001B[0m\n\u001B[1;32m   1964\u001B[0m \u001B[38;5;66;03m# Only for testing purposes atm.\u001B[39;00m\n\u001B[1;32m   1965\u001B[0m callback \u001B[38;5;241m=\u001B[39m _kwargs\u001B[38;5;241m.\u001B[39mget(\u001B[38;5;124m\"\u001B[39m\u001B[38;5;124mpost_opt_callback\u001B[39m\u001B[38;5;124m\"\u001B[39m)\n\u001B[0;32m-> 1967\u001B[0m \u001B[38;5;28;01mreturn\u001B[39;00m wrap_df(\u001B[43mldf\u001B[49m\u001B[38;5;241;43m.\u001B[39;49m\u001B[43mcollect\u001B[49m\u001B[43m(\u001B[49m\u001B[43mcallback\u001B[49m\u001B[43m)\u001B[49m)\n",
      "\u001B[0;31mColumnNotFoundError\u001B[0m: ИНН"
     ]
    }
   ],
   "execution_count": 62
  }
 ],
 "metadata": {
  "kernelspec": {
   "display_name": "Python 3",
   "language": "python",
   "name": "python3"
  },
  "language_info": {
   "codemirror_mode": {
    "name": "ipython",
    "version": 2
   },
   "file_extension": ".py",
   "mimetype": "text/x-python",
   "name": "python",
   "nbconvert_exporter": "python",
   "pygments_lexer": "ipython2",
   "version": "2.7.6"
  }
 },
 "nbformat": 4,
 "nbformat_minor": 5
}
