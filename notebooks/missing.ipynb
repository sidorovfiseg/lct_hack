{
 "cells": [
  {
   "cell_type": "code",
   "id": "initial_id",
   "metadata": {
    "collapsed": true,
    "ExecuteTime": {
     "end_time": "2024-06-23T15:56:54.081129Z",
     "start_time": "2024-06-23T15:56:53.398703Z"
    }
   },
   "source": "import polars as pl",
   "outputs": [],
   "execution_count": 2
  },
  {
   "metadata": {
    "ExecuteTime": {
     "end_time": "2024-06-23T15:57:08.523051Z",
     "start_time": "2024-06-23T15:57:08.451700Z"
    }
   },
   "cell_type": "code",
   "source": "df = pl.read_csv('/Users/foryourselfand/Documents/AutoPatent/autopatent-back/patentee_data/patents_without_patentee.csv')",
   "id": "cbd2839a46f19a36",
   "outputs": [],
   "execution_count": 3
  },
  {
   "metadata": {
    "ExecuteTime": {
     "end_time": "2024-06-23T15:57:11.658967Z",
     "start_time": "2024-06-23T15:57:11.654544Z"
    }
   },
   "cell_type": "code",
   "source": "df.shape",
   "id": "8da2adb8e594704d",
   "outputs": [
    {
     "data": {
      "text/plain": [
       "(1785463, 1)"
      ]
     },
     "execution_count": 4,
     "metadata": {},
     "output_type": "execute_result"
    }
   ],
   "execution_count": 4
  },
  {
   "metadata": {},
   "cell_type": "code",
   "outputs": [],
   "execution_count": null,
   "source": "",
   "id": "1ebad00cdb706bd0"
  }
 ],
 "metadata": {
  "kernelspec": {
   "display_name": "Python 3",
   "language": "python",
   "name": "python3"
  },
  "language_info": {
   "codemirror_mode": {
    "name": "ipython",
    "version": 2
   },
   "file_extension": ".py",
   "mimetype": "text/x-python",
   "name": "python",
   "nbconvert_exporter": "python",
   "pygments_lexer": "ipython2",
   "version": "2.7.6"
  }
 },
 "nbformat": 4,
 "nbformat_minor": 5
}
