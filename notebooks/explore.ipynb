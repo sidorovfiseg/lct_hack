{
 "cells": [
  {
   "cell_type": "code",
   "id": "initial_id",
   "metadata": {
    "collapsed": true,
    "ExecuteTime": {
     "end_time": "2024-06-24T08:36:15.122867Z",
     "start_time": "2024-06-24T08:36:15.015078Z"
    }
   },
   "source": "import polars as pl",
   "outputs": [],
   "execution_count": 1
  },
  {
   "metadata": {
    "ExecuteTime": {
     "end_time": "2024-06-24T08:36:16.331163Z",
     "start_time": "2024-06-24T08:36:15.804308Z"
    }
   },
   "cell_type": "code",
   "source": [
    "inventions_df = pl.read_parquet('/Users/foryourselfand/Documents/patent_hack/data/База по изобретениям FINAL.parquet')\n",
    "industrial_designs_df = pl.read_parquet(\n",
    "    '/Users/foryourselfand/Documents/patent_hack/data/База по промышленным образцам FINAL.parquet')\n",
    "industrial_designs_df = industrial_designs_df.with_columns(\n",
    "    industrial_designs_df['application number'].cast(pl.Int32)\n",
    ")\n",
    "\n",
    "usefull_models_df = pl.read_parquet(\n",
    "    '/Users/foryourselfand/Documents/patent_hack/data/База по полезным моделям FINAL.parquet')\n",
    "usefull_models_df = usefull_models_df.with_columns(\n",
    "    usefull_models_df['application number'].cast(pl.Int32)\n",
    ")"
   ],
   "id": "434bd903b1737c32",
   "outputs": [],
   "execution_count": 2
  },
  {
   "metadata": {
    "ExecuteTime": {
     "end_time": "2024-06-24T08:39:43.875026Z",
     "start_time": "2024-06-24T08:39:43.868264Z"
    }
   },
   "cell_type": "code",
   "source": "inventions_df",
   "id": "52adc7edc7f693d",
   "outputs": [
    {
     "data": {
      "text/plain": [
       "shape: (813_608, 52)\n",
       "┌───────────┬───────────┬───────────┬───────────┬───┬───────────┬───────────┬───────────┬──────────┐\n",
       "│ registrat ┆ registrat ┆ applicati ┆ applicati ┆ … ┆ Unnamed:  ┆ registrat ┆ applicati ┆ patent   │\n",
       "│ ion       ┆ ion date  ┆ on number ┆ on date   ┆   ┆ 48        ┆ ion date  ┆ on date   ┆ holders  │\n",
       "│ number    ┆ ---       ┆ ---       ┆ ---       ┆   ┆ ---       ┆ clean     ┆ clean     ┆ clean    │\n",
       "│ ---       ┆ str       ┆ str       ┆ str       ┆   ┆ str       ┆ ---       ┆ ---       ┆ ---      │\n",
       "│ str       ┆           ┆           ┆           ┆   ┆           ┆ datetime[ ┆ datetime[ ┆ str      │\n",
       "│           ┆           ┆           ┆           ┆   ┆           ┆ μs]       ┆ μs]       ┆          │\n",
       "╞═══════════╪═══════════╪═══════════╪═══════════╪═══╪═══════════╪═══════════╪═══════════╪══════════╡\n",
       "│ 2273575   ┆ 20060410  ┆ 200411403 ┆ 20040512  ┆ … ┆ null      ┆ 2006-04-1 ┆ 2004-05-1 ┆ открытое │\n",
       "│           ┆           ┆ 4         ┆           ┆   ┆           ┆ 0         ┆ 2         ┆ акционер │\n",
       "│           ┆           ┆           ┆           ┆   ┆           ┆ 00:00:00  ┆ 00:00:00  ┆ ное      │\n",
       "│           ┆           ┆           ┆           ┆   ┆           ┆           ┆           ┆ общество │\n",
       "│           ┆           ┆           ┆           ┆   ┆           ┆           ┆           ┆ …        │\n",
       "│ 2544582   ┆ 20150211  ┆ 201315817 ┆ 20131227  ┆ … ┆ null      ┆ 2015-02-1 ┆ 2013-12-2 ┆ квасенко │\n",
       "│           ┆           ┆ 3         ┆           ┆   ┆           ┆ 1         ┆ 7         ┆ в олег   │\n",
       "│           ┆           ┆           ┆           ┆   ┆           ┆ 00:00:00  ┆ 00:00:00  ┆ иванович │\n",
       "│ 1002282   ┆ 1983-03-0 ┆ 3264511   ┆ 1981-04-1 ┆ … ┆ null      ┆ 1983-03-0 ┆ 1981-04-1 ┆ воронежс │\n",
       "│           ┆ 7         ┆           ┆ 4         ┆   ┆           ┆ 7         ┆ 4         ┆ кий      │\n",
       "│           ┆           ┆           ┆           ┆   ┆           ┆ 00:00:00  ┆ 00:00:00  ┆ институт │\n",
       "│           ┆           ┆           ┆           ┆   ┆           ┆           ┆           ┆ гипрокау │\n",
       "│           ┆           ┆           ┆           ┆   ┆           ┆           ┆           ┆ ч…       │\n",
       "│ 1323479   ┆ 1987-07-1 ┆ 3971160   ┆ 1985-11-0 ┆ … ┆ null      ┆ 1987-07-1 ┆ 1985-11-0 ┆ null     │\n",
       "│           ┆ 5         ┆           ┆ 1         ┆   ┆           ┆ 5         ┆ 1         ┆          │\n",
       "│           ┆           ┆           ┆           ┆   ┆           ┆ 00:00:00  ┆ 00:00:00  ┆          │\n",
       "│ 1733422   ┆ --        ┆ null      ┆ --        ┆ … ┆ null      ┆ null      ┆ null      ┆ null     │\n",
       "│ …         ┆ …         ┆ …         ┆ …         ┆ … ┆ …         ┆ …         ┆ …         ┆ …        │\n",
       "│ 2818199   ┆ 2024-04-2 ┆ 202312011 ┆ 2022-01-2 ┆ … ┆ null      ┆ 2024-04-2 ┆ 2022-01-2 ┆ даниели  │\n",
       "│           ┆ 5         ┆ 8         ┆ 8         ┆   ┆           ┆ 5         ┆ 8         ┆ и ко     │\n",
       "│           ┆           ┆           ┆           ┆   ┆           ┆ 00:00:00  ┆ 00:00:00  ┆ оффичине │\n",
       "│           ┆           ┆           ┆           ┆   ┆           ┆           ┆           ┆ мекканик │\n",
       "│           ┆           ┆           ┆           ┆   ┆           ┆           ┆           ┆ …        │\n",
       "│ 2818203   ┆ 2024-04-2 ┆ 202312158 ┆ 2021-10-2 ┆ … ┆ null      ┆ 2024-04-2 ┆ 2021-10-2 ┆ висдри   │\n",
       "│           ┆ 5         ┆ 7         ┆ 0         ┆   ┆           ┆ 5         ┆ 0         ┆ инжинири │\n",
       "│           ┆           ┆           ┆           ┆   ┆           ┆ 00:00:00  ┆ 00:00:00  ┆ нг энд   │\n",
       "│           ┆           ┆           ┆           ┆   ┆           ┆           ┆           ┆ рисерч   │\n",
       "│           ┆           ┆           ┆           ┆   ┆           ┆           ┆           ┆ и…       │\n",
       "│ 2818231   ┆ 2024-04-2 ┆ 202312871 ┆ 2023-11-0 ┆ … ┆ null      ┆ 2024-04-2 ┆ 2023-11-0 ┆ догадкин │\n",
       "│           ┆ 6         ┆ 6         ┆ 7         ┆   ┆           ┆ 6         ┆ 7         ┆ игорь    │\n",
       "│           ┆           ┆           ┆           ┆   ┆           ┆ 00:00:00  ┆ 00:00:00  ┆ владимир │\n",
       "│           ┆           ┆           ┆           ┆   ┆           ┆           ┆           ┆ ович     │\n",
       "│ 2818248   ┆ 2024-04-2 ┆ 202212252 ┆ 2020-10-0 ┆ … ┆ null      ┆ 2024-04-2 ┆ 2020-10-0 ┆ мицубиси │\n",
       "│           ┆ 6         ┆ 9         ┆ 1         ┆   ┆           ┆ 6         ┆ 1         ┆ кемикал  │\n",
       "│           ┆           ┆           ┆           ┆   ┆           ┆ 00:00:00  ┆ 00:00:00  ┆ корпорей │\n",
       "│           ┆           ┆           ┆           ┆   ┆           ┆           ┆           ┆ шн       │\n",
       "│ 2818286   ┆ 2024-04-2 ┆ 202210273 ┆ 2020-07-1 ┆ … ┆ null      ┆ 2024-04-2 ┆ 2020-07-1 ┆ сосьете  │\n",
       "│           ┆ 7         ┆ 1         ┆ 0         ┆   ┆           ┆ 7         ┆ 0         ┆ де       │\n",
       "│           ┆           ┆           ┆           ┆   ┆           ┆ 00:00:00  ┆ 00:00:00  ┆ продюи   │\n",
       "│           ┆           ┆           ┆           ┆   ┆           ┆           ┆           ┆ нестле   │\n",
       "│           ┆           ┆           ┆           ┆   ┆           ┆           ┆           ┆ са       │\n",
       "└───────────┴───────────┴───────────┴───────────┴───┴───────────┴───────────┴───────────┴──────────┘"
      ],
      "text/html": [
       "<div><style>\n",
       ".dataframe > thead > tr,\n",
       ".dataframe > tbody > tr {\n",
       "  text-align: right;\n",
       "  white-space: pre-wrap;\n",
       "}\n",
       "</style>\n",
       "<small>shape: (813_608, 52)</small><table border=\"1\" class=\"dataframe\"><thead><tr><th>registration number</th><th>registration date</th><th>application number</th><th>application date</th><th>authors</th><th>authors in latin</th><th>patent holders</th><th>patent holders in latin</th><th>correspondence address</th><th>correspondence address in latin</th><th>invention name</th><th>patent starting date</th><th>Crimean invention application number for state registration in Ukraine</th><th>Crimean invention application date for state registration in Ukraine</th><th>Crimean invention patent number in Ukraine</th><th>receipt date of additional data to application</th><th>date of application to which additional data has been received</th><th>number of application to which additional data has been received</th><th>initial application number</th><th>initial application date</th><th>initial application priority date</th><th>previous application number</th><th>previous application date</th><th>paris convention priority number</th><th>paris convention priority date</th><th>paris convention priority country code</th><th>PCT application examination start date</th><th>PCT application number</th><th>PCT application date</th><th>PCT application publish number</th><th>PCT application publish date</th><th>EA application number</th><th>EA application date</th><th>EA application publish number</th><th>EA application publish date</th><th>application publish date</th><th>application publish number</th><th>patent grant publish date</th><th>patent grant publish number</th><th>revoked patent number</th><th>information about the obligation to conclude contract of alienation</th><th>expiration date</th><th>invention formula numbers for which patent term is prolonged</th><th>additional patent</th><th>actual</th><th>mpk</th><th>Unnamed: 46</th><th>Unnamed: 47</th><th>Unnamed: 48</th><th>registration date clean</th><th>application date clean</th><th>patent holders clean</th></tr><tr><td>str</td><td>str</td><td>str</td><td>str</td><td>str</td><td>str</td><td>str</td><td>str</td><td>str</td><td>str</td><td>str</td><td>str</td><td>str</td><td>str</td><td>str</td><td>str</td><td>str</td><td>str</td><td>str</td><td>str</td><td>str</td><td>str</td><td>str</td><td>str</td><td>str</td><td>str</td><td>str</td><td>str</td><td>str</td><td>str</td><td>str</td><td>str</td><td>str</td><td>str</td><td>str</td><td>str</td><td>str</td><td>str</td><td>str</td><td>str</td><td>str</td><td>str</td><td>str</td><td>str</td><td>str</td><td>str</td><td>str</td><td>str</td><td>str</td><td>datetime[μs]</td><td>datetime[μs]</td><td>str</td></tr></thead><tbody><tr><td>&quot;2273575&quot;</td><td>&quot;20060410&quot;</td><td>&quot;2004114034&quot;</td><td>&quot;20040512&quot;</td><td>&quot;Омельяненко Игорь Александрови…</td><td>null</td><td>&quot;Открытое акционерное общество …</td><td>null</td><td>&quot;39621, Полтавская обл., г. Кре…</td><td>null</td><td>&quot;КУЗОВ ЖЕЛЕЗНОДОРОЖНОГО ПОЛУВАГ…</td><td>&quot;20040512&quot;</td><td>null</td><td>null</td><td>null</td><td>null</td><td>null</td><td>null</td><td>null</td><td>null</td><td>null</td><td>null</td><td>null</td><td>null</td><td>null</td><td>null</td><td>null</td><td>null</td><td>null</td><td>null</td><td>null</td><td>null</td><td>null</td><td>null</td><td>null</td><td>null</td><td>null</td><td>&quot;20060410&quot;</td><td>&quot;10&quot;</td><td>null</td><td>null</td><td>null</td><td>null</td><td>&quot;false&quot;</td><td>&quot;false&quot;</td><td>null</td><td>null</td><td>null</td><td>null</td><td>2006-04-10 00:00:00</td><td>2004-05-12 00:00:00</td><td>&quot;открытое акционерное общество …</td></tr><tr><td>&quot;2544582&quot;</td><td>&quot;20150211&quot;</td><td>&quot;2013158173&quot;</td><td>&quot;20131227&quot;</td><td>&quot;Квасенков Олег Иванович (RU)&quot;</td><td>null</td><td>&quot;Квасенков Олег Иванович&quot;</td><td>null</td><td>&quot;115583, Москва, ул. Генерала Б…</td><td>null</td><td>&quot;Способ производства мороженого…</td><td>&quot;20131227&quot;</td><td>null</td><td>null</td><td>null</td><td>null</td><td>null</td><td>null</td><td>null</td><td>null</td><td>null</td><td>null</td><td>null</td><td>null</td><td>null</td><td>null</td><td>null</td><td>null</td><td>null</td><td>null</td><td>null</td><td>null</td><td>null</td><td>null</td><td>null</td><td>null</td><td>null</td><td>&quot;20150320&quot;</td><td>&quot;8&quot;</td><td>null</td><td>&quot;На основании пункта 1 статьи 1…</td><td>null</td><td>null</td><td>&quot;false&quot;</td><td>&quot;true&quot;</td><td>null</td><td>null</td><td>null</td><td>null</td><td>2015-02-11 00:00:00</td><td>2013-12-27 00:00:00</td><td>&quot;квасенков олег иванович&quot;</td></tr><tr><td>&quot;1002282&quot;</td><td>&quot;1983-03-07&quot;</td><td>&quot;3264511&quot;</td><td>&quot;1981-04-14&quot;</td><td>&quot;Коврайский Андрей ЕвгеньевичНе…</td><td>null</td><td>&quot;Воронежский институт &quot;Гипрокау…</td><td>null</td><td>null</td><td>null</td><td>&quot;Способ получения стирола&quot;</td><td>&quot;1981-04-14&quot;</td><td>null</td><td>&quot;--&quot;</td><td>null</td><td>null</td><td>&quot;--&quot;</td><td>null</td><td>null</td><td>&quot;--&quot;</td><td>&quot;--&quot;</td><td>null</td><td>&quot;--&quot;</td><td>null</td><td>&quot;--&quot;</td><td>null</td><td>&quot;--&quot;</td><td>null</td><td>&quot;--&quot;</td><td>null</td><td>&quot;--&quot;</td><td>null</td><td>&quot;--&quot;</td><td>null</td><td>&quot;--&quot;</td><td>&quot;--&quot;</td><td>null</td><td>&quot;--&quot;</td><td>&quot;9&quot;</td><td>null</td><td>null</td><td>&quot;--&quot;</td><td>null</td><td>&quot;false&quot;</td><td>&quot;true&quot;</td><td>null</td><td>null</td><td>null</td><td>null</td><td>1983-03-07 00:00:00</td><td>1981-04-14 00:00:00</td><td>&quot;воронежский институт гипрокауч…</td></tr><tr><td>&quot;1323479&quot;</td><td>&quot;1987-07-15&quot;</td><td>&quot;3971160&quot;</td><td>&quot;1985-11-01&quot;</td><td>&quot;МУРАВЬЕВ ВАЛЕРИЙ АЛЕКСАНДРОВИЧ&quot;</td><td>null</td><td>null</td><td>null</td><td>null</td><td>null</td><td>&quot;Гибкий винтовой конвейер&quot;</td><td>&quot;--&quot;</td><td>null</td><td>&quot;--&quot;</td><td>null</td><td>null</td><td>&quot;--&quot;</td><td>null</td><td>null</td><td>&quot;--&quot;</td><td>&quot;--&quot;</td><td>null</td><td>&quot;--&quot;</td><td>null</td><td>&quot;--&quot;</td><td>null</td><td>&quot;--&quot;</td><td>null</td><td>&quot;--&quot;</td><td>null</td><td>&quot;--&quot;</td><td>null</td><td>&quot;--&quot;</td><td>null</td><td>&quot;--&quot;</td><td>&quot;--&quot;</td><td>null</td><td>&quot;1987-07-15&quot;</td><td>&quot;26&quot;</td><td>null</td><td>null</td><td>&quot;--&quot;</td><td>null</td><td>&quot;false&quot;</td><td>&quot;true&quot;</td><td>null</td><td>null</td><td>null</td><td>null</td><td>1987-07-15 00:00:00</td><td>1985-11-01 00:00:00</td><td>null</td></tr><tr><td>&quot;1733422&quot;</td><td>&quot;--&quot;</td><td>null</td><td>&quot;--&quot;</td><td>null</td><td>null</td><td>null</td><td>null</td><td>null</td><td>null</td><td>null</td><td>&quot;--&quot;</td><td>null</td><td>&quot;--&quot;</td><td>null</td><td>null</td><td>&quot;--&quot;</td><td>null</td><td>null</td><td>&quot;--&quot;</td><td>&quot;--&quot;</td><td>null</td><td>&quot;--&quot;</td><td>null</td><td>&quot;--&quot;</td><td>null</td><td>&quot;--&quot;</td><td>null</td><td>&quot;--&quot;</td><td>null</td><td>&quot;--&quot;</td><td>null</td><td>&quot;--&quot;</td><td>null</td><td>&quot;--&quot;</td><td>&quot;--&quot;</td><td>null</td><td>&quot;--&quot;</td><td>null</td><td>null</td><td>null</td><td>&quot;--&quot;</td><td>null</td><td>&quot;false&quot;</td><td>&quot;false&quot;</td><td>&quot;C04B  24/18;C04B  28/02;C04B  …</td><td>null</td><td>null</td><td>null</td><td>null</td><td>null</td><td>null</td></tr><tr><td>&hellip;</td><td>&hellip;</td><td>&hellip;</td><td>&hellip;</td><td>&hellip;</td><td>&hellip;</td><td>&hellip;</td><td>&hellip;</td><td>&hellip;</td><td>&hellip;</td><td>&hellip;</td><td>&hellip;</td><td>&hellip;</td><td>&hellip;</td><td>&hellip;</td><td>&hellip;</td><td>&hellip;</td><td>&hellip;</td><td>&hellip;</td><td>&hellip;</td><td>&hellip;</td><td>&hellip;</td><td>&hellip;</td><td>&hellip;</td><td>&hellip;</td><td>&hellip;</td><td>&hellip;</td><td>&hellip;</td><td>&hellip;</td><td>&hellip;</td><td>&hellip;</td><td>&hellip;</td><td>&hellip;</td><td>&hellip;</td><td>&hellip;</td><td>&hellip;</td><td>&hellip;</td><td>&hellip;</td><td>&hellip;</td><td>&hellip;</td><td>&hellip;</td><td>&hellip;</td><td>&hellip;</td><td>&hellip;</td><td>&hellip;</td><td>&hellip;</td><td>&hellip;</td><td>&hellip;</td><td>&hellip;</td><td>&hellip;</td><td>&hellip;</td><td>&hellip;</td></tr><tr><td>&quot;2818199&quot;</td><td>&quot;2024-04-25&quot;</td><td>&quot;2023120118&quot;</td><td>&quot;2022-01-28&quot;</td><td>&quot;НОБИЛЕ, Маттео (IT)ВЕРОНЕЗИ, Э…</td><td>null</td><td>&quot;Даниели и Ко Оффичине Мекканик…</td><td>&quot;DANIELI &amp;amp; C. OFFICINE MECC…</td><td>&quot;125196, АО &quot;Некстонс&quot;, БЦ &quot;Бел…</td><td>null</td><td>&quot;СИСТЕМА КОНТРОЛЯ РАБОЧИХ УСЛОВ…</td><td>&quot;2022-01-28&quot;</td><td>null</td><td>&quot;--&quot;</td><td>null</td><td>null</td><td>&quot;--&quot;</td><td>null</td><td>null</td><td>&quot;--&quot;</td><td>&quot;--&quot;</td><td>null</td><td>&quot;--&quot;</td><td>&quot;102021000001889&quot;</td><td>&quot;2021-01-29&quot;</td><td>&quot;IT&quot;</td><td>&quot;2023-08-29&quot;</td><td>&quot;IB 2022/050744&quot;</td><td>&quot;2022-01-28&quot;</td><td>&quot;WO 2022/162596&quot;</td><td>&quot;2022-08-04&quot;</td><td>null</td><td>&quot;--&quot;</td><td>null</td><td>&quot;--&quot;</td><td>&quot;--&quot;</td><td>null</td><td>&quot;2024-04-25&quot;</td><td>&quot;12&quot;</td><td>null</td><td>null</td><td>&quot;--&quot;</td><td>null</td><td>&quot;false&quot;</td><td>&quot;true&quot;</td><td>&quot;F16C  13/02;B21B  38/00;B21B  …</td><td>null</td><td>null</td><td>null</td><td>2024-04-25 00:00:00</td><td>2022-01-28 00:00:00</td><td>&quot;даниели и ко оффичине мекканик…</td></tr><tr><td>&quot;2818203&quot;</td><td>&quot;2024-04-25&quot;</td><td>&quot;2023121587&quot;</td><td>&quot;2021-10-20&quot;</td><td>&quot;ДЭН, Цань (CN)СЯ, Чжаохуэй (CN…</td><td>&quot;DENG, Can (CN)XIA, Zhaohui (CN…</td><td>&quot;ВИСДРИ ИНЖИНИРИНГ энд РИСЕРЧ И…</td><td>&quot;WISDRI ENGINEERING &amp;amp; RESEA…</td><td>&quot;123242, г. Москва, Кудринская …</td><td>null</td><td>&quot;СИСТЕМА ПОДАЧИ ЗАЩИТНЫХ ГАЗОВ …</td><td>&quot;2021-10-20&quot;</td><td>null</td><td>&quot;--&quot;</td><td>null</td><td>null</td><td>&quot;--&quot;</td><td>null</td><td>null</td><td>&quot;--&quot;</td><td>&quot;--&quot;</td><td>null</td><td>&quot;--&quot;</td><td>&quot;202110072081.6&quot;</td><td>&quot;2021-01-20&quot;</td><td>&quot;CN&quot;</td><td>&quot;2023-08-21&quot;</td><td>&quot;CN 2021/124904&quot;</td><td>&quot;2021-10-20&quot;</td><td>&quot;WO 2022/156282&quot;</td><td>&quot;2022-07-28&quot;</td><td>null</td><td>&quot;--&quot;</td><td>null</td><td>&quot;--&quot;</td><td>&quot;--&quot;</td><td>null</td><td>&quot;2024-04-25&quot;</td><td>&quot;12&quot;</td><td>null</td><td>null</td><td>&quot;--&quot;</td><td>null</td><td>&quot;false&quot;</td><td>&quot;true&quot;</td><td>&quot;C21D   9/56;C21D   1/26;C21D  …</td><td>null</td><td>null</td><td>null</td><td>2024-04-25 00:00:00</td><td>2021-10-20 00:00:00</td><td>&quot;висдри инжиниринг энд рисерч и…</td></tr><tr><td>&quot;2818231&quot;</td><td>&quot;2024-04-26&quot;</td><td>&quot;2023128716&quot;</td><td>&quot;2023-11-07&quot;</td><td>&quot;Догадкин Игорь Владимирович (R…</td><td>null</td><td>&quot;Догадкин Игорь Владимирович&quot;</td><td>null</td><td>&quot;117279, Москва, ул. Профсоюзна…</td><td>null</td><td>&quot;СПОСОБ УНИЧТОЖЕНИЯ ВЫСОКОСКОРО…</td><td>&quot;2023-11-07&quot;</td><td>null</td><td>&quot;--&quot;</td><td>null</td><td>null</td><td>&quot;--&quot;</td><td>null</td><td>null</td><td>&quot;--&quot;</td><td>&quot;--&quot;</td><td>null</td><td>&quot;--&quot;</td><td>null</td><td>&quot;--&quot;</td><td>null</td><td>&quot;--&quot;</td><td>null</td><td>&quot;--&quot;</td><td>null</td><td>&quot;--&quot;</td><td>null</td><td>&quot;--&quot;</td><td>null</td><td>&quot;--&quot;</td><td>&quot;--&quot;</td><td>null</td><td>&quot;2024-04-26&quot;</td><td>&quot;12&quot;</td><td>null</td><td>null</td><td>&quot;--&quot;</td><td>null</td><td>&quot;false&quot;</td><td>&quot;true&quot;</td><td>&quot;F41G   7/34&quot;</td><td>null</td><td>null</td><td>null</td><td>2024-04-26 00:00:00</td><td>2023-11-07 00:00:00</td><td>&quot;догадкин игорь владимирович&quot;</td></tr><tr><td>&quot;2818248&quot;</td><td>&quot;2024-04-26&quot;</td><td>&quot;2022122529&quot;</td><td>&quot;2020-10-01&quot;</td><td>&quot;АБЕ, Йосимуне (JP)КАНУКА, Нари…</td><td>&quot;ABE, Yoshimune (JP)KANUKA, Nar…</td><td>&quot;МИЦУБИСИ КЕМИКАЛ КОРПОРЕЙШН&quot;</td><td>&quot;MITSUBISHI CHEMICAL CORPORATIO…</td><td>&quot;129090, Москва, ул. Б. Спасска…</td><td>null</td><td>&quot;СПОСОБ ПРОИЗВОДСТВА КАТАЛИЗАТО…</td><td>&quot;2020-10-01&quot;</td><td>null</td><td>&quot;--&quot;</td><td>null</td><td>null</td><td>&quot;--&quot;</td><td>null</td><td>null</td><td>&quot;--&quot;</td><td>&quot;--&quot;</td><td>null</td><td>&quot;--&quot;</td><td>&quot;2020-014788&quot;</td><td>&quot;2020-01-31&quot;</td><td>&quot;JP&quot;</td><td>&quot;2022-08-31&quot;</td><td>&quot;JP 2020/037422&quot;</td><td>&quot;2020-10-01&quot;</td><td>&quot;WO 2021/152916&quot;</td><td>&quot;2021-08-05&quot;</td><td>null</td><td>&quot;--&quot;</td><td>null</td><td>&quot;--&quot;</td><td>&quot;--&quot;</td><td>null</td><td>&quot;2024-04-26&quot;</td><td>&quot;12&quot;</td><td>null</td><td>null</td><td>&quot;--&quot;</td><td>null</td><td>&quot;false&quot;</td><td>&quot;true&quot;</td><td>&quot;B01J  23/22;B01J  37/00;B01J  …</td><td>null</td><td>null</td><td>null</td><td>2024-04-26 00:00:00</td><td>2020-10-01 00:00:00</td><td>&quot;мицубиси кемикал корпорейшн&quot;</td></tr><tr><td>&quot;2818286&quot;</td><td>&quot;2024-04-27&quot;</td><td>&quot;2022102731&quot;</td><td>&quot;2020-07-10&quot;</td><td>&quot;ГЕРЦ, Ева (DE)ГЕРЦ, Лаура (DE)…</td><td>&quot;HERZ, Eva (DE)HERZ, Laura (DE)…</td><td>&quot;СОСЬЕТЕ ДЕ ПРОДЮИ НЕСТЛЕ С.А.&quot;</td><td>&quot;SOCIETE DES PRODUITS NESTLE S.…</td><td>&quot;101000, Москва, ул. Мясницкая,…</td><td>null</td><td>&quot;Способ приготовления продукта-…</td><td>&quot;2020-07-10&quot;</td><td>null</td><td>&quot;--&quot;</td><td>null</td><td>null</td><td>&quot;--&quot;</td><td>null</td><td>null</td><td>&quot;--&quot;</td><td>&quot;--&quot;</td><td>null</td><td>&quot;--&quot;</td><td>&quot;19186161.620163926.7&quot;</td><td>&quot;2020-03-18&quot;</td><td>&quot;EPEP&quot;</td><td>&quot;2022-02-04&quot;</td><td>&quot;EP 2020/069649&quot;</td><td>&quot;2020-07-10&quot;</td><td>&quot;WO 2021/009075&quot;</td><td>&quot;2021-01-21&quot;</td><td>null</td><td>&quot;--&quot;</td><td>null</td><td>&quot;--&quot;</td><td>&quot;2023-08-04&quot;</td><td>&quot;22&quot;</td><td>&quot;2024-04-27&quot;</td><td>&quot;12&quot;</td><td>null</td><td>null</td><td>&quot;--&quot;</td><td>null</td><td>&quot;false&quot;</td><td>&quot;true&quot;</td><td>&quot;A23J   3/26;A23J   3/14&quot;</td><td>null</td><td>null</td><td>null</td><td>2024-04-27 00:00:00</td><td>2020-07-10 00:00:00</td><td>&quot;сосьете де продюи нестле са&quot;</td></tr></tbody></table></div>"
      ]
     },
     "execution_count": 29,
     "metadata": {},
     "output_type": "execute_result"
    }
   ],
   "execution_count": 29
  },
  {
   "metadata": {},
   "cell_type": "code",
   "outputs": [],
   "execution_count": null,
   "source": "",
   "id": "22f2f2cdb771df44"
  },
  {
   "metadata": {
    "ExecuteTime": {
     "end_time": "2024-06-24T08:36:39.876351Z",
     "start_time": "2024-06-24T08:36:39.873845Z"
    }
   },
   "cell_type": "code",
   "source": [
    "def clean_patent_holders(df, column_name):\n",
    "    return df.with_columns(\n",
    "        pl.col(column_name)\n",
    "        .str.replace_all(r'\\([^\\)]{2}\\)', '', literal=False)\n",
    "        .str.replace_all(r'\\s+', ' ', literal=False)\n",
    "        .str.strip_chars()\n",
    "    )"
   ],
   "id": "8721402b6f5b61cc",
   "outputs": [],
   "execution_count": 7
  },
  {
   "metadata": {
    "ExecuteTime": {
     "end_time": "2024-06-24T08:45:09.737245Z",
     "start_time": "2024-06-24T08:45:09.733840Z"
    }
   },
   "cell_type": "code",
   "source": "patent_holders_official = pl.read_csv('/Users/foryourselfand/Documents/lct_hack/notebooks/patent_holders_google.csv')",
   "id": "c3670d81db7e2044",
   "outputs": [],
   "execution_count": 60
  },
  {
   "metadata": {
    "ExecuteTime": {
     "end_time": "2024-06-24T08:47:22.054276Z",
     "start_time": "2024-06-24T08:47:22.040513Z"
    }
   },
   "cell_type": "code",
   "source": "result_api = pl.read_csv('/Users/foryourselfand/Documents/lct_hack/notebooks/result_official_api.csv')",
   "id": "514f20fea7e72c0c",
   "outputs": [],
   "execution_count": 72
  },
  {
   "metadata": {
    "ExecuteTime": {
     "end_time": "2024-06-24T08:47:35.828449Z",
     "start_time": "2024-06-24T08:47:35.825263Z"
    }
   },
   "cell_type": "code",
   "source": "result_api",
   "id": "829cb86a4d6aaa01",
   "outputs": [
    {
     "data": {
      "text/plain": [
       "shape: (56_418, 3)\n",
       "┌─────────────────────────────────┬──────────────┬─────────────────────┐\n",
       "│ patent holders                  ┆ ИНН          ┆ registration number │\n",
       "│ ---                             ┆ ---          ┆ ---                 │\n",
       "│ str                             ┆ i64          ┆ i64                 │\n",
       "╞═════════════════════════════════╪══════════════╪═════════════════════╡\n",
       "│ ПРОНГ ГП ПО ПРОИЗВОДСТВУ ОБОРУ… ┆ 7801010444   ┆ null                │\n",
       "│ Гулевский Анатолий Николаевич   ┆ 424600864934 ┆ 2013630             │\n",
       "│ Гулевский Анатолий Николаевич   ┆ 424600864934 ┆ 2062358             │\n",
       "│ Гулевский Анатолий Николаевич   ┆ 424600864934 ┆ 2086790             │\n",
       "│ Гулевский Анатолий Николаевич   ┆ 424600864934 ┆ 2202713             │\n",
       "│ …                               ┆ …            ┆ …                   │\n",
       "│ Акционерное общество \"Гознак\" … ┆ 7813252159   ┆ 2801147             │\n",
       "│ Акционерное общество \"Гознак\" … ┆ 7813252159   ┆ 2801147             │\n",
       "│ Акционерное общество \"Гознак\" … ┆ 7813252159   ┆ 2801147             │\n",
       "│ Акционерное общество \"Гознак\" … ┆ 7813252159   ┆ 2801147             │\n",
       "│ Акционерное общество \"Гознак\" … ┆ 7813252159   ┆ 2801147             │\n",
       "└─────────────────────────────────┴──────────────┴─────────────────────┘"
      ],
      "text/html": [
       "<div><style>\n",
       ".dataframe > thead > tr,\n",
       ".dataframe > tbody > tr {\n",
       "  text-align: right;\n",
       "  white-space: pre-wrap;\n",
       "}\n",
       "</style>\n",
       "<small>shape: (56_418, 3)</small><table border=\"1\" class=\"dataframe\"><thead><tr><th>patent holders</th><th>ИНН</th><th>registration number</th></tr><tr><td>str</td><td>i64</td><td>i64</td></tr></thead><tbody><tr><td>&quot;ПРОНГ ГП ПО ПРОИЗВОДСТВУ ОБОРУ…</td><td>7801010444</td><td>null</td></tr><tr><td>&quot;Гулевский Анатолий Николаевич&quot;</td><td>424600864934</td><td>2013630</td></tr><tr><td>&quot;Гулевский Анатолий Николаевич&quot;</td><td>424600864934</td><td>2062358</td></tr><tr><td>&quot;Гулевский Анатолий Николаевич&quot;</td><td>424600864934</td><td>2086790</td></tr><tr><td>&quot;Гулевский Анатолий Николаевич&quot;</td><td>424600864934</td><td>2202713</td></tr><tr><td>&hellip;</td><td>&hellip;</td><td>&hellip;</td></tr><tr><td>&quot;Акционерное общество &quot;Гознак&quot; …</td><td>7813252159</td><td>2801147</td></tr><tr><td>&quot;Акционерное общество &quot;Гознак&quot; …</td><td>7813252159</td><td>2801147</td></tr><tr><td>&quot;Акционерное общество &quot;Гознак&quot; …</td><td>7813252159</td><td>2801147</td></tr><tr><td>&quot;Акционерное общество &quot;Гознак&quot; …</td><td>7813252159</td><td>2801147</td></tr><tr><td>&quot;Акционерное общество &quot;Гознак&quot; …</td><td>7813252159</td><td>2801147</td></tr></tbody></table></div>"
      ]
     },
     "execution_count": 73,
     "metadata": {},
     "output_type": "execute_result"
    }
   ],
   "execution_count": 73
  },
  {
   "metadata": {
    "ExecuteTime": {
     "end_time": "2024-06-24T08:45:10.917395Z",
     "start_time": "2024-06-24T08:45:10.915402Z"
    }
   },
   "cell_type": "code",
   "source": "patent_holders_official.columns = ['patent holders', 'ИНН']",
   "id": "16a5f56fd5a6b7ad",
   "outputs": [],
   "execution_count": 61
  },
  {
   "metadata": {
    "ExecuteTime": {
     "end_time": "2024-06-24T08:45:11.506915Z",
     "start_time": "2024-06-24T08:45:11.504390Z"
    }
   },
   "cell_type": "code",
   "source": "patent_holders_official.columns",
   "id": "f56e63317355c40e",
   "outputs": [
    {
     "data": {
      "text/plain": [
       "['patent holders', 'ИНН']"
      ]
     },
     "execution_count": 62,
     "metadata": {},
     "output_type": "execute_result"
    }
   ],
   "execution_count": 62
  },
  {
   "metadata": {
    "ExecuteTime": {
     "end_time": "2024-06-24T08:45:12.844898Z",
     "start_time": "2024-06-24T08:45:12.842274Z"
    }
   },
   "cell_type": "code",
   "source": [
    "# remove \"ИНН\" from patent_holders_official patent holders column\n",
    "patent_holders_official = patent_holders_official.with_columns( # ИНН заменить на пустую строку\n",
    "    pl.col('patent holders').str.replace_all(r' \"ИНН\"', '', literal=False)\n",
    ")"
   ],
   "id": "b5b57039f14aa8c",
   "outputs": [],
   "execution_count": 63
  },
  {
   "metadata": {
    "ExecuteTime": {
     "end_time": "2024-06-24T08:45:14.404158Z",
     "start_time": "2024-06-24T08:45:14.400698Z"
    }
   },
   "cell_type": "code",
   "source": "patent_holders_official",
   "id": "3f38142891b413e0",
   "outputs": [
    {
     "data": {
      "text/plain": [
       "shape: (82, 2)\n",
       "┌─────────────────────────────────┬──────────────┐\n",
       "│ patent holders                  ┆ ИНН          │\n",
       "│ ---                             ┆ ---          │\n",
       "│ str                             ┆ i64          │\n",
       "╞═════════════════════════════════╪══════════════╡\n",
       "│ Федеральное государственное бю… ┆ 7736054230   │\n",
       "│ Гулевский Анатолий Николаевич   ┆ 7714012406   │\n",
       "│ Мотыльков Виктор Валентинович … ┆ 7714906040   │\n",
       "│ федеральное государственное бю… ┆ 7604011791   │\n",
       "│ Ижевский медицинский институт   ┆ 1831032733   │\n",
       "│ …                               ┆ …            │\n",
       "│ Абдуллин Искандер Ильфакович    ┆ 505510800110 │\n",
       "│ Открытое акционерное общество … ┆ 2635000092   │\n",
       "│ Авсеенко Ольга Сергеевна Авсее… ┆ 6155068997   │\n",
       "│ Боград М.Г.                     ┆ 1907002202   │\n",
       "│ Акционерное общество - Особое … ┆ 6150012140   │\n",
       "└─────────────────────────────────┴──────────────┘"
      ],
      "text/html": [
       "<div><style>\n",
       ".dataframe > thead > tr,\n",
       ".dataframe > tbody > tr {\n",
       "  text-align: right;\n",
       "  white-space: pre-wrap;\n",
       "}\n",
       "</style>\n",
       "<small>shape: (82, 2)</small><table border=\"1\" class=\"dataframe\"><thead><tr><th>patent holders</th><th>ИНН</th></tr><tr><td>str</td><td>i64</td></tr></thead><tbody><tr><td>&quot;Федеральное государственное бю…</td><td>7736054230</td></tr><tr><td>&quot;Гулевский Анатолий Николаевич&quot;</td><td>7714012406</td></tr><tr><td>&quot;Мотыльков Виктор Валентинович …</td><td>7714906040</td></tr><tr><td>&quot;федеральное государственное бю…</td><td>7604011791</td></tr><tr><td>&quot;Ижевский медицинский институт&quot;</td><td>1831032733</td></tr><tr><td>&hellip;</td><td>&hellip;</td></tr><tr><td>&quot;Абдуллин Искандер Ильфакович&quot;</td><td>505510800110</td></tr><tr><td>&quot;Открытое акционерное общество …</td><td>2635000092</td></tr><tr><td>&quot;Авсеенко Ольга Сергеевна Авсее…</td><td>6155068997</td></tr><tr><td>&quot;Боград М.Г.&quot;</td><td>1907002202</td></tr><tr><td>&quot;Акционерное общество - Особое …</td><td>6150012140</td></tr></tbody></table></div>"
      ]
     },
     "execution_count": 64,
     "metadata": {},
     "output_type": "execute_result"
    }
   ],
   "execution_count": 64
  },
  {
   "metadata": {
    "ExecuteTime": {
     "end_time": "2024-06-24T08:45:24.700554Z",
     "start_time": "2024-06-24T08:45:24.608410Z"
    }
   },
   "cell_type": "code",
   "source": [
    "patent_holders_official = patent_holders_official.join(\n",
    "    inventions_df.select(['patent holders', 'registration number']),\n",
    "    on='patent holders',\n",
    "    how='left'\n",
    ").rename({'registration number': 'registration number_inventions'})\n",
    "\n",
    "patent_holders_official = patent_holders_official.join(\n",
    "    industrial_designs_df.select(['patent holders', 'registration number']),\n",
    "    on='patent holders',\n",
    "    how='left'\n",
    ").rename({'registration number': 'registration number_industrial_designs'})\n",
    "\n",
    "patent_holders_official = patent_holders_official.join(\n",
    "    usefull_models_df.select(['patent holders', 'registration number']),\n",
    "    on='patent holders',\n",
    "    how='left'\n",
    ").rename({'registration number': 'registration number_usefull_models'})\n"
   ],
   "id": "920c53aa2804b9e1",
   "outputs": [
    {
     "name": "stderr",
     "output_type": "stream",
     "text": [
      "/var/folders/5b/cfcp3kld5sz5x0yb7bg9yk6h0000gn/T/ipykernel_7165/2110686717.py:1: DeprecationWarning: The default coalesce behavior of left join will change to `False` in the next breaking release. Pass `coalesce=True` to keep the current behavior and silence this warning.\n",
      "  patent_holders_official = patent_holders_official.join(\n"
     ]
    },
    {
     "ename": "DuplicateError",
     "evalue": "column with name 'registration number_inventions' has more than one occurrences",
     "output_type": "error",
     "traceback": [
      "\u001B[0;31m---------------------------------------------------------------------------\u001B[0m",
      "\u001B[0;31mDuplicateError\u001B[0m                            Traceback (most recent call last)",
      "Cell \u001B[0;32mIn[67], line 1\u001B[0m\n\u001B[0;32m----> 1\u001B[0m patent_holders_official \u001B[38;5;241m=\u001B[39m \u001B[43mpatent_holders_official\u001B[49m\u001B[38;5;241;43m.\u001B[39;49m\u001B[43mjoin\u001B[49m\u001B[43m(\u001B[49m\n\u001B[1;32m      2\u001B[0m \u001B[43m    \u001B[49m\u001B[43minventions_df\u001B[49m\u001B[38;5;241;43m.\u001B[39;49m\u001B[43mselect\u001B[49m\u001B[43m(\u001B[49m\u001B[43m[\u001B[49m\u001B[38;5;124;43m'\u001B[39;49m\u001B[38;5;124;43mpatent holders\u001B[39;49m\u001B[38;5;124;43m'\u001B[39;49m\u001B[43m,\u001B[49m\u001B[43m \u001B[49m\u001B[38;5;124;43m'\u001B[39;49m\u001B[38;5;124;43mregistration number\u001B[39;49m\u001B[38;5;124;43m'\u001B[39;49m\u001B[43m]\u001B[49m\u001B[43m)\u001B[49m\u001B[43m,\u001B[49m\n\u001B[1;32m      3\u001B[0m \u001B[43m    \u001B[49m\u001B[43mon\u001B[49m\u001B[38;5;241;43m=\u001B[39;49m\u001B[38;5;124;43m'\u001B[39;49m\u001B[38;5;124;43mpatent holders\u001B[39;49m\u001B[38;5;124;43m'\u001B[39;49m\u001B[43m,\u001B[49m\n\u001B[1;32m      4\u001B[0m \u001B[43m    \u001B[49m\u001B[43mhow\u001B[49m\u001B[38;5;241;43m=\u001B[39;49m\u001B[38;5;124;43m'\u001B[39;49m\u001B[38;5;124;43mleft\u001B[39;49m\u001B[38;5;124;43m'\u001B[39;49m\n\u001B[1;32m      5\u001B[0m \u001B[43m)\u001B[49m\u001B[38;5;241;43m.\u001B[39;49m\u001B[43mrename\u001B[49m\u001B[43m(\u001B[49m\u001B[43m{\u001B[49m\u001B[38;5;124;43m'\u001B[39;49m\u001B[38;5;124;43mregistration number\u001B[39;49m\u001B[38;5;124;43m'\u001B[39;49m\u001B[43m:\u001B[49m\u001B[43m \u001B[49m\u001B[38;5;124;43m'\u001B[39;49m\u001B[38;5;124;43mregistration number_inventions\u001B[39;49m\u001B[38;5;124;43m'\u001B[39;49m\u001B[43m}\u001B[49m\u001B[43m)\u001B[49m\n\u001B[1;32m      7\u001B[0m patent_holders_official \u001B[38;5;241m=\u001B[39m patent_holders_official\u001B[38;5;241m.\u001B[39mjoin(\n\u001B[1;32m      8\u001B[0m     industrial_designs_df\u001B[38;5;241m.\u001B[39mselect([\u001B[38;5;124m'\u001B[39m\u001B[38;5;124mpatent holders\u001B[39m\u001B[38;5;124m'\u001B[39m, \u001B[38;5;124m'\u001B[39m\u001B[38;5;124mregistration number\u001B[39m\u001B[38;5;124m'\u001B[39m]),\n\u001B[1;32m      9\u001B[0m     on\u001B[38;5;241m=\u001B[39m\u001B[38;5;124m'\u001B[39m\u001B[38;5;124mpatent holders\u001B[39m\u001B[38;5;124m'\u001B[39m,\n\u001B[1;32m     10\u001B[0m     how\u001B[38;5;241m=\u001B[39m\u001B[38;5;124m'\u001B[39m\u001B[38;5;124mleft\u001B[39m\u001B[38;5;124m'\u001B[39m\n\u001B[1;32m     11\u001B[0m )\u001B[38;5;241m.\u001B[39mrename({\u001B[38;5;124m'\u001B[39m\u001B[38;5;124mregistration number\u001B[39m\u001B[38;5;124m'\u001B[39m: \u001B[38;5;124m'\u001B[39m\u001B[38;5;124mregistration number_industrial_designs\u001B[39m\u001B[38;5;124m'\u001B[39m})\n\u001B[1;32m     13\u001B[0m patent_holders_official \u001B[38;5;241m=\u001B[39m patent_holders_official\u001B[38;5;241m.\u001B[39mjoin(\n\u001B[1;32m     14\u001B[0m     usefull_models_df\u001B[38;5;241m.\u001B[39mselect([\u001B[38;5;124m'\u001B[39m\u001B[38;5;124mpatent holders\u001B[39m\u001B[38;5;124m'\u001B[39m, \u001B[38;5;124m'\u001B[39m\u001B[38;5;124mregistration number\u001B[39m\u001B[38;5;124m'\u001B[39m]),\n\u001B[1;32m     15\u001B[0m     on\u001B[38;5;241m=\u001B[39m\u001B[38;5;124m'\u001B[39m\u001B[38;5;124mpatent holders\u001B[39m\u001B[38;5;124m'\u001B[39m,\n\u001B[1;32m     16\u001B[0m     how\u001B[38;5;241m=\u001B[39m\u001B[38;5;124m'\u001B[39m\u001B[38;5;124mleft\u001B[39m\u001B[38;5;124m'\u001B[39m\n\u001B[1;32m     17\u001B[0m )\u001B[38;5;241m.\u001B[39mrename({\u001B[38;5;124m'\u001B[39m\u001B[38;5;124mregistration number\u001B[39m\u001B[38;5;124m'\u001B[39m: \u001B[38;5;124m'\u001B[39m\u001B[38;5;124mregistration number_usefull_models\u001B[39m\u001B[38;5;124m'\u001B[39m})\n",
      "File \u001B[0;32m/Library/Frameworks/Python.framework/Versions/3.9/lib/python3.9/site-packages/polars/dataframe/frame.py:4111\u001B[0m, in \u001B[0;36mDataFrame.rename\u001B[0;34m(self, mapping)\u001B[0m\n\u001B[1;32m   4073\u001B[0m \u001B[38;5;28;01mdef\u001B[39;00m \u001B[38;5;21mrename\u001B[39m(\u001B[38;5;28mself\u001B[39m, mapping: \u001B[38;5;28mdict\u001B[39m[\u001B[38;5;28mstr\u001B[39m, \u001B[38;5;28mstr\u001B[39m] \u001B[38;5;241m|\u001B[39m Callable[[\u001B[38;5;28mstr\u001B[39m], \u001B[38;5;28mstr\u001B[39m]) \u001B[38;5;241m-\u001B[39m\u001B[38;5;241m>\u001B[39m DataFrame:\n\u001B[1;32m   4074\u001B[0m \u001B[38;5;250m    \u001B[39m\u001B[38;5;124;03m\"\"\"\u001B[39;00m\n\u001B[1;32m   4075\u001B[0m \u001B[38;5;124;03m    Rename column names.\u001B[39;00m\n\u001B[1;32m   4076\u001B[0m \n\u001B[0;32m   (...)\u001B[0m\n\u001B[1;32m   4109\u001B[0m \u001B[38;5;124;03m    └─────┴─────┴─────┘\u001B[39;00m\n\u001B[1;32m   4110\u001B[0m \u001B[38;5;124;03m    \"\"\"\u001B[39;00m\n\u001B[0;32m-> 4111\u001B[0m     \u001B[38;5;28;01mreturn\u001B[39;00m \u001B[38;5;28;43mself\u001B[39;49m\u001B[38;5;241;43m.\u001B[39;49m\u001B[43mlazy\u001B[49m\u001B[43m(\u001B[49m\u001B[43m)\u001B[49m\u001B[38;5;241;43m.\u001B[39;49m\u001B[43mrename\u001B[49m\u001B[43m(\u001B[49m\u001B[43mmapping\u001B[49m\u001B[43m)\u001B[49m\u001B[38;5;241;43m.\u001B[39;49m\u001B[43mcollect\u001B[49m\u001B[43m(\u001B[49m\u001B[43m_eager\u001B[49m\u001B[38;5;241;43m=\u001B[39;49m\u001B[38;5;28;43;01mTrue\u001B[39;49;00m\u001B[43m)\u001B[49m\n",
      "File \u001B[0;32m/Library/Frameworks/Python.framework/Versions/3.9/lib/python3.9/site-packages/polars/lazyframe/frame.py:1967\u001B[0m, in \u001B[0;36mLazyFrame.collect\u001B[0;34m(self, type_coercion, predicate_pushdown, projection_pushdown, simplify_expression, slice_pushdown, comm_subplan_elim, comm_subexpr_elim, cluster_with_columns, no_optimization, streaming, background, _eager, **_kwargs)\u001B[0m\n\u001B[1;32m   1964\u001B[0m \u001B[38;5;66;03m# Only for testing purposes atm.\u001B[39;00m\n\u001B[1;32m   1965\u001B[0m callback \u001B[38;5;241m=\u001B[39m _kwargs\u001B[38;5;241m.\u001B[39mget(\u001B[38;5;124m\"\u001B[39m\u001B[38;5;124mpost_opt_callback\u001B[39m\u001B[38;5;124m\"\u001B[39m)\n\u001B[0;32m-> 1967\u001B[0m \u001B[38;5;28;01mreturn\u001B[39;00m wrap_df(\u001B[43mldf\u001B[49m\u001B[38;5;241;43m.\u001B[39;49m\u001B[43mcollect\u001B[49m\u001B[43m(\u001B[49m\u001B[43mcallback\u001B[49m\u001B[43m)\u001B[49m)\n",
      "\u001B[0;31mDuplicateError\u001B[0m: column with name 'registration number_inventions' has more than one occurrences"
     ]
    }
   ],
   "execution_count": 67
  },
  {
   "metadata": {
    "ExecuteTime": {
     "end_time": "2024-06-24T08:45:21.613157Z",
     "start_time": "2024-06-24T08:45:21.589978Z"
    }
   },
   "cell_type": "code",
   "source": "patent_holders_official = patent_holders_official.select(['patent holders', 'ИНН', 'registration number'])",
   "id": "b0b2fa2d130d01fb",
   "outputs": [
    {
     "ename": "ColumnNotFoundError",
     "evalue": "registration number",
     "output_type": "error",
     "traceback": [
      "\u001B[0;31m---------------------------------------------------------------------------\u001B[0m",
      "\u001B[0;31mColumnNotFoundError\u001B[0m                       Traceback (most recent call last)",
      "Cell \u001B[0;32mIn[66], line 1\u001B[0m\n\u001B[0;32m----> 1\u001B[0m patent_holders_official \u001B[38;5;241m=\u001B[39m \u001B[43mpatent_holders_official\u001B[49m\u001B[38;5;241;43m.\u001B[39;49m\u001B[43mselect\u001B[49m\u001B[43m(\u001B[49m\u001B[43m[\u001B[49m\u001B[38;5;124;43m'\u001B[39;49m\u001B[38;5;124;43mpatent holders\u001B[39;49m\u001B[38;5;124;43m'\u001B[39;49m\u001B[43m,\u001B[49m\u001B[43m \u001B[49m\u001B[38;5;124;43m'\u001B[39;49m\u001B[38;5;124;43mИНН\u001B[39;49m\u001B[38;5;124;43m'\u001B[39;49m\u001B[43m,\u001B[49m\u001B[43m \u001B[49m\u001B[38;5;124;43m'\u001B[39;49m\u001B[38;5;124;43mregistration number\u001B[39;49m\u001B[38;5;124;43m'\u001B[39;49m\u001B[43m]\u001B[49m\u001B[43m)\u001B[49m\n",
      "File \u001B[0;32m/Library/Frameworks/Python.framework/Versions/3.9/lib/python3.9/site-packages/polars/dataframe/frame.py:8461\u001B[0m, in \u001B[0;36mDataFrame.select\u001B[0;34m(self, *exprs, **named_exprs)\u001B[0m\n\u001B[1;32m   8361\u001B[0m \u001B[38;5;28;01mdef\u001B[39;00m \u001B[38;5;21mselect\u001B[39m(\n\u001B[1;32m   8362\u001B[0m     \u001B[38;5;28mself\u001B[39m, \u001B[38;5;241m*\u001B[39mexprs: IntoExpr \u001B[38;5;241m|\u001B[39m Iterable[IntoExpr], \u001B[38;5;241m*\u001B[39m\u001B[38;5;241m*\u001B[39mnamed_exprs: IntoExpr\n\u001B[1;32m   8363\u001B[0m ) \u001B[38;5;241m-\u001B[39m\u001B[38;5;241m>\u001B[39m DataFrame:\n\u001B[1;32m   8364\u001B[0m \u001B[38;5;250m    \u001B[39m\u001B[38;5;124;03m\"\"\"\u001B[39;00m\n\u001B[1;32m   8365\u001B[0m \u001B[38;5;124;03m    Select columns from this DataFrame.\u001B[39;00m\n\u001B[1;32m   8366\u001B[0m \n\u001B[0;32m   (...)\u001B[0m\n\u001B[1;32m   8459\u001B[0m \u001B[38;5;124;03m    └───────────┘\u001B[39;00m\n\u001B[1;32m   8460\u001B[0m \u001B[38;5;124;03m    \"\"\"\u001B[39;00m\n\u001B[0;32m-> 8461\u001B[0m     \u001B[38;5;28;01mreturn\u001B[39;00m \u001B[38;5;28;43mself\u001B[39;49m\u001B[38;5;241;43m.\u001B[39;49m\u001B[43mlazy\u001B[49m\u001B[43m(\u001B[49m\u001B[43m)\u001B[49m\u001B[38;5;241;43m.\u001B[39;49m\u001B[43mselect\u001B[49m\u001B[43m(\u001B[49m\u001B[38;5;241;43m*\u001B[39;49m\u001B[43mexprs\u001B[49m\u001B[43m,\u001B[49m\u001B[43m \u001B[49m\u001B[38;5;241;43m*\u001B[39;49m\u001B[38;5;241;43m*\u001B[39;49m\u001B[43mnamed_exprs\u001B[49m\u001B[43m)\u001B[49m\u001B[38;5;241;43m.\u001B[39;49m\u001B[43mcollect\u001B[49m\u001B[43m(\u001B[49m\u001B[43m_eager\u001B[49m\u001B[38;5;241;43m=\u001B[39;49m\u001B[38;5;28;43;01mTrue\u001B[39;49;00m\u001B[43m)\u001B[49m\n",
      "File \u001B[0;32m/Library/Frameworks/Python.framework/Versions/3.9/lib/python3.9/site-packages/polars/lazyframe/frame.py:1967\u001B[0m, in \u001B[0;36mLazyFrame.collect\u001B[0;34m(self, type_coercion, predicate_pushdown, projection_pushdown, simplify_expression, slice_pushdown, comm_subplan_elim, comm_subexpr_elim, cluster_with_columns, no_optimization, streaming, background, _eager, **_kwargs)\u001B[0m\n\u001B[1;32m   1964\u001B[0m \u001B[38;5;66;03m# Only for testing purposes atm.\u001B[39;00m\n\u001B[1;32m   1965\u001B[0m callback \u001B[38;5;241m=\u001B[39m _kwargs\u001B[38;5;241m.\u001B[39mget(\u001B[38;5;124m\"\u001B[39m\u001B[38;5;124mpost_opt_callback\u001B[39m\u001B[38;5;124m\"\u001B[39m)\n\u001B[0;32m-> 1967\u001B[0m \u001B[38;5;28;01mreturn\u001B[39;00m wrap_df(\u001B[43mldf\u001B[49m\u001B[38;5;241;43m.\u001B[39;49m\u001B[43mcollect\u001B[49m\u001B[43m(\u001B[49m\u001B[43mcallback\u001B[49m\u001B[43m)\u001B[49m)\n",
      "\u001B[0;31mColumnNotFoundError\u001B[0m: registration number"
     ]
    }
   ],
   "execution_count": 66
  },
  {
   "metadata": {
    "ExecuteTime": {
     "end_time": "2024-06-24T08:39:22.322955Z",
     "start_time": "2024-06-24T08:39:22.318900Z"
    }
   },
   "cell_type": "code",
   "source": "patent_holders_official.describe()",
   "id": "71badcac70f95be6",
   "outputs": [
    {
     "data": {
      "text/plain": [
       "shape: (9, 6)\n",
       "┌────────────┬──────────────────┬───────────┬──────────────────┬─────────────────┬─────────────────┐\n",
       "│ statistic  ┆ patent holders   ┆ ИНН       ┆ registration num ┆ registration    ┆ registration    │\n",
       "│ ---        ┆ ---              ┆ ---       ┆ ber_inventions   ┆ number_industri ┆ number_usefull_ │\n",
       "│ str        ┆ str              ┆ f64       ┆ ---              ┆ al…             ┆ mo…             │\n",
       "│            ┆                  ┆           ┆ str              ┆ ---             ┆ ---             │\n",
       "│            ┆                  ┆           ┆                  ┆ str             ┆ str             │\n",
       "╞════════════╪══════════════════╪═══════════╪══════════════════╪═════════════════╪═════════════════╡\n",
       "│ count      ┆ 82               ┆ 82.0      ┆ 0                ┆ 0               ┆ 0               │\n",
       "│ null_count ┆ 0                ┆ 0.0       ┆ 82               ┆ 82              ┆ 82              │\n",
       "│ mean       ┆ null             ┆ 1.7786e11 ┆ null             ┆ null            ┆ null            │\n",
       "│ std        ┆ null             ┆ 2.9858e11 ┆ null             ┆ null            ┆ null            │\n",
       "│ min        ┆ Абдуллин         ┆ 1.0       ┆ null             ┆ null            ┆ null            │\n",
       "│            ┆ Искандер         ┆           ┆                  ┆                 ┆                 │\n",
       "│            ┆ Ильфакович \"…    ┆           ┆                  ┆                 ┆                 │\n",
       "│ 25%        ┆ null             ┆ 5.4054e9  ┆ null             ┆ null            ┆ null            │\n",
       "│ 50%        ┆ null             ┆ 7.7071e9  ┆ null             ┆ null            ┆ null            │\n",
       "│ 75%        ┆ null             ┆ 2.3150e11 ┆ null             ┆ null            ┆ null            │\n",
       "│ max        ┆ федеральное      ┆ 1.0261e12 ┆ null             ┆ null            ┆ null            │\n",
       "│            ┆ государственное  ┆           ┆                  ┆                 ┆                 │\n",
       "│            ┆ бю…              ┆           ┆                  ┆                 ┆                 │\n",
       "└────────────┴──────────────────┴───────────┴──────────────────┴─────────────────┴─────────────────┘"
      ],
      "text/html": [
       "<div><style>\n",
       ".dataframe > thead > tr,\n",
       ".dataframe > tbody > tr {\n",
       "  text-align: right;\n",
       "  white-space: pre-wrap;\n",
       "}\n",
       "</style>\n",
       "<small>shape: (9, 6)</small><table border=\"1\" class=\"dataframe\"><thead><tr><th>statistic</th><th>patent holders</th><th>ИНН</th><th>registration number_inventions</th><th>registration number_industrial_designs</th><th>registration number_usefull_models</th></tr><tr><td>str</td><td>str</td><td>f64</td><td>str</td><td>str</td><td>str</td></tr></thead><tbody><tr><td>&quot;count&quot;</td><td>&quot;82&quot;</td><td>82.0</td><td>&quot;0&quot;</td><td>&quot;0&quot;</td><td>&quot;0&quot;</td></tr><tr><td>&quot;null_count&quot;</td><td>&quot;0&quot;</td><td>0.0</td><td>&quot;82&quot;</td><td>&quot;82&quot;</td><td>&quot;82&quot;</td></tr><tr><td>&quot;mean&quot;</td><td>null</td><td>1.7786e11</td><td>null</td><td>null</td><td>null</td></tr><tr><td>&quot;std&quot;</td><td>null</td><td>2.9858e11</td><td>null</td><td>null</td><td>null</td></tr><tr><td>&quot;min&quot;</td><td>&quot;Абдуллин Искандер Ильфакович &quot;…</td><td>1.0</td><td>null</td><td>null</td><td>null</td></tr><tr><td>&quot;25%&quot;</td><td>null</td><td>5.4054e9</td><td>null</td><td>null</td><td>null</td></tr><tr><td>&quot;50%&quot;</td><td>null</td><td>7.7071e9</td><td>null</td><td>null</td><td>null</td></tr><tr><td>&quot;75%&quot;</td><td>null</td><td>2.3150e11</td><td>null</td><td>null</td><td>null</td></tr><tr><td>&quot;max&quot;</td><td>&quot;федеральное государственное бю…</td><td>1.0261e12</td><td>null</td><td>null</td><td>null</td></tr></tbody></table></div>"
      ]
     },
     "execution_count": 28,
     "metadata": {},
     "output_type": "execute_result"
    }
   ],
   "execution_count": 28
  },
  {
   "metadata": {
    "ExecuteTime": {
     "end_time": "2024-06-24T08:45:43.379676Z",
     "start_time": "2024-06-24T08:45:43.370596Z"
    }
   },
   "cell_type": "code",
   "source": "patent_holders_official.write_csv('/Users/foryourselfand/Documents/lct_hack/notebooks/result_google_api.csv')",
   "id": "ae9918adb52e1f8d",
   "outputs": [],
   "execution_count": 71
  },
  {
   "metadata": {
    "ExecuteTime": {
     "end_time": "2024-06-24T08:38:42.768047Z",
     "start_time": "2024-06-24T08:38:42.764780Z"
    }
   },
   "cell_type": "code",
   "source": "patent_holders_official",
   "id": "ea79bb8cbc348b9b",
   "outputs": [
    {
     "data": {
      "text/plain": [
       "shape: (82, 3)\n",
       "┌─────────────────────────────────┬──────────────┬─────────────────────┐\n",
       "│ patent holders                  ┆ ИНН          ┆ registration number │\n",
       "│ ---                             ┆ ---          ┆ ---                 │\n",
       "│ str                             ┆ i64          ┆ str                 │\n",
       "╞═════════════════════════════════╪══════════════╪═════════════════════╡\n",
       "│ Федеральное государственное бю… ┆ 7736054230   ┆ null                │\n",
       "│ Гулевский Анатолий Николаевич … ┆ 7714012406   ┆ null                │\n",
       "│ Мотыльков Виктор Валентинович … ┆ 7714906040   ┆ null                │\n",
       "│ федеральное государственное бю… ┆ 7604011791   ┆ null                │\n",
       "│ Ижевский медицинский институт … ┆ 1831032733   ┆ null                │\n",
       "│ …                               ┆ …            ┆ …                   │\n",
       "│ Абдуллин Искандер Ильфакович \"… ┆ 505510800110 ┆ null                │\n",
       "│ Открытое акционерное общество … ┆ 2635000092   ┆ null                │\n",
       "│ Авсеенко Ольга Сергеевна Авсее… ┆ 6155068997   ┆ null                │\n",
       "│ Боград М.Г. \"ИНН\"               ┆ 1907002202   ┆ null                │\n",
       "│ Акционерное общество - Особое … ┆ 6150012140   ┆ null                │\n",
       "└─────────────────────────────────┴──────────────┴─────────────────────┘"
      ],
      "text/html": [
       "<div><style>\n",
       ".dataframe > thead > tr,\n",
       ".dataframe > tbody > tr {\n",
       "  text-align: right;\n",
       "  white-space: pre-wrap;\n",
       "}\n",
       "</style>\n",
       "<small>shape: (82, 3)</small><table border=\"1\" class=\"dataframe\"><thead><tr><th>patent holders</th><th>ИНН</th><th>registration number</th></tr><tr><td>str</td><td>i64</td><td>str</td></tr></thead><tbody><tr><td>&quot;Федеральное государственное бю…</td><td>7736054230</td><td>null</td></tr><tr><td>&quot;Гулевский Анатолий Николаевич …</td><td>7714012406</td><td>null</td></tr><tr><td>&quot;Мотыльков Виктор Валентинович …</td><td>7714906040</td><td>null</td></tr><tr><td>&quot;федеральное государственное бю…</td><td>7604011791</td><td>null</td></tr><tr><td>&quot;Ижевский медицинский институт …</td><td>1831032733</td><td>null</td></tr><tr><td>&hellip;</td><td>&hellip;</td><td>&hellip;</td></tr><tr><td>&quot;Абдуллин Искандер Ильфакович &quot;…</td><td>505510800110</td><td>null</td></tr><tr><td>&quot;Открытое акционерное общество …</td><td>2635000092</td><td>null</td></tr><tr><td>&quot;Авсеенко Ольга Сергеевна Авсее…</td><td>6155068997</td><td>null</td></tr><tr><td>&quot;Боград М.Г. &quot;ИНН&quot;&quot;</td><td>1907002202</td><td>null</td></tr><tr><td>&quot;Акционерное общество - Особое …</td><td>6150012140</td><td>null</td></tr></tbody></table></div>"
      ]
     },
     "execution_count": 22,
     "metadata": {},
     "output_type": "execute_result"
    }
   ],
   "execution_count": 22
  },
  {
   "metadata": {
    "ExecuteTime": {
     "end_time": "2024-06-24T08:38:20.946442Z",
     "start_time": "2024-06-24T08:38:20.944170Z"
    }
   },
   "cell_type": "code",
   "source": [
    "# ComputeError: datatypes of join keys don't match - `ИНН`: i64 on left does not match `ИНН`: str on right\n",
    "patent_holders_official = patent_holders_official.with_columns(\n",
    "    pl.col('ИНН').cast(pl.Int64)\n",
    ")"
   ],
   "id": "5803e5799efd0b13",
   "outputs": [],
   "execution_count": 16
  },
  {
   "metadata": {
    "ExecuteTime": {
     "end_time": "2024-06-24T08:38:23.041824Z",
     "start_time": "2024-06-24T08:38:23.037115Z"
    }
   },
   "cell_type": "code",
   "source": "patent_holders_official",
   "id": "ad66c46f88b25df4",
   "outputs": [
    {
     "data": {
      "text/plain": [
       "shape: (82, 5)\n",
       "┌────────────────────┬──────────────┬────────────────────┬────────────────────┬────────────────────┐\n",
       "│ patent holders     ┆ ИНН          ┆ registration       ┆ registration       ┆ registration       │\n",
       "│ ---                ┆ ---          ┆ number_inventions  ┆ number_industrial… ┆ number_usefull_mo… │\n",
       "│ str                ┆ i64          ┆ ---                ┆ ---                ┆ ---                │\n",
       "│                    ┆              ┆ str                ┆ str                ┆ str                │\n",
       "╞════════════════════╪══════════════╪════════════════════╪════════════════════╪════════════════════╡\n",
       "│ Федеральное        ┆ 7736054230   ┆ null               ┆ null               ┆ null               │\n",
       "│ государственное    ┆              ┆                    ┆                    ┆                    │\n",
       "│ бю…                ┆              ┆                    ┆                    ┆                    │\n",
       "│ Гулевский Анатолий ┆ 7714012406   ┆ null               ┆ null               ┆ null               │\n",
       "│ Николаевич …       ┆              ┆                    ┆                    ┆                    │\n",
       "│ Мотыльков Виктор   ┆ 7714906040   ┆ null               ┆ null               ┆ null               │\n",
       "│ Валентинович …     ┆              ┆                    ┆                    ┆                    │\n",
       "│ федеральное        ┆ 7604011791   ┆ null               ┆ null               ┆ null               │\n",
       "│ государственное    ┆              ┆                    ┆                    ┆                    │\n",
       "│ бю…                ┆              ┆                    ┆                    ┆                    │\n",
       "│ Ижевский           ┆ 1831032733   ┆ null               ┆ null               ┆ null               │\n",
       "│ медицинский        ┆              ┆                    ┆                    ┆                    │\n",
       "│ институт …         ┆              ┆                    ┆                    ┆                    │\n",
       "│ …                  ┆ …            ┆ …                  ┆ …                  ┆ …                  │\n",
       "│ Абдуллин Искандер  ┆ 505510800110 ┆ null               ┆ null               ┆ null               │\n",
       "│ Ильфакович \"…      ┆              ┆                    ┆                    ┆                    │\n",
       "│ Открытое           ┆ 2635000092   ┆ null               ┆ null               ┆ null               │\n",
       "│ акционерное        ┆              ┆                    ┆                    ┆                    │\n",
       "│ общество …         ┆              ┆                    ┆                    ┆                    │\n",
       "│ Авсеенко Ольга     ┆ 6155068997   ┆ null               ┆ null               ┆ null               │\n",
       "│ Сергеевна Авсее…   ┆              ┆                    ┆                    ┆                    │\n",
       "│ Боград М.Г. \"ИНН\"  ┆ 1907002202   ┆ null               ┆ null               ┆ null               │\n",
       "│ Акционерное        ┆ 6150012140   ┆ null               ┆ null               ┆ null               │\n",
       "│ общество - Особое  ┆              ┆                    ┆                    ┆                    │\n",
       "│ …                  ┆              ┆                    ┆                    ┆                    │\n",
       "└────────────────────┴──────────────┴────────────────────┴────────────────────┴────────────────────┘"
      ],
      "text/html": [
       "<div><style>\n",
       ".dataframe > thead > tr,\n",
       ".dataframe > tbody > tr {\n",
       "  text-align: right;\n",
       "  white-space: pre-wrap;\n",
       "}\n",
       "</style>\n",
       "<small>shape: (82, 5)</small><table border=\"1\" class=\"dataframe\"><thead><tr><th>patent holders</th><th>ИНН</th><th>registration number_inventions</th><th>registration number_industrial_designs</th><th>registration number_usefull_models</th></tr><tr><td>str</td><td>i64</td><td>str</td><td>str</td><td>str</td></tr></thead><tbody><tr><td>&quot;Федеральное государственное бю…</td><td>7736054230</td><td>null</td><td>null</td><td>null</td></tr><tr><td>&quot;Гулевский Анатолий Николаевич …</td><td>7714012406</td><td>null</td><td>null</td><td>null</td></tr><tr><td>&quot;Мотыльков Виктор Валентинович …</td><td>7714906040</td><td>null</td><td>null</td><td>null</td></tr><tr><td>&quot;федеральное государственное бю…</td><td>7604011791</td><td>null</td><td>null</td><td>null</td></tr><tr><td>&quot;Ижевский медицинский институт …</td><td>1831032733</td><td>null</td><td>null</td><td>null</td></tr><tr><td>&hellip;</td><td>&hellip;</td><td>&hellip;</td><td>&hellip;</td><td>&hellip;</td></tr><tr><td>&quot;Абдуллин Искандер Ильфакович &quot;…</td><td>505510800110</td><td>null</td><td>null</td><td>null</td></tr><tr><td>&quot;Открытое акционерное общество …</td><td>2635000092</td><td>null</td><td>null</td><td>null</td></tr><tr><td>&quot;Авсеенко Ольга Сергеевна Авсее…</td><td>6155068997</td><td>null</td><td>null</td><td>null</td></tr><tr><td>&quot;Боград М.Г. &quot;ИНН&quot;&quot;</td><td>1907002202</td><td>null</td><td>null</td><td>null</td></tr><tr><td>&quot;Акционерное общество - Особое …</td><td>6150012140</td><td>null</td><td>null</td><td>null</td></tr></tbody></table></div>"
      ]
     },
     "execution_count": 17,
     "metadata": {},
     "output_type": "execute_result"
    }
   ],
   "execution_count": 17
  },
  {
   "metadata": {
    "ExecuteTime": {
     "end_time": "2024-06-24T08:45:27.613504Z",
     "start_time": "2024-06-24T08:45:27.608853Z"
    }
   },
   "cell_type": "code",
   "source": [
    "patent_holders_official = patent_holders_official.with_columns(\n",
    "    pl.coalesce(\n",
    "        ['registration number_inventions', 'registration number_industrial_designs', 'registration number_usefull_models']\n",
    "    ).alias('registration number')\n",
    ")"
   ],
   "id": "eee510c2aa3ecf55",
   "outputs": [],
   "execution_count": 68
  },
  {
   "metadata": {
    "ExecuteTime": {
     "end_time": "2024-06-24T08:38:30.382401Z",
     "start_time": "2024-06-24T08:38:30.372639Z"
    }
   },
   "cell_type": "code",
   "source": [
    "patent_holders_official = patent_holders_official.with_columns(\n",
    "    ['patent holders', 'ИНН', 'registration number']\n",
    ")"
   ],
   "id": "e720c40866fcc95c",
   "outputs": [],
   "execution_count": 20
  },
  {
   "metadata": {
    "ExecuteTime": {
     "end_time": "2024-06-24T08:45:29.084355Z",
     "start_time": "2024-06-24T08:45:29.082381Z"
    }
   },
   "cell_type": "code",
   "source": [
    "# drop other columns\n",
    "patent_holders_official = patent_holders_official.select(['patent holders', 'ИНН', 'registration number'])"
   ],
   "id": "9a5afc6040a85c9d",
   "outputs": [],
   "execution_count": 69
  },
  {
   "metadata": {
    "ExecuteTime": {
     "end_time": "2024-06-24T08:45:30.434682Z",
     "start_time": "2024-06-24T08:45:30.430237Z"
    }
   },
   "cell_type": "code",
   "source": "patent_holders_official",
   "id": "95ff18356e144938",
   "outputs": [
    {
     "data": {
      "text/plain": [
       "shape: (169, 3)\n",
       "┌─────────────────────────────────┬────────────┬─────────────────────┐\n",
       "│ patent holders                  ┆ ИНН        ┆ registration number │\n",
       "│ ---                             ┆ ---        ┆ ---                 │\n",
       "│ str                             ┆ i64        ┆ str                 │\n",
       "╞═════════════════════════════════╪════════════╪═════════════════════╡\n",
       "│ Федеральное государственное бю… ┆ 7736054230 ┆ 2446394             │\n",
       "│ Федеральное государственное бю… ┆ 7736054230 ┆ 2472717             │\n",
       "│ Гулевский Анатолий Николаевич   ┆ 7714012406 ┆ 2013630             │\n",
       "│ Гулевский Анатолий Николаевич   ┆ 7714012406 ┆ 2062358             │\n",
       "│ Гулевский Анатолий Николаевич   ┆ 7714012406 ┆ 2086790             │\n",
       "│ …                               ┆ …          ┆ …                   │\n",
       "│ Авсеенко Ольга Сергеевна Авсее… ┆ 6155068997 ┆ 2313265             │\n",
       "│ Боград М.Г.                     ┆ 1907002202 ┆ 39365               │\n",
       "│ Боград М.Г.                     ┆ 1907002202 ┆ 41055               │\n",
       "│ Боград М.Г.                     ┆ 1907002202 ┆ 42295               │\n",
       "│ Акционерное общество - Особое … ┆ 6150012140 ┆ null                │\n",
       "└─────────────────────────────────┴────────────┴─────────────────────┘"
      ],
      "text/html": [
       "<div><style>\n",
       ".dataframe > thead > tr,\n",
       ".dataframe > tbody > tr {\n",
       "  text-align: right;\n",
       "  white-space: pre-wrap;\n",
       "}\n",
       "</style>\n",
       "<small>shape: (169, 3)</small><table border=\"1\" class=\"dataframe\"><thead><tr><th>patent holders</th><th>ИНН</th><th>registration number</th></tr><tr><td>str</td><td>i64</td><td>str</td></tr></thead><tbody><tr><td>&quot;Федеральное государственное бю…</td><td>7736054230</td><td>&quot;2446394&quot;</td></tr><tr><td>&quot;Федеральное государственное бю…</td><td>7736054230</td><td>&quot;2472717&quot;</td></tr><tr><td>&quot;Гулевский Анатолий Николаевич&quot;</td><td>7714012406</td><td>&quot;2013630&quot;</td></tr><tr><td>&quot;Гулевский Анатолий Николаевич&quot;</td><td>7714012406</td><td>&quot;2062358&quot;</td></tr><tr><td>&quot;Гулевский Анатолий Николаевич&quot;</td><td>7714012406</td><td>&quot;2086790&quot;</td></tr><tr><td>&hellip;</td><td>&hellip;</td><td>&hellip;</td></tr><tr><td>&quot;Авсеенко Ольга Сергеевна Авсее…</td><td>6155068997</td><td>&quot;2313265&quot;</td></tr><tr><td>&quot;Боград М.Г.&quot;</td><td>1907002202</td><td>&quot;39365&quot;</td></tr><tr><td>&quot;Боград М.Г.&quot;</td><td>1907002202</td><td>&quot;41055&quot;</td></tr><tr><td>&quot;Боград М.Г.&quot;</td><td>1907002202</td><td>&quot;42295&quot;</td></tr><tr><td>&quot;Акционерное общество - Особое …</td><td>6150012140</td><td>null</td></tr></tbody></table></div>"
      ]
     },
     "execution_count": 70,
     "metadata": {},
     "output_type": "execute_result"
    }
   ],
   "execution_count": 70
  },
  {
   "metadata": {
    "ExecuteTime": {
     "end_time": "2024-06-24T08:21:09.671437Z",
     "start_time": "2024-06-24T08:21:09.668078Z"
    }
   },
   "cell_type": "code",
   "source": "usefull_models_df.columns",
   "id": "68d31898146847ce",
   "outputs": [
    {
     "data": {
      "text/plain": [
       "['registration number',\n",
       " 'registration date',\n",
       " 'application number',\n",
       " 'application date',\n",
       " 'authors',\n",
       " 'authors in latin',\n",
       " 'patent holders',\n",
       " 'patent holders in latin',\n",
       " 'correspondence address',\n",
       " 'correspondence address in latin',\n",
       " 'utility model name',\n",
       " 'patent starting date',\n",
       " 'Crimean utility model application number for state registration in Ukraine',\n",
       " 'Crimean utility model application date for state registration in Ukraine',\n",
       " 'Crimean utility model patent number in Ukraine',\n",
       " 'receipt date of additional data to application',\n",
       " 'date of application to which additional data has been received',\n",
       " 'number of application to which additional data has been received',\n",
       " 'initial application number',\n",
       " 'initial application date',\n",
       " 'initial application priority date',\n",
       " 'previous application number',\n",
       " 'previous application date',\n",
       " 'paris convention priority number',\n",
       " 'paris convention priority date',\n",
       " 'paris convention priority country code',\n",
       " 'PCT application examination start date',\n",
       " 'PCT application number',\n",
       " 'PCT application date',\n",
       " 'PCT application publish number',\n",
       " 'PCT application publish date',\n",
       " 'patent grant publish date',\n",
       " 'patent grant publish number',\n",
       " 'revoked patent number',\n",
       " 'expiration date',\n",
       " 'utility model formula numbers for which patent term is prolonged',\n",
       " 'actual',\n",
       " 'publication URL',\n",
       " 'mpk',\n",
       " 'Unnamed: 39',\n",
       " 'Unnamed: 40',\n",
       " 'registration date clean',\n",
       " 'application date clean',\n",
       " 'patent holders clean']"
      ]
     },
     "execution_count": 57,
     "metadata": {},
     "output_type": "execute_result"
    }
   ],
   "execution_count": 57
  },
  {
   "metadata": {
    "ExecuteTime": {
     "end_time": "2024-06-24T08:19:40.124697Z",
     "start_time": "2024-06-24T08:19:40.121452Z"
    }
   },
   "cell_type": "code",
   "source": "patent_holders_official",
   "id": "b89993fdb3793fc1",
   "outputs": [
    {
     "data": {
      "text/plain": [
       "shape: (821, 2)\n",
       "┌─────────────────────────────────┬──────────────┐\n",
       "│ patent holders                  ┆ ИНН          │\n",
       "│ ---                             ┆ ---          │\n",
       "│ str                             ┆ i64          │\n",
       "╞═════════════════════════════════╪══════════════╡\n",
       "│ ПРОНГ ГП ПО ПРОИЗВОДСТВУ ОБОРУ… ┆ 7801010444   │\n",
       "│ Гулевский Анатолий Николаевич   ┆ 424600864934 │\n",
       "│ Лагунов Михаил Владимирович     ┆ 182811229409 │\n",
       "│ Общество с ограниченной ответс… ┆ 500008368    │\n",
       "│ Нестеров Владимир Николаевич    ┆ 552802490775 │\n",
       "│ …                               ┆ …            │\n",
       "│ Общество с ограниченной ответс… ┆ 7604041394   │\n",
       "│ Общество с ограниченной ответс… ┆ 5262385082   │\n",
       "│ ОБЩЕСТВО С ОГРАНИЧЕННОЙ ОТВЕТС… ┆ 3906137352   │\n",
       "│ Общество с ограниченной ответс… ┆ 7825703871   │\n",
       "│ Акционерное общество \"Гознак\" … ┆ 7813252159   │\n",
       "└─────────────────────────────────┴──────────────┘"
      ],
      "text/html": [
       "<div><style>\n",
       ".dataframe > thead > tr,\n",
       ".dataframe > tbody > tr {\n",
       "  text-align: right;\n",
       "  white-space: pre-wrap;\n",
       "}\n",
       "</style>\n",
       "<small>shape: (821, 2)</small><table border=\"1\" class=\"dataframe\"><thead><tr><th>patent holders</th><th>ИНН</th></tr><tr><td>str</td><td>i64</td></tr></thead><tbody><tr><td>&quot;ПРОНГ ГП ПО ПРОИЗВОДСТВУ ОБОРУ…</td><td>7801010444</td></tr><tr><td>&quot;Гулевский Анатолий Николаевич&quot;</td><td>424600864934</td></tr><tr><td>&quot;Лагунов Михаил Владимирович&quot;</td><td>182811229409</td></tr><tr><td>&quot;Общество с ограниченной ответс…</td><td>500008368</td></tr><tr><td>&quot;Нестеров Владимир Николаевич&quot;</td><td>552802490775</td></tr><tr><td>&hellip;</td><td>&hellip;</td></tr><tr><td>&quot;Общество с ограниченной ответс…</td><td>7604041394</td></tr><tr><td>&quot;Общество с ограниченной ответс…</td><td>5262385082</td></tr><tr><td>&quot;ОБЩЕСТВО С ОГРАНИЧЕННОЙ ОТВЕТС…</td><td>3906137352</td></tr><tr><td>&quot;Общество с ограниченной ответс…</td><td>7825703871</td></tr><tr><td>&quot;Акционерное общество &quot;Гознак&quot; …</td><td>7813252159</td></tr></tbody></table></div>"
      ]
     },
     "execution_count": 56,
     "metadata": {},
     "output_type": "execute_result"
    }
   ],
   "execution_count": 56
  },
  {
   "metadata": {
    "ExecuteTime": {
     "end_time": "2024-06-23T18:23:45.835541Z",
     "start_time": "2024-06-23T18:23:45.829085Z"
    }
   },
   "cell_type": "code",
   "source": "inventions_df",
   "id": "c68c8227fec2260a",
   "outputs": [
    {
     "data": {
      "text/plain": [
       "shape: (813_608, 52)\n",
       "┌───────────┬───────────┬───────────┬───────────┬───┬───────────┬───────────┬───────────┬──────────┐\n",
       "│ registrat ┆ registrat ┆ applicati ┆ applicati ┆ … ┆ Unnamed:  ┆ registrat ┆ applicati ┆ patent   │\n",
       "│ ion       ┆ ion date  ┆ on number ┆ on date   ┆   ┆ 48        ┆ ion date  ┆ on date   ┆ holders  │\n",
       "│ number    ┆ ---       ┆ ---       ┆ ---       ┆   ┆ ---       ┆ clean     ┆ clean     ┆ clean    │\n",
       "│ ---       ┆ str       ┆ str       ┆ str       ┆   ┆ str       ┆ ---       ┆ ---       ┆ ---      │\n",
       "│ str       ┆           ┆           ┆           ┆   ┆           ┆ datetime[ ┆ datetime[ ┆ str      │\n",
       "│           ┆           ┆           ┆           ┆   ┆           ┆ μs]       ┆ μs]       ┆          │\n",
       "╞═══════════╪═══════════╪═══════════╪═══════════╪═══╪═══════════╪═══════════╪═══════════╪══════════╡\n",
       "│ 2273575   ┆ 20060410  ┆ 200411403 ┆ 20040512  ┆ … ┆ null      ┆ 2006-04-1 ┆ 2004-05-1 ┆ открытое │\n",
       "│           ┆           ┆ 4         ┆           ┆   ┆           ┆ 0         ┆ 2         ┆ акционер │\n",
       "│           ┆           ┆           ┆           ┆   ┆           ┆ 00:00:00  ┆ 00:00:00  ┆ ное      │\n",
       "│           ┆           ┆           ┆           ┆   ┆           ┆           ┆           ┆ общество │\n",
       "│           ┆           ┆           ┆           ┆   ┆           ┆           ┆           ┆ …        │\n",
       "│ 2544582   ┆ 20150211  ┆ 201315817 ┆ 20131227  ┆ … ┆ null      ┆ 2015-02-1 ┆ 2013-12-2 ┆ квасенко │\n",
       "│           ┆           ┆ 3         ┆           ┆   ┆           ┆ 1         ┆ 7         ┆ в олег   │\n",
       "│           ┆           ┆           ┆           ┆   ┆           ┆ 00:00:00  ┆ 00:00:00  ┆ иванович │\n",
       "│ 1002282   ┆ 1983-03-0 ┆ 3264511   ┆ 1981-04-1 ┆ … ┆ null      ┆ 1983-03-0 ┆ 1981-04-1 ┆ воронежс │\n",
       "│           ┆ 7         ┆           ┆ 4         ┆   ┆           ┆ 7         ┆ 4         ┆ кий      │\n",
       "│           ┆           ┆           ┆           ┆   ┆           ┆ 00:00:00  ┆ 00:00:00  ┆ институт │\n",
       "│           ┆           ┆           ┆           ┆   ┆           ┆           ┆           ┆ гипрокау │\n",
       "│           ┆           ┆           ┆           ┆   ┆           ┆           ┆           ┆ ч…       │\n",
       "│ 1323479   ┆ 1987-07-1 ┆ 3971160   ┆ 1985-11-0 ┆ … ┆ null      ┆ 1987-07-1 ┆ 1985-11-0 ┆ null     │\n",
       "│           ┆ 5         ┆           ┆ 1         ┆   ┆           ┆ 5         ┆ 1         ┆          │\n",
       "│           ┆           ┆           ┆           ┆   ┆           ┆ 00:00:00  ┆ 00:00:00  ┆          │\n",
       "│ 1733422   ┆ --        ┆ null      ┆ --        ┆ … ┆ null      ┆ null      ┆ null      ┆ null     │\n",
       "│ …         ┆ …         ┆ …         ┆ …         ┆ … ┆ …         ┆ …         ┆ …         ┆ …        │\n",
       "│ 2818199   ┆ 2024-04-2 ┆ 202312011 ┆ 2022-01-2 ┆ … ┆ null      ┆ 2024-04-2 ┆ 2022-01-2 ┆ даниели  │\n",
       "│           ┆ 5         ┆ 8         ┆ 8         ┆   ┆           ┆ 5         ┆ 8         ┆ и ко     │\n",
       "│           ┆           ┆           ┆           ┆   ┆           ┆ 00:00:00  ┆ 00:00:00  ┆ оффичине │\n",
       "│           ┆           ┆           ┆           ┆   ┆           ┆           ┆           ┆ мекканик │\n",
       "│           ┆           ┆           ┆           ┆   ┆           ┆           ┆           ┆ …        │\n",
       "│ 2818203   ┆ 2024-04-2 ┆ 202312158 ┆ 2021-10-2 ┆ … ┆ null      ┆ 2024-04-2 ┆ 2021-10-2 ┆ висдри   │\n",
       "│           ┆ 5         ┆ 7         ┆ 0         ┆   ┆           ┆ 5         ┆ 0         ┆ инжинири │\n",
       "│           ┆           ┆           ┆           ┆   ┆           ┆ 00:00:00  ┆ 00:00:00  ┆ нг энд   │\n",
       "│           ┆           ┆           ┆           ┆   ┆           ┆           ┆           ┆ рисерч   │\n",
       "│           ┆           ┆           ┆           ┆   ┆           ┆           ┆           ┆ и…       │\n",
       "│ 2818231   ┆ 2024-04-2 ┆ 202312871 ┆ 2023-11-0 ┆ … ┆ null      ┆ 2024-04-2 ┆ 2023-11-0 ┆ догадкин │\n",
       "│           ┆ 6         ┆ 6         ┆ 7         ┆   ┆           ┆ 6         ┆ 7         ┆ игорь    │\n",
       "│           ┆           ┆           ┆           ┆   ┆           ┆ 00:00:00  ┆ 00:00:00  ┆ владимир │\n",
       "│           ┆           ┆           ┆           ┆   ┆           ┆           ┆           ┆ ович     │\n",
       "│ 2818248   ┆ 2024-04-2 ┆ 202212252 ┆ 2020-10-0 ┆ … ┆ null      ┆ 2024-04-2 ┆ 2020-10-0 ┆ мицубиси │\n",
       "│           ┆ 6         ┆ 9         ┆ 1         ┆   ┆           ┆ 6         ┆ 1         ┆ кемикал  │\n",
       "│           ┆           ┆           ┆           ┆   ┆           ┆ 00:00:00  ┆ 00:00:00  ┆ корпорей │\n",
       "│           ┆           ┆           ┆           ┆   ┆           ┆           ┆           ┆ шн       │\n",
       "│ 2818286   ┆ 2024-04-2 ┆ 202210273 ┆ 2020-07-1 ┆ … ┆ null      ┆ 2024-04-2 ┆ 2020-07-1 ┆ сосьете  │\n",
       "│           ┆ 7         ┆ 1         ┆ 0         ┆   ┆           ┆ 7         ┆ 0         ┆ де       │\n",
       "│           ┆           ┆           ┆           ┆   ┆           ┆ 00:00:00  ┆ 00:00:00  ┆ продюи   │\n",
       "│           ┆           ┆           ┆           ┆   ┆           ┆           ┆           ┆ нестле   │\n",
       "│           ┆           ┆           ┆           ┆   ┆           ┆           ┆           ┆ са       │\n",
       "└───────────┴───────────┴───────────┴───────────┴───┴───────────┴───────────┴───────────┴──────────┘"
      ],
      "text/html": [
       "<div><style>\n",
       ".dataframe > thead > tr,\n",
       ".dataframe > tbody > tr {\n",
       "  text-align: right;\n",
       "  white-space: pre-wrap;\n",
       "}\n",
       "</style>\n",
       "<small>shape: (813_608, 52)</small><table border=\"1\" class=\"dataframe\"><thead><tr><th>registration number</th><th>registration date</th><th>application number</th><th>application date</th><th>authors</th><th>authors in latin</th><th>patent holders</th><th>patent holders in latin</th><th>correspondence address</th><th>correspondence address in latin</th><th>invention name</th><th>patent starting date</th><th>Crimean invention application number for state registration in Ukraine</th><th>Crimean invention application date for state registration in Ukraine</th><th>Crimean invention patent number in Ukraine</th><th>receipt date of additional data to application</th><th>date of application to which additional data has been received</th><th>number of application to which additional data has been received</th><th>initial application number</th><th>initial application date</th><th>initial application priority date</th><th>previous application number</th><th>previous application date</th><th>paris convention priority number</th><th>paris convention priority date</th><th>paris convention priority country code</th><th>PCT application examination start date</th><th>PCT application number</th><th>PCT application date</th><th>PCT application publish number</th><th>PCT application publish date</th><th>EA application number</th><th>EA application date</th><th>EA application publish number</th><th>EA application publish date</th><th>application publish date</th><th>application publish number</th><th>patent grant publish date</th><th>patent grant publish number</th><th>revoked patent number</th><th>information about the obligation to conclude contract of alienation</th><th>expiration date</th><th>invention formula numbers for which patent term is prolonged</th><th>additional patent</th><th>actual</th><th>mpk</th><th>Unnamed: 46</th><th>Unnamed: 47</th><th>Unnamed: 48</th><th>registration date clean</th><th>application date clean</th><th>patent holders clean</th></tr><tr><td>str</td><td>str</td><td>str</td><td>str</td><td>str</td><td>str</td><td>str</td><td>str</td><td>str</td><td>str</td><td>str</td><td>str</td><td>str</td><td>str</td><td>str</td><td>str</td><td>str</td><td>str</td><td>str</td><td>str</td><td>str</td><td>str</td><td>str</td><td>str</td><td>str</td><td>str</td><td>str</td><td>str</td><td>str</td><td>str</td><td>str</td><td>str</td><td>str</td><td>str</td><td>str</td><td>str</td><td>str</td><td>str</td><td>str</td><td>str</td><td>str</td><td>str</td><td>str</td><td>str</td><td>str</td><td>str</td><td>str</td><td>str</td><td>str</td><td>datetime[μs]</td><td>datetime[μs]</td><td>str</td></tr></thead><tbody><tr><td>&quot;2273575&quot;</td><td>&quot;20060410&quot;</td><td>&quot;2004114034&quot;</td><td>&quot;20040512&quot;</td><td>&quot;Омельяненко Игорь Александрови…</td><td>null</td><td>&quot;Открытое акционерное общество …</td><td>null</td><td>&quot;39621, Полтавская обл., г. Кре…</td><td>null</td><td>&quot;КУЗОВ ЖЕЛЕЗНОДОРОЖНОГО ПОЛУВАГ…</td><td>&quot;20040512&quot;</td><td>null</td><td>null</td><td>null</td><td>null</td><td>null</td><td>null</td><td>null</td><td>null</td><td>null</td><td>null</td><td>null</td><td>null</td><td>null</td><td>null</td><td>null</td><td>null</td><td>null</td><td>null</td><td>null</td><td>null</td><td>null</td><td>null</td><td>null</td><td>null</td><td>null</td><td>&quot;20060410&quot;</td><td>&quot;10&quot;</td><td>null</td><td>null</td><td>null</td><td>null</td><td>&quot;false&quot;</td><td>&quot;false&quot;</td><td>null</td><td>null</td><td>null</td><td>null</td><td>2006-04-10 00:00:00</td><td>2004-05-12 00:00:00</td><td>&quot;открытое акционерное общество …</td></tr><tr><td>&quot;2544582&quot;</td><td>&quot;20150211&quot;</td><td>&quot;2013158173&quot;</td><td>&quot;20131227&quot;</td><td>&quot;Квасенков Олег Иванович (RU)&quot;</td><td>null</td><td>&quot;Квасенков Олег Иванович (RU)&quot;</td><td>null</td><td>&quot;115583, Москва, ул. Генерала Б…</td><td>null</td><td>&quot;Способ производства мороженого…</td><td>&quot;20131227&quot;</td><td>null</td><td>null</td><td>null</td><td>null</td><td>null</td><td>null</td><td>null</td><td>null</td><td>null</td><td>null</td><td>null</td><td>null</td><td>null</td><td>null</td><td>null</td><td>null</td><td>null</td><td>null</td><td>null</td><td>null</td><td>null</td><td>null</td><td>null</td><td>null</td><td>null</td><td>&quot;20150320&quot;</td><td>&quot;8&quot;</td><td>null</td><td>&quot;На основании пункта 1 статьи 1…</td><td>null</td><td>null</td><td>&quot;false&quot;</td><td>&quot;true&quot;</td><td>null</td><td>null</td><td>null</td><td>null</td><td>2015-02-11 00:00:00</td><td>2013-12-27 00:00:00</td><td>&quot;квасенков олег иванович&quot;</td></tr><tr><td>&quot;1002282&quot;</td><td>&quot;1983-03-07&quot;</td><td>&quot;3264511&quot;</td><td>&quot;1981-04-14&quot;</td><td>&quot;Коврайский Андрей ЕвгеньевичНе…</td><td>null</td><td>&quot;Воронежский институт &quot;Гипрокау…</td><td>null</td><td>null</td><td>null</td><td>&quot;Способ получения стирола&quot;</td><td>&quot;1981-04-14&quot;</td><td>null</td><td>&quot;--&quot;</td><td>null</td><td>null</td><td>&quot;--&quot;</td><td>null</td><td>null</td><td>&quot;--&quot;</td><td>&quot;--&quot;</td><td>null</td><td>&quot;--&quot;</td><td>null</td><td>&quot;--&quot;</td><td>null</td><td>&quot;--&quot;</td><td>null</td><td>&quot;--&quot;</td><td>null</td><td>&quot;--&quot;</td><td>null</td><td>&quot;--&quot;</td><td>null</td><td>&quot;--&quot;</td><td>&quot;--&quot;</td><td>null</td><td>&quot;--&quot;</td><td>&quot;9&quot;</td><td>null</td><td>null</td><td>&quot;--&quot;</td><td>null</td><td>&quot;false&quot;</td><td>&quot;true&quot;</td><td>null</td><td>null</td><td>null</td><td>null</td><td>1983-03-07 00:00:00</td><td>1981-04-14 00:00:00</td><td>&quot;воронежский институт гипрокауч…</td></tr><tr><td>&quot;1323479&quot;</td><td>&quot;1987-07-15&quot;</td><td>&quot;3971160&quot;</td><td>&quot;1985-11-01&quot;</td><td>&quot;МУРАВЬЕВ ВАЛЕРИЙ АЛЕКСАНДРОВИЧ&quot;</td><td>null</td><td>null</td><td>null</td><td>null</td><td>null</td><td>&quot;Гибкий винтовой конвейер&quot;</td><td>&quot;--&quot;</td><td>null</td><td>&quot;--&quot;</td><td>null</td><td>null</td><td>&quot;--&quot;</td><td>null</td><td>null</td><td>&quot;--&quot;</td><td>&quot;--&quot;</td><td>null</td><td>&quot;--&quot;</td><td>null</td><td>&quot;--&quot;</td><td>null</td><td>&quot;--&quot;</td><td>null</td><td>&quot;--&quot;</td><td>null</td><td>&quot;--&quot;</td><td>null</td><td>&quot;--&quot;</td><td>null</td><td>&quot;--&quot;</td><td>&quot;--&quot;</td><td>null</td><td>&quot;1987-07-15&quot;</td><td>&quot;26&quot;</td><td>null</td><td>null</td><td>&quot;--&quot;</td><td>null</td><td>&quot;false&quot;</td><td>&quot;true&quot;</td><td>null</td><td>null</td><td>null</td><td>null</td><td>1987-07-15 00:00:00</td><td>1985-11-01 00:00:00</td><td>null</td></tr><tr><td>&quot;1733422&quot;</td><td>&quot;--&quot;</td><td>null</td><td>&quot;--&quot;</td><td>null</td><td>null</td><td>null</td><td>null</td><td>null</td><td>null</td><td>null</td><td>&quot;--&quot;</td><td>null</td><td>&quot;--&quot;</td><td>null</td><td>null</td><td>&quot;--&quot;</td><td>null</td><td>null</td><td>&quot;--&quot;</td><td>&quot;--&quot;</td><td>null</td><td>&quot;--&quot;</td><td>null</td><td>&quot;--&quot;</td><td>null</td><td>&quot;--&quot;</td><td>null</td><td>&quot;--&quot;</td><td>null</td><td>&quot;--&quot;</td><td>null</td><td>&quot;--&quot;</td><td>null</td><td>&quot;--&quot;</td><td>&quot;--&quot;</td><td>null</td><td>&quot;--&quot;</td><td>null</td><td>null</td><td>null</td><td>&quot;--&quot;</td><td>null</td><td>&quot;false&quot;</td><td>&quot;false&quot;</td><td>&quot;C04B  24/18;C04B  28/02;C04B  …</td><td>null</td><td>null</td><td>null</td><td>null</td><td>null</td><td>null</td></tr><tr><td>&hellip;</td><td>&hellip;</td><td>&hellip;</td><td>&hellip;</td><td>&hellip;</td><td>&hellip;</td><td>&hellip;</td><td>&hellip;</td><td>&hellip;</td><td>&hellip;</td><td>&hellip;</td><td>&hellip;</td><td>&hellip;</td><td>&hellip;</td><td>&hellip;</td><td>&hellip;</td><td>&hellip;</td><td>&hellip;</td><td>&hellip;</td><td>&hellip;</td><td>&hellip;</td><td>&hellip;</td><td>&hellip;</td><td>&hellip;</td><td>&hellip;</td><td>&hellip;</td><td>&hellip;</td><td>&hellip;</td><td>&hellip;</td><td>&hellip;</td><td>&hellip;</td><td>&hellip;</td><td>&hellip;</td><td>&hellip;</td><td>&hellip;</td><td>&hellip;</td><td>&hellip;</td><td>&hellip;</td><td>&hellip;</td><td>&hellip;</td><td>&hellip;</td><td>&hellip;</td><td>&hellip;</td><td>&hellip;</td><td>&hellip;</td><td>&hellip;</td><td>&hellip;</td><td>&hellip;</td><td>&hellip;</td><td>&hellip;</td><td>&hellip;</td><td>&hellip;</td></tr><tr><td>&quot;2818199&quot;</td><td>&quot;2024-04-25&quot;</td><td>&quot;2023120118&quot;</td><td>&quot;2022-01-28&quot;</td><td>&quot;НОБИЛЕ, Маттео (IT)ВЕРОНЕЗИ, Э…</td><td>null</td><td>&quot;Даниели и Ко Оффичине Мекканик…</td><td>&quot;DANIELI &amp;amp; C. OFFICINE MECC…</td><td>&quot;125196, АО &quot;Некстонс&quot;, БЦ &quot;Бел…</td><td>null</td><td>&quot;СИСТЕМА КОНТРОЛЯ РАБОЧИХ УСЛОВ…</td><td>&quot;2022-01-28&quot;</td><td>null</td><td>&quot;--&quot;</td><td>null</td><td>null</td><td>&quot;--&quot;</td><td>null</td><td>null</td><td>&quot;--&quot;</td><td>&quot;--&quot;</td><td>null</td><td>&quot;--&quot;</td><td>&quot;102021000001889&quot;</td><td>&quot;2021-01-29&quot;</td><td>&quot;IT&quot;</td><td>&quot;2023-08-29&quot;</td><td>&quot;IB 2022/050744&quot;</td><td>&quot;2022-01-28&quot;</td><td>&quot;WO 2022/162596&quot;</td><td>&quot;2022-08-04&quot;</td><td>null</td><td>&quot;--&quot;</td><td>null</td><td>&quot;--&quot;</td><td>&quot;--&quot;</td><td>null</td><td>&quot;2024-04-25&quot;</td><td>&quot;12&quot;</td><td>null</td><td>null</td><td>&quot;--&quot;</td><td>null</td><td>&quot;false&quot;</td><td>&quot;true&quot;</td><td>&quot;F16C  13/02;B21B  38/00;B21B  …</td><td>null</td><td>null</td><td>null</td><td>2024-04-25 00:00:00</td><td>2022-01-28 00:00:00</td><td>&quot;даниели и ко оффичине мекканик…</td></tr><tr><td>&quot;2818203&quot;</td><td>&quot;2024-04-25&quot;</td><td>&quot;2023121587&quot;</td><td>&quot;2021-10-20&quot;</td><td>&quot;ДЭН, Цань (CN)СЯ, Чжаохуэй (CN…</td><td>&quot;DENG, Can (CN)XIA, Zhaohui (CN…</td><td>&quot;ВИСДРИ ИНЖИНИРИНГ энд РИСЕРЧ И…</td><td>&quot;WISDRI ENGINEERING &amp;amp; RESEA…</td><td>&quot;123242, г. Москва, Кудринская …</td><td>null</td><td>&quot;СИСТЕМА ПОДАЧИ ЗАЩИТНЫХ ГАЗОВ …</td><td>&quot;2021-10-20&quot;</td><td>null</td><td>&quot;--&quot;</td><td>null</td><td>null</td><td>&quot;--&quot;</td><td>null</td><td>null</td><td>&quot;--&quot;</td><td>&quot;--&quot;</td><td>null</td><td>&quot;--&quot;</td><td>&quot;202110072081.6&quot;</td><td>&quot;2021-01-20&quot;</td><td>&quot;CN&quot;</td><td>&quot;2023-08-21&quot;</td><td>&quot;CN 2021/124904&quot;</td><td>&quot;2021-10-20&quot;</td><td>&quot;WO 2022/156282&quot;</td><td>&quot;2022-07-28&quot;</td><td>null</td><td>&quot;--&quot;</td><td>null</td><td>&quot;--&quot;</td><td>&quot;--&quot;</td><td>null</td><td>&quot;2024-04-25&quot;</td><td>&quot;12&quot;</td><td>null</td><td>null</td><td>&quot;--&quot;</td><td>null</td><td>&quot;false&quot;</td><td>&quot;true&quot;</td><td>&quot;C21D   9/56;C21D   1/26;C21D  …</td><td>null</td><td>null</td><td>null</td><td>2024-04-25 00:00:00</td><td>2021-10-20 00:00:00</td><td>&quot;висдри инжиниринг энд рисерч и…</td></tr><tr><td>&quot;2818231&quot;</td><td>&quot;2024-04-26&quot;</td><td>&quot;2023128716&quot;</td><td>&quot;2023-11-07&quot;</td><td>&quot;Догадкин Игорь Владимирович (R…</td><td>null</td><td>&quot;Догадкин Игорь Владимирович (R…</td><td>null</td><td>&quot;117279, Москва, ул. Профсоюзна…</td><td>null</td><td>&quot;СПОСОБ УНИЧТОЖЕНИЯ ВЫСОКОСКОРО…</td><td>&quot;2023-11-07&quot;</td><td>null</td><td>&quot;--&quot;</td><td>null</td><td>null</td><td>&quot;--&quot;</td><td>null</td><td>null</td><td>&quot;--&quot;</td><td>&quot;--&quot;</td><td>null</td><td>&quot;--&quot;</td><td>null</td><td>&quot;--&quot;</td><td>null</td><td>&quot;--&quot;</td><td>null</td><td>&quot;--&quot;</td><td>null</td><td>&quot;--&quot;</td><td>null</td><td>&quot;--&quot;</td><td>null</td><td>&quot;--&quot;</td><td>&quot;--&quot;</td><td>null</td><td>&quot;2024-04-26&quot;</td><td>&quot;12&quot;</td><td>null</td><td>null</td><td>&quot;--&quot;</td><td>null</td><td>&quot;false&quot;</td><td>&quot;true&quot;</td><td>&quot;F41G   7/34&quot;</td><td>null</td><td>null</td><td>null</td><td>2024-04-26 00:00:00</td><td>2023-11-07 00:00:00</td><td>&quot;догадкин игорь владимирович&quot;</td></tr><tr><td>&quot;2818248&quot;</td><td>&quot;2024-04-26&quot;</td><td>&quot;2022122529&quot;</td><td>&quot;2020-10-01&quot;</td><td>&quot;АБЕ, Йосимуне (JP)КАНУКА, Нари…</td><td>&quot;ABE, Yoshimune (JP)KANUKA, Nar…</td><td>&quot;МИЦУБИСИ КЕМИКАЛ КОРПОРЕЙШН (J…</td><td>&quot;MITSUBISHI CHEMICAL CORPORATIO…</td><td>&quot;129090, Москва, ул. Б. Спасска…</td><td>null</td><td>&quot;СПОСОБ ПРОИЗВОДСТВА КАТАЛИЗАТО…</td><td>&quot;2020-10-01&quot;</td><td>null</td><td>&quot;--&quot;</td><td>null</td><td>null</td><td>&quot;--&quot;</td><td>null</td><td>null</td><td>&quot;--&quot;</td><td>&quot;--&quot;</td><td>null</td><td>&quot;--&quot;</td><td>&quot;2020-014788&quot;</td><td>&quot;2020-01-31&quot;</td><td>&quot;JP&quot;</td><td>&quot;2022-08-31&quot;</td><td>&quot;JP 2020/037422&quot;</td><td>&quot;2020-10-01&quot;</td><td>&quot;WO 2021/152916&quot;</td><td>&quot;2021-08-05&quot;</td><td>null</td><td>&quot;--&quot;</td><td>null</td><td>&quot;--&quot;</td><td>&quot;--&quot;</td><td>null</td><td>&quot;2024-04-26&quot;</td><td>&quot;12&quot;</td><td>null</td><td>null</td><td>&quot;--&quot;</td><td>null</td><td>&quot;false&quot;</td><td>&quot;true&quot;</td><td>&quot;B01J  23/22;B01J  37/00;B01J  …</td><td>null</td><td>null</td><td>null</td><td>2024-04-26 00:00:00</td><td>2020-10-01 00:00:00</td><td>&quot;мицубиси кемикал корпорейшн&quot;</td></tr><tr><td>&quot;2818286&quot;</td><td>&quot;2024-04-27&quot;</td><td>&quot;2022102731&quot;</td><td>&quot;2020-07-10&quot;</td><td>&quot;ГЕРЦ, Ева (DE)ГЕРЦ, Лаура (DE)…</td><td>&quot;HERZ, Eva (DE)HERZ, Laura (DE)…</td><td>&quot;СОСЬЕТЕ ДЕ ПРОДЮИ НЕСТЛЕ С.А. …</td><td>&quot;SOCIETE DES PRODUITS NESTLE S.…</td><td>&quot;101000, Москва, ул. Мясницкая,…</td><td>null</td><td>&quot;Способ приготовления продукта-…</td><td>&quot;2020-07-10&quot;</td><td>null</td><td>&quot;--&quot;</td><td>null</td><td>null</td><td>&quot;--&quot;</td><td>null</td><td>null</td><td>&quot;--&quot;</td><td>&quot;--&quot;</td><td>null</td><td>&quot;--&quot;</td><td>&quot;19186161.620163926.7&quot;</td><td>&quot;2020-03-18&quot;</td><td>&quot;EPEP&quot;</td><td>&quot;2022-02-04&quot;</td><td>&quot;EP 2020/069649&quot;</td><td>&quot;2020-07-10&quot;</td><td>&quot;WO 2021/009075&quot;</td><td>&quot;2021-01-21&quot;</td><td>null</td><td>&quot;--&quot;</td><td>null</td><td>&quot;--&quot;</td><td>&quot;2023-08-04&quot;</td><td>&quot;22&quot;</td><td>&quot;2024-04-27&quot;</td><td>&quot;12&quot;</td><td>null</td><td>null</td><td>&quot;--&quot;</td><td>null</td><td>&quot;false&quot;</td><td>&quot;true&quot;</td><td>&quot;A23J   3/26;A23J   3/14&quot;</td><td>null</td><td>null</td><td>null</td><td>2024-04-27 00:00:00</td><td>2020-07-10 00:00:00</td><td>&quot;сосьете де продюи нестле са&quot;</td></tr></tbody></table></div>"
      ]
     },
     "execution_count": 5,
     "metadata": {},
     "output_type": "execute_result"
    }
   ],
   "execution_count": 5
  },
  {
   "metadata": {
    "ExecuteTime": {
     "end_time": "2024-06-24T08:15:55.623640Z",
     "start_time": "2024-06-24T08:15:55.615080Z"
    }
   },
   "cell_type": "code",
   "source": "inventions_df",
   "id": "f3025ce9322f6a69",
   "outputs": [
    {
     "data": {
      "text/plain": [
       "shape: (813_608, 52)\n",
       "┌───────────┬───────────┬───────────┬───────────┬───┬───────────┬───────────┬───────────┬──────────┐\n",
       "│ registrat ┆ registrat ┆ applicati ┆ applicati ┆ … ┆ Unnamed:  ┆ registrat ┆ applicati ┆ patent   │\n",
       "│ ion       ┆ ion date  ┆ on number ┆ on date   ┆   ┆ 48        ┆ ion date  ┆ on date   ┆ holders  │\n",
       "│ number    ┆ ---       ┆ ---       ┆ ---       ┆   ┆ ---       ┆ clean     ┆ clean     ┆ clean    │\n",
       "│ ---       ┆ str       ┆ str       ┆ str       ┆   ┆ str       ┆ ---       ┆ ---       ┆ ---      │\n",
       "│ str       ┆           ┆           ┆           ┆   ┆           ┆ datetime[ ┆ datetime[ ┆ str      │\n",
       "│           ┆           ┆           ┆           ┆   ┆           ┆ μs]       ┆ μs]       ┆          │\n",
       "╞═══════════╪═══════════╪═══════════╪═══════════╪═══╪═══════════╪═══════════╪═══════════╪══════════╡\n",
       "│ 2273575   ┆ 20060410  ┆ 200411403 ┆ 20040512  ┆ … ┆ null      ┆ 2006-04-1 ┆ 2004-05-1 ┆ открытое │\n",
       "│           ┆           ┆ 4         ┆           ┆   ┆           ┆ 0         ┆ 2         ┆ акционер │\n",
       "│           ┆           ┆           ┆           ┆   ┆           ┆ 00:00:00  ┆ 00:00:00  ┆ ное      │\n",
       "│           ┆           ┆           ┆           ┆   ┆           ┆           ┆           ┆ общество │\n",
       "│           ┆           ┆           ┆           ┆   ┆           ┆           ┆           ┆ …        │\n",
       "│ 2544582   ┆ 20150211  ┆ 201315817 ┆ 20131227  ┆ … ┆ null      ┆ 2015-02-1 ┆ 2013-12-2 ┆ квасенко │\n",
       "│           ┆           ┆ 3         ┆           ┆   ┆           ┆ 1         ┆ 7         ┆ в олег   │\n",
       "│           ┆           ┆           ┆           ┆   ┆           ┆ 00:00:00  ┆ 00:00:00  ┆ иванович │\n",
       "│ 1002282   ┆ 1983-03-0 ┆ 3264511   ┆ 1981-04-1 ┆ … ┆ null      ┆ 1983-03-0 ┆ 1981-04-1 ┆ воронежс │\n",
       "│           ┆ 7         ┆           ┆ 4         ┆   ┆           ┆ 7         ┆ 4         ┆ кий      │\n",
       "│           ┆           ┆           ┆           ┆   ┆           ┆ 00:00:00  ┆ 00:00:00  ┆ институт │\n",
       "│           ┆           ┆           ┆           ┆   ┆           ┆           ┆           ┆ гипрокау │\n",
       "│           ┆           ┆           ┆           ┆   ┆           ┆           ┆           ┆ ч…       │\n",
       "│ 1323479   ┆ 1987-07-1 ┆ 3971160   ┆ 1985-11-0 ┆ … ┆ null      ┆ 1987-07-1 ┆ 1985-11-0 ┆ null     │\n",
       "│           ┆ 5         ┆           ┆ 1         ┆   ┆           ┆ 5         ┆ 1         ┆          │\n",
       "│           ┆           ┆           ┆           ┆   ┆           ┆ 00:00:00  ┆ 00:00:00  ┆          │\n",
       "│ 1733422   ┆ --        ┆ null      ┆ --        ┆ … ┆ null      ┆ null      ┆ null      ┆ null     │\n",
       "│ …         ┆ …         ┆ …         ┆ …         ┆ … ┆ …         ┆ …         ┆ …         ┆ …        │\n",
       "│ 2818199   ┆ 2024-04-2 ┆ 202312011 ┆ 2022-01-2 ┆ … ┆ null      ┆ 2024-04-2 ┆ 2022-01-2 ┆ даниели  │\n",
       "│           ┆ 5         ┆ 8         ┆ 8         ┆   ┆           ┆ 5         ┆ 8         ┆ и ко     │\n",
       "│           ┆           ┆           ┆           ┆   ┆           ┆ 00:00:00  ┆ 00:00:00  ┆ оффичине │\n",
       "│           ┆           ┆           ┆           ┆   ┆           ┆           ┆           ┆ мекканик │\n",
       "│           ┆           ┆           ┆           ┆   ┆           ┆           ┆           ┆ …        │\n",
       "│ 2818203   ┆ 2024-04-2 ┆ 202312158 ┆ 2021-10-2 ┆ … ┆ null      ┆ 2024-04-2 ┆ 2021-10-2 ┆ висдри   │\n",
       "│           ┆ 5         ┆ 7         ┆ 0         ┆   ┆           ┆ 5         ┆ 0         ┆ инжинири │\n",
       "│           ┆           ┆           ┆           ┆   ┆           ┆ 00:00:00  ┆ 00:00:00  ┆ нг энд   │\n",
       "│           ┆           ┆           ┆           ┆   ┆           ┆           ┆           ┆ рисерч   │\n",
       "│           ┆           ┆           ┆           ┆   ┆           ┆           ┆           ┆ и…       │\n",
       "│ 2818231   ┆ 2024-04-2 ┆ 202312871 ┆ 2023-11-0 ┆ … ┆ null      ┆ 2024-04-2 ┆ 2023-11-0 ┆ догадкин │\n",
       "│           ┆ 6         ┆ 6         ┆ 7         ┆   ┆           ┆ 6         ┆ 7         ┆ игорь    │\n",
       "│           ┆           ┆           ┆           ┆   ┆           ┆ 00:00:00  ┆ 00:00:00  ┆ владимир │\n",
       "│           ┆           ┆           ┆           ┆   ┆           ┆           ┆           ┆ ович     │\n",
       "│ 2818248   ┆ 2024-04-2 ┆ 202212252 ┆ 2020-10-0 ┆ … ┆ null      ┆ 2024-04-2 ┆ 2020-10-0 ┆ мицубиси │\n",
       "│           ┆ 6         ┆ 9         ┆ 1         ┆   ┆           ┆ 6         ┆ 1         ┆ кемикал  │\n",
       "│           ┆           ┆           ┆           ┆   ┆           ┆ 00:00:00  ┆ 00:00:00  ┆ корпорей │\n",
       "│           ┆           ┆           ┆           ┆   ┆           ┆           ┆           ┆ шн       │\n",
       "│ 2818286   ┆ 2024-04-2 ┆ 202210273 ┆ 2020-07-1 ┆ … ┆ null      ┆ 2024-04-2 ┆ 2020-07-1 ┆ сосьете  │\n",
       "│           ┆ 7         ┆ 1         ┆ 0         ┆   ┆           ┆ 7         ┆ 0         ┆ де       │\n",
       "│           ┆           ┆           ┆           ┆   ┆           ┆ 00:00:00  ┆ 00:00:00  ┆ продюи   │\n",
       "│           ┆           ┆           ┆           ┆   ┆           ┆           ┆           ┆ нестле   │\n",
       "│           ┆           ┆           ┆           ┆   ┆           ┆           ┆           ┆ са       │\n",
       "└───────────┴───────────┴───────────┴───────────┴───┴───────────┴───────────┴───────────┴──────────┘"
      ],
      "text/html": [
       "<div><style>\n",
       ".dataframe > thead > tr,\n",
       ".dataframe > tbody > tr {\n",
       "  text-align: right;\n",
       "  white-space: pre-wrap;\n",
       "}\n",
       "</style>\n",
       "<small>shape: (813_608, 52)</small><table border=\"1\" class=\"dataframe\"><thead><tr><th>registration number</th><th>registration date</th><th>application number</th><th>application date</th><th>authors</th><th>authors in latin</th><th>patent holders</th><th>patent holders in latin</th><th>correspondence address</th><th>correspondence address in latin</th><th>invention name</th><th>patent starting date</th><th>Crimean invention application number for state registration in Ukraine</th><th>Crimean invention application date for state registration in Ukraine</th><th>Crimean invention patent number in Ukraine</th><th>receipt date of additional data to application</th><th>date of application to which additional data has been received</th><th>number of application to which additional data has been received</th><th>initial application number</th><th>initial application date</th><th>initial application priority date</th><th>previous application number</th><th>previous application date</th><th>paris convention priority number</th><th>paris convention priority date</th><th>paris convention priority country code</th><th>PCT application examination start date</th><th>PCT application number</th><th>PCT application date</th><th>PCT application publish number</th><th>PCT application publish date</th><th>EA application number</th><th>EA application date</th><th>EA application publish number</th><th>EA application publish date</th><th>application publish date</th><th>application publish number</th><th>patent grant publish date</th><th>patent grant publish number</th><th>revoked patent number</th><th>information about the obligation to conclude contract of alienation</th><th>expiration date</th><th>invention formula numbers for which patent term is prolonged</th><th>additional patent</th><th>actual</th><th>mpk</th><th>Unnamed: 46</th><th>Unnamed: 47</th><th>Unnamed: 48</th><th>registration date clean</th><th>application date clean</th><th>patent holders clean</th></tr><tr><td>str</td><td>str</td><td>str</td><td>str</td><td>str</td><td>str</td><td>str</td><td>str</td><td>str</td><td>str</td><td>str</td><td>str</td><td>str</td><td>str</td><td>str</td><td>str</td><td>str</td><td>str</td><td>str</td><td>str</td><td>str</td><td>str</td><td>str</td><td>str</td><td>str</td><td>str</td><td>str</td><td>str</td><td>str</td><td>str</td><td>str</td><td>str</td><td>str</td><td>str</td><td>str</td><td>str</td><td>str</td><td>str</td><td>str</td><td>str</td><td>str</td><td>str</td><td>str</td><td>str</td><td>str</td><td>str</td><td>str</td><td>str</td><td>str</td><td>datetime[μs]</td><td>datetime[μs]</td><td>str</td></tr></thead><tbody><tr><td>&quot;2273575&quot;</td><td>&quot;20060410&quot;</td><td>&quot;2004114034&quot;</td><td>&quot;20040512&quot;</td><td>&quot;Омельяненко Игорь Александрови…</td><td>null</td><td>&quot;Открытое акционерное общество …</td><td>null</td><td>&quot;39621, Полтавская обл., г. Кре…</td><td>null</td><td>&quot;КУЗОВ ЖЕЛЕЗНОДОРОЖНОГО ПОЛУВАГ…</td><td>&quot;20040512&quot;</td><td>null</td><td>null</td><td>null</td><td>null</td><td>null</td><td>null</td><td>null</td><td>null</td><td>null</td><td>null</td><td>null</td><td>null</td><td>null</td><td>null</td><td>null</td><td>null</td><td>null</td><td>null</td><td>null</td><td>null</td><td>null</td><td>null</td><td>null</td><td>null</td><td>null</td><td>&quot;20060410&quot;</td><td>&quot;10&quot;</td><td>null</td><td>null</td><td>null</td><td>null</td><td>&quot;false&quot;</td><td>&quot;false&quot;</td><td>null</td><td>null</td><td>null</td><td>null</td><td>2006-04-10 00:00:00</td><td>2004-05-12 00:00:00</td><td>&quot;открытое акционерное общество …</td></tr><tr><td>&quot;2544582&quot;</td><td>&quot;20150211&quot;</td><td>&quot;2013158173&quot;</td><td>&quot;20131227&quot;</td><td>&quot;Квасенков Олег Иванович (RU)&quot;</td><td>null</td><td>&quot;Квасенков Олег Иванович&quot;</td><td>null</td><td>&quot;115583, Москва, ул. Генерала Б…</td><td>null</td><td>&quot;Способ производства мороженого…</td><td>&quot;20131227&quot;</td><td>null</td><td>null</td><td>null</td><td>null</td><td>null</td><td>null</td><td>null</td><td>null</td><td>null</td><td>null</td><td>null</td><td>null</td><td>null</td><td>null</td><td>null</td><td>null</td><td>null</td><td>null</td><td>null</td><td>null</td><td>null</td><td>null</td><td>null</td><td>null</td><td>null</td><td>&quot;20150320&quot;</td><td>&quot;8&quot;</td><td>null</td><td>&quot;На основании пункта 1 статьи 1…</td><td>null</td><td>null</td><td>&quot;false&quot;</td><td>&quot;true&quot;</td><td>null</td><td>null</td><td>null</td><td>null</td><td>2015-02-11 00:00:00</td><td>2013-12-27 00:00:00</td><td>&quot;квасенков олег иванович&quot;</td></tr><tr><td>&quot;1002282&quot;</td><td>&quot;1983-03-07&quot;</td><td>&quot;3264511&quot;</td><td>&quot;1981-04-14&quot;</td><td>&quot;Коврайский Андрей ЕвгеньевичНе…</td><td>null</td><td>&quot;Воронежский институт &quot;Гипрокау…</td><td>null</td><td>null</td><td>null</td><td>&quot;Способ получения стирола&quot;</td><td>&quot;1981-04-14&quot;</td><td>null</td><td>&quot;--&quot;</td><td>null</td><td>null</td><td>&quot;--&quot;</td><td>null</td><td>null</td><td>&quot;--&quot;</td><td>&quot;--&quot;</td><td>null</td><td>&quot;--&quot;</td><td>null</td><td>&quot;--&quot;</td><td>null</td><td>&quot;--&quot;</td><td>null</td><td>&quot;--&quot;</td><td>null</td><td>&quot;--&quot;</td><td>null</td><td>&quot;--&quot;</td><td>null</td><td>&quot;--&quot;</td><td>&quot;--&quot;</td><td>null</td><td>&quot;--&quot;</td><td>&quot;9&quot;</td><td>null</td><td>null</td><td>&quot;--&quot;</td><td>null</td><td>&quot;false&quot;</td><td>&quot;true&quot;</td><td>null</td><td>null</td><td>null</td><td>null</td><td>1983-03-07 00:00:00</td><td>1981-04-14 00:00:00</td><td>&quot;воронежский институт гипрокауч…</td></tr><tr><td>&quot;1323479&quot;</td><td>&quot;1987-07-15&quot;</td><td>&quot;3971160&quot;</td><td>&quot;1985-11-01&quot;</td><td>&quot;МУРАВЬЕВ ВАЛЕРИЙ АЛЕКСАНДРОВИЧ&quot;</td><td>null</td><td>null</td><td>null</td><td>null</td><td>null</td><td>&quot;Гибкий винтовой конвейер&quot;</td><td>&quot;--&quot;</td><td>null</td><td>&quot;--&quot;</td><td>null</td><td>null</td><td>&quot;--&quot;</td><td>null</td><td>null</td><td>&quot;--&quot;</td><td>&quot;--&quot;</td><td>null</td><td>&quot;--&quot;</td><td>null</td><td>&quot;--&quot;</td><td>null</td><td>&quot;--&quot;</td><td>null</td><td>&quot;--&quot;</td><td>null</td><td>&quot;--&quot;</td><td>null</td><td>&quot;--&quot;</td><td>null</td><td>&quot;--&quot;</td><td>&quot;--&quot;</td><td>null</td><td>&quot;1987-07-15&quot;</td><td>&quot;26&quot;</td><td>null</td><td>null</td><td>&quot;--&quot;</td><td>null</td><td>&quot;false&quot;</td><td>&quot;true&quot;</td><td>null</td><td>null</td><td>null</td><td>null</td><td>1987-07-15 00:00:00</td><td>1985-11-01 00:00:00</td><td>null</td></tr><tr><td>&quot;1733422&quot;</td><td>&quot;--&quot;</td><td>null</td><td>&quot;--&quot;</td><td>null</td><td>null</td><td>null</td><td>null</td><td>null</td><td>null</td><td>null</td><td>&quot;--&quot;</td><td>null</td><td>&quot;--&quot;</td><td>null</td><td>null</td><td>&quot;--&quot;</td><td>null</td><td>null</td><td>&quot;--&quot;</td><td>&quot;--&quot;</td><td>null</td><td>&quot;--&quot;</td><td>null</td><td>&quot;--&quot;</td><td>null</td><td>&quot;--&quot;</td><td>null</td><td>&quot;--&quot;</td><td>null</td><td>&quot;--&quot;</td><td>null</td><td>&quot;--&quot;</td><td>null</td><td>&quot;--&quot;</td><td>&quot;--&quot;</td><td>null</td><td>&quot;--&quot;</td><td>null</td><td>null</td><td>null</td><td>&quot;--&quot;</td><td>null</td><td>&quot;false&quot;</td><td>&quot;false&quot;</td><td>&quot;C04B  24/18;C04B  28/02;C04B  …</td><td>null</td><td>null</td><td>null</td><td>null</td><td>null</td><td>null</td></tr><tr><td>&hellip;</td><td>&hellip;</td><td>&hellip;</td><td>&hellip;</td><td>&hellip;</td><td>&hellip;</td><td>&hellip;</td><td>&hellip;</td><td>&hellip;</td><td>&hellip;</td><td>&hellip;</td><td>&hellip;</td><td>&hellip;</td><td>&hellip;</td><td>&hellip;</td><td>&hellip;</td><td>&hellip;</td><td>&hellip;</td><td>&hellip;</td><td>&hellip;</td><td>&hellip;</td><td>&hellip;</td><td>&hellip;</td><td>&hellip;</td><td>&hellip;</td><td>&hellip;</td><td>&hellip;</td><td>&hellip;</td><td>&hellip;</td><td>&hellip;</td><td>&hellip;</td><td>&hellip;</td><td>&hellip;</td><td>&hellip;</td><td>&hellip;</td><td>&hellip;</td><td>&hellip;</td><td>&hellip;</td><td>&hellip;</td><td>&hellip;</td><td>&hellip;</td><td>&hellip;</td><td>&hellip;</td><td>&hellip;</td><td>&hellip;</td><td>&hellip;</td><td>&hellip;</td><td>&hellip;</td><td>&hellip;</td><td>&hellip;</td><td>&hellip;</td><td>&hellip;</td></tr><tr><td>&quot;2818199&quot;</td><td>&quot;2024-04-25&quot;</td><td>&quot;2023120118&quot;</td><td>&quot;2022-01-28&quot;</td><td>&quot;НОБИЛЕ, Маттео (IT)ВЕРОНЕЗИ, Э…</td><td>null</td><td>&quot;Даниели и Ко Оффичине Мекканик…</td><td>&quot;DANIELI &amp;amp; C. OFFICINE MECC…</td><td>&quot;125196, АО &quot;Некстонс&quot;, БЦ &quot;Бел…</td><td>null</td><td>&quot;СИСТЕМА КОНТРОЛЯ РАБОЧИХ УСЛОВ…</td><td>&quot;2022-01-28&quot;</td><td>null</td><td>&quot;--&quot;</td><td>null</td><td>null</td><td>&quot;--&quot;</td><td>null</td><td>null</td><td>&quot;--&quot;</td><td>&quot;--&quot;</td><td>null</td><td>&quot;--&quot;</td><td>&quot;102021000001889&quot;</td><td>&quot;2021-01-29&quot;</td><td>&quot;IT&quot;</td><td>&quot;2023-08-29&quot;</td><td>&quot;IB 2022/050744&quot;</td><td>&quot;2022-01-28&quot;</td><td>&quot;WO 2022/162596&quot;</td><td>&quot;2022-08-04&quot;</td><td>null</td><td>&quot;--&quot;</td><td>null</td><td>&quot;--&quot;</td><td>&quot;--&quot;</td><td>null</td><td>&quot;2024-04-25&quot;</td><td>&quot;12&quot;</td><td>null</td><td>null</td><td>&quot;--&quot;</td><td>null</td><td>&quot;false&quot;</td><td>&quot;true&quot;</td><td>&quot;F16C  13/02;B21B  38/00;B21B  …</td><td>null</td><td>null</td><td>null</td><td>2024-04-25 00:00:00</td><td>2022-01-28 00:00:00</td><td>&quot;даниели и ко оффичине мекканик…</td></tr><tr><td>&quot;2818203&quot;</td><td>&quot;2024-04-25&quot;</td><td>&quot;2023121587&quot;</td><td>&quot;2021-10-20&quot;</td><td>&quot;ДЭН, Цань (CN)СЯ, Чжаохуэй (CN…</td><td>&quot;DENG, Can (CN)XIA, Zhaohui (CN…</td><td>&quot;ВИСДРИ ИНЖИНИРИНГ энд РИСЕРЧ И…</td><td>&quot;WISDRI ENGINEERING &amp;amp; RESEA…</td><td>&quot;123242, г. Москва, Кудринская …</td><td>null</td><td>&quot;СИСТЕМА ПОДАЧИ ЗАЩИТНЫХ ГАЗОВ …</td><td>&quot;2021-10-20&quot;</td><td>null</td><td>&quot;--&quot;</td><td>null</td><td>null</td><td>&quot;--&quot;</td><td>null</td><td>null</td><td>&quot;--&quot;</td><td>&quot;--&quot;</td><td>null</td><td>&quot;--&quot;</td><td>&quot;202110072081.6&quot;</td><td>&quot;2021-01-20&quot;</td><td>&quot;CN&quot;</td><td>&quot;2023-08-21&quot;</td><td>&quot;CN 2021/124904&quot;</td><td>&quot;2021-10-20&quot;</td><td>&quot;WO 2022/156282&quot;</td><td>&quot;2022-07-28&quot;</td><td>null</td><td>&quot;--&quot;</td><td>null</td><td>&quot;--&quot;</td><td>&quot;--&quot;</td><td>null</td><td>&quot;2024-04-25&quot;</td><td>&quot;12&quot;</td><td>null</td><td>null</td><td>&quot;--&quot;</td><td>null</td><td>&quot;false&quot;</td><td>&quot;true&quot;</td><td>&quot;C21D   9/56;C21D   1/26;C21D  …</td><td>null</td><td>null</td><td>null</td><td>2024-04-25 00:00:00</td><td>2021-10-20 00:00:00</td><td>&quot;висдри инжиниринг энд рисерч и…</td></tr><tr><td>&quot;2818231&quot;</td><td>&quot;2024-04-26&quot;</td><td>&quot;2023128716&quot;</td><td>&quot;2023-11-07&quot;</td><td>&quot;Догадкин Игорь Владимирович (R…</td><td>null</td><td>&quot;Догадкин Игорь Владимирович&quot;</td><td>null</td><td>&quot;117279, Москва, ул. Профсоюзна…</td><td>null</td><td>&quot;СПОСОБ УНИЧТОЖЕНИЯ ВЫСОКОСКОРО…</td><td>&quot;2023-11-07&quot;</td><td>null</td><td>&quot;--&quot;</td><td>null</td><td>null</td><td>&quot;--&quot;</td><td>null</td><td>null</td><td>&quot;--&quot;</td><td>&quot;--&quot;</td><td>null</td><td>&quot;--&quot;</td><td>null</td><td>&quot;--&quot;</td><td>null</td><td>&quot;--&quot;</td><td>null</td><td>&quot;--&quot;</td><td>null</td><td>&quot;--&quot;</td><td>null</td><td>&quot;--&quot;</td><td>null</td><td>&quot;--&quot;</td><td>&quot;--&quot;</td><td>null</td><td>&quot;2024-04-26&quot;</td><td>&quot;12&quot;</td><td>null</td><td>null</td><td>&quot;--&quot;</td><td>null</td><td>&quot;false&quot;</td><td>&quot;true&quot;</td><td>&quot;F41G   7/34&quot;</td><td>null</td><td>null</td><td>null</td><td>2024-04-26 00:00:00</td><td>2023-11-07 00:00:00</td><td>&quot;догадкин игорь владимирович&quot;</td></tr><tr><td>&quot;2818248&quot;</td><td>&quot;2024-04-26&quot;</td><td>&quot;2022122529&quot;</td><td>&quot;2020-10-01&quot;</td><td>&quot;АБЕ, Йосимуне (JP)КАНУКА, Нари…</td><td>&quot;ABE, Yoshimune (JP)KANUKA, Nar…</td><td>&quot;МИЦУБИСИ КЕМИКАЛ КОРПОРЕЙШН&quot;</td><td>&quot;MITSUBISHI CHEMICAL CORPORATIO…</td><td>&quot;129090, Москва, ул. Б. Спасска…</td><td>null</td><td>&quot;СПОСОБ ПРОИЗВОДСТВА КАТАЛИЗАТО…</td><td>&quot;2020-10-01&quot;</td><td>null</td><td>&quot;--&quot;</td><td>null</td><td>null</td><td>&quot;--&quot;</td><td>null</td><td>null</td><td>&quot;--&quot;</td><td>&quot;--&quot;</td><td>null</td><td>&quot;--&quot;</td><td>&quot;2020-014788&quot;</td><td>&quot;2020-01-31&quot;</td><td>&quot;JP&quot;</td><td>&quot;2022-08-31&quot;</td><td>&quot;JP 2020/037422&quot;</td><td>&quot;2020-10-01&quot;</td><td>&quot;WO 2021/152916&quot;</td><td>&quot;2021-08-05&quot;</td><td>null</td><td>&quot;--&quot;</td><td>null</td><td>&quot;--&quot;</td><td>&quot;--&quot;</td><td>null</td><td>&quot;2024-04-26&quot;</td><td>&quot;12&quot;</td><td>null</td><td>null</td><td>&quot;--&quot;</td><td>null</td><td>&quot;false&quot;</td><td>&quot;true&quot;</td><td>&quot;B01J  23/22;B01J  37/00;B01J  …</td><td>null</td><td>null</td><td>null</td><td>2024-04-26 00:00:00</td><td>2020-10-01 00:00:00</td><td>&quot;мицубиси кемикал корпорейшн&quot;</td></tr><tr><td>&quot;2818286&quot;</td><td>&quot;2024-04-27&quot;</td><td>&quot;2022102731&quot;</td><td>&quot;2020-07-10&quot;</td><td>&quot;ГЕРЦ, Ева (DE)ГЕРЦ, Лаура (DE)…</td><td>&quot;HERZ, Eva (DE)HERZ, Laura (DE)…</td><td>&quot;СОСЬЕТЕ ДЕ ПРОДЮИ НЕСТЛЕ С.А.&quot;</td><td>&quot;SOCIETE DES PRODUITS NESTLE S.…</td><td>&quot;101000, Москва, ул. Мясницкая,…</td><td>null</td><td>&quot;Способ приготовления продукта-…</td><td>&quot;2020-07-10&quot;</td><td>null</td><td>&quot;--&quot;</td><td>null</td><td>null</td><td>&quot;--&quot;</td><td>null</td><td>null</td><td>&quot;--&quot;</td><td>&quot;--&quot;</td><td>null</td><td>&quot;--&quot;</td><td>&quot;19186161.620163926.7&quot;</td><td>&quot;2020-03-18&quot;</td><td>&quot;EPEP&quot;</td><td>&quot;2022-02-04&quot;</td><td>&quot;EP 2020/069649&quot;</td><td>&quot;2020-07-10&quot;</td><td>&quot;WO 2021/009075&quot;</td><td>&quot;2021-01-21&quot;</td><td>null</td><td>&quot;--&quot;</td><td>null</td><td>&quot;--&quot;</td><td>&quot;2023-08-04&quot;</td><td>&quot;22&quot;</td><td>&quot;2024-04-27&quot;</td><td>&quot;12&quot;</td><td>null</td><td>null</td><td>&quot;--&quot;</td><td>null</td><td>&quot;false&quot;</td><td>&quot;true&quot;</td><td>&quot;A23J   3/26;A23J   3/14&quot;</td><td>null</td><td>null</td><td>null</td><td>2024-04-27 00:00:00</td><td>2020-07-10 00:00:00</td><td>&quot;сосьете де продюи нестле са&quot;</td></tr></tbody></table></div>"
      ]
     },
     "execution_count": 52,
     "metadata": {},
     "output_type": "execute_result"
    }
   ],
   "execution_count": 52
  },
  {
   "metadata": {
    "ExecuteTime": {
     "end_time": "2024-06-24T08:36:45.396761Z",
     "start_time": "2024-06-24T08:36:45.166714Z"
    }
   },
   "cell_type": "code",
   "source": "inventions_df = clean_patent_holders(inventions_df, 'patent holders')",
   "id": "a92c855ace2a7393",
   "outputs": [],
   "execution_count": 8
  },
  {
   "metadata": {
    "ExecuteTime": {
     "end_time": "2024-06-23T19:31:31.688173Z",
     "start_time": "2024-06-23T19:31:31.685743Z"
    }
   },
   "cell_type": "code",
   "source": "inventions_patent_holders = inventions_df['patent holders']",
   "id": "29ee3e6f158eedbc",
   "outputs": [],
   "execution_count": 23
  },
  {
   "metadata": {
    "ExecuteTime": {
     "end_time": "2024-06-23T19:31:54.570652Z",
     "start_time": "2024-06-23T19:31:54.558279Z"
    }
   },
   "cell_type": "code",
   "source": [
    "inventions_patent_holders = inventions_patent_holders.filter(inventions_patent_holders.is_not_null())\n",
    "inventions_patent_holders = inventions_patent_holders.unique()"
   ],
   "id": "ac3e81ce8c01d74d",
   "outputs": [],
   "execution_count": 25
  },
  {
   "metadata": {
    "ExecuteTime": {
     "end_time": "2024-06-23T19:33:42.817771Z",
     "start_time": "2024-06-23T19:33:42.814162Z"
    }
   },
   "cell_type": "code",
   "source": "inventions_patent_holders.shape",
   "id": "52966e90ac42d460",
   "outputs": [
    {
     "data": {
      "text/plain": [
       "(223320,)"
      ]
     },
     "execution_count": 40,
     "metadata": {},
     "output_type": "execute_result"
    }
   ],
   "execution_count": 40
  },
  {
   "metadata": {
    "ExecuteTime": {
     "end_time": "2024-06-24T08:36:51.649440Z",
     "start_time": "2024-06-24T08:36:51.599504Z"
    }
   },
   "cell_type": "code",
   "source": "industrial_designs_df = clean_patent_holders(industrial_designs_df, 'patent holders')",
   "id": "bbc47c53015cbec3",
   "outputs": [],
   "execution_count": 9
  },
  {
   "metadata": {
    "ExecuteTime": {
     "end_time": "2024-06-23T19:33:02.064602Z",
     "start_time": "2024-06-23T19:33:02.062590Z"
    }
   },
   "cell_type": "code",
   "source": "industrial_designs_patent_holders = industrial_designs_df['patent holders']",
   "id": "5677e7e8ea2cfeb",
   "outputs": [],
   "execution_count": 31
  },
  {
   "metadata": {
    "ExecuteTime": {
     "end_time": "2024-06-23T19:33:06.192834Z",
     "start_time": "2024-06-23T19:33:06.186785Z"
    }
   },
   "cell_type": "code",
   "source": [
    "industrial_designs_patent_holders = industrial_designs_patent_holders.filter(industrial_designs_patent_holders.is_not_null())\n",
    "industrial_designs_patent_holders = industrial_designs_patent_holders.unique()"
   ],
   "id": "5ee2097297e751f",
   "outputs": [],
   "execution_count": 32
  },
  {
   "metadata": {
    "ExecuteTime": {
     "end_time": "2024-06-23T19:33:34.305867Z",
     "start_time": "2024-06-23T19:33:34.302905Z"
    }
   },
   "cell_type": "code",
   "source": "industrial_designs_patent_holders.shape",
   "id": "805588f83f4024b2",
   "outputs": [
    {
     "data": {
      "text/plain": [
       "(28021,)"
      ]
     },
     "execution_count": 38,
     "metadata": {},
     "output_type": "execute_result"
    }
   ],
   "execution_count": 38
  },
  {
   "metadata": {
    "ExecuteTime": {
     "end_time": "2024-06-24T08:36:54.384499Z",
     "start_time": "2024-06-24T08:36:54.196474Z"
    }
   },
   "cell_type": "code",
   "source": "usefull_models_df = clean_patent_holders(usefull_models_df, 'patent holders')",
   "id": "c5ca949ac2b1285c",
   "outputs": [],
   "execution_count": 10
  },
  {
   "metadata": {
    "ExecuteTime": {
     "end_time": "2024-06-23T19:33:16.075727Z",
     "start_time": "2024-06-23T19:33:16.073777Z"
    }
   },
   "cell_type": "code",
   "source": "usefull_models_patent_holders = usefull_models_df['patent holders']",
   "id": "cac3bd2d9a954936",
   "outputs": [],
   "execution_count": 34
  },
  {
   "metadata": {
    "ExecuteTime": {
     "end_time": "2024-06-23T19:33:21.616392Z",
     "start_time": "2024-06-23T19:33:21.590851Z"
    }
   },
   "cell_type": "code",
   "source": [
    "usefull_models_patent_holders = usefull_models_patent_holders.filter(usefull_models_patent_holders.is_not_null())\n",
    "usefull_models_patent_holders = usefull_models_patent_holders.unique()"
   ],
   "id": "332ee981f31d7316",
   "outputs": [],
   "execution_count": 36
  },
  {
   "metadata": {
    "ExecuteTime": {
     "end_time": "2024-06-23T19:33:27.529177Z",
     "start_time": "2024-06-23T19:33:27.526379Z"
    }
   },
   "cell_type": "code",
   "source": "usefull_models_patent_holders.shape",
   "id": "b9900f7ad477bc23",
   "outputs": [
    {
     "data": {
      "text/plain": [
       "(84029,)"
      ]
     },
     "execution_count": 37,
     "metadata": {},
     "output_type": "execute_result"
    }
   ],
   "execution_count": 37
  },
  {
   "metadata": {
    "ExecuteTime": {
     "end_time": "2024-06-23T19:33:54.251175Z",
     "start_time": "2024-06-23T19:33:54.248523Z"
    }
   },
   "cell_type": "code",
   "source": [
    "patent_holders_combined = pl.concat([\n",
    "    inventions_patent_holders,\n",
    "    industrial_designs_patent_holders,\n",
    "    usefull_models_patent_holders\n",
    "])"
   ],
   "id": "8e334f3234e7d138",
   "outputs": [],
   "execution_count": 41
  },
  {
   "metadata": {
    "ExecuteTime": {
     "end_time": "2024-06-23T19:34:04.065256Z",
     "start_time": "2024-06-23T19:34:04.062586Z"
    }
   },
   "cell_type": "code",
   "source": "patent_holders_combined.shape",
   "id": "7ac53ef3fa403044",
   "outputs": [
    {
     "data": {
      "text/plain": [
       "(335370,)"
      ]
     },
     "execution_count": 43,
     "metadata": {},
     "output_type": "execute_result"
    }
   ],
   "execution_count": 43
  },
  {
   "metadata": {
    "ExecuteTime": {
     "end_time": "2024-06-23T19:34:01.073316Z",
     "start_time": "2024-06-23T19:34:01.032043Z"
    }
   },
   "cell_type": "code",
   "source": "patent_holders_unique = patent_holders_combined.unique()",
   "id": "42a64422506d61ee",
   "outputs": [],
   "execution_count": 42
  },
  {
   "metadata": {
    "ExecuteTime": {
     "end_time": "2024-06-23T19:34:06.747301Z",
     "start_time": "2024-06-23T19:34:06.743825Z"
    }
   },
   "cell_type": "code",
   "source": "patent_holders_unique.shape",
   "id": "2e2f57154506f8b9",
   "outputs": [
    {
     "data": {
      "text/plain": [
       "(304377,)"
      ]
     },
     "execution_count": 44,
     "metadata": {},
     "output_type": "execute_result"
    }
   ],
   "execution_count": 44
  },
  {
   "metadata": {
    "ExecuteTime": {
     "end_time": "2024-06-23T19:34:49.840228Z",
     "start_time": "2024-06-23T19:34:49.837396Z"
    }
   },
   "cell_type": "code",
   "source": "patent_holders_unique",
   "id": "b560771ca4e6d899",
   "outputs": [
    {
     "data": {
      "text/plain": [
       "shape: (304_377,)\n",
       "Series: 'patent holders' [str]\n",
       "[\n",
       "\t\"Федеральное государственное бю…\n",
       "\t\"Гулевский Анатолий Николаевич\"\n",
       "\t\"Сироткин Сергей НиколаевичВоро…\n",
       "\t\"Мотыльков Виктор ВалентиновичБ…\n",
       "\t\"федеральное государственное бю…\n",
       "\t…\n",
       "\t\"Квасенков Олег ИвановичКравцов…\n",
       "\t\"Скрипка Виталий ЛеонидовичКарл…\n",
       "\t\"Аксенов Евгений Юрьевич\"\n",
       "\t\"Федеральное государственное бю…\n",
       "\t\"Суслина Алла Кузьминична\"\n",
       "]"
      ],
      "text/html": [
       "<div><style>\n",
       ".dataframe > thead > tr,\n",
       ".dataframe > tbody > tr {\n",
       "  text-align: right;\n",
       "  white-space: pre-wrap;\n",
       "}\n",
       "</style>\n",
       "<small>shape: (304_377,)</small><table border=\"1\" class=\"dataframe\"><thead><tr><th>patent holders</th></tr><tr><td>str</td></tr></thead><tbody><tr><td>&quot;Федеральное государственное бю…</td></tr><tr><td>&quot;Гулевский Анатолий Николаевич&quot;</td></tr><tr><td>&quot;Сироткин Сергей НиколаевичВоро…</td></tr><tr><td>&quot;Мотыльков Виктор ВалентиновичБ…</td></tr><tr><td>&quot;федеральное государственное бю…</td></tr><tr><td>&hellip;</td></tr><tr><td>&quot;Квасенков Олег ИвановичКравцов…</td></tr><tr><td>&quot;Скрипка Виталий ЛеонидовичКарл…</td></tr><tr><td>&quot;Аксенов Евгений Юрьевич&quot;</td></tr><tr><td>&quot;Федеральное государственное бю…</td></tr><tr><td>&quot;Суслина Алла Кузьминична&quot;</td></tr></tbody></table></div>"
      ]
     },
     "execution_count": 45,
     "metadata": {},
     "output_type": "execute_result"
    }
   ],
   "execution_count": 45
  },
  {
   "metadata": {
    "ExecuteTime": {
     "end_time": "2024-06-23T19:35:25.961042Z",
     "start_time": "2024-06-23T19:35:25.958533Z"
    }
   },
   "cell_type": "code",
   "source": "patent_holders_df = patent_holders_unique.to_frame()",
   "id": "a1c948715e751cb2",
   "outputs": [],
   "execution_count": 47
  },
  {
   "metadata": {
    "ExecuteTime": {
     "end_time": "2024-06-23T19:35:59.715866Z",
     "start_time": "2024-06-23T19:35:59.687046Z"
    }
   },
   "cell_type": "code",
   "source": "patent_holders_df.write_csv('/Users/foryourselfand/Documents/patent_hack/data/patent_holders.csv')",
   "id": "48ff6c3ebd1cd201",
   "outputs": [],
   "execution_count": 51
  },
  {
   "metadata": {},
   "cell_type": "code",
   "outputs": [],
   "execution_count": null,
   "source": "",
   "id": "2a50d2c38523bd84"
  }
 ],
 "metadata": {
  "kernelspec": {
   "display_name": "Python 3",
   "language": "python",
   "name": "python3"
  },
  "language_info": {
   "codemirror_mode": {
    "name": "ipython",
    "version": 2
   },
   "file_extension": ".py",
   "mimetype": "text/x-python",
   "name": "python",
   "nbconvert_exporter": "python",
   "pygments_lexer": "ipython2",
   "version": "2.7.6"
  }
 },
 "nbformat": 4,
 "nbformat_minor": 5
}
